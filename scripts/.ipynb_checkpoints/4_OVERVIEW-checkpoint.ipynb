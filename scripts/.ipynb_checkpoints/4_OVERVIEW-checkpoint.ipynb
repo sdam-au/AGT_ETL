{
 "cells": [
  {
   "cell_type": "markdown",
   "metadata": {
    "colab_type": "text",
    "id": "EbixMMZchOgn"
   },
   "source": [
    "# Requirements"
   ]
  },
  {
   "cell_type": "code",
   "execution_count": 1,
   "metadata": {
    "colab": {
     "base_uri": "https://localhost:8080/",
     "height": 272
    },
    "colab_type": "code",
    "executionInfo": {
     "elapsed": 9878,
     "status": "ok",
     "timestamp": 1588779837403,
     "user": {
      "displayName": "Vojtěch Kaše",
      "photoUrl": "https://lh3.googleusercontent.com/a-/AOh14Ggz3jS9e7I3GdIEbyBKFtqr9tPdNCwyLBEJwbK8cw=s64",
      "userId": "01399835024022498543"
     },
     "user_tz": -120
    },
    "id": "QWRXmeoNhLsD",
    "outputId": "ae5620d8-2479-4587-c6ed-cdf64706b2a3"
   },
   "outputs": [],
   "source": [
    "import os\n",
    "import json\n",
    "import pandas as pd\n",
    "import numpy as np\n",
    "import json\n",
    "import logging ### to monitor the code\n",
    "from bs4 import BeautifulSoup\n",
    "import xml.etree.cElementTree as ET\n",
    "import pickle\n",
    "import math\n",
    "import random\n",
    "import sys\n",
    "import csv\n",
    "import unicodedata\n",
    "import requests\n",
    "from urllib.request import urlopen \n",
    "import io\n",
    "import getpass\n",
    "import re\n",
    "from collections import defaultdict\n",
    "from itertools import islice # to iterate through dicts\n",
    "\n",
    "import nltk\n",
    "from nltk.collocations import *\n",
    "\n",
    "\n",
    "### plotting\n",
    "### to use latex (important for greek fonts)\n",
    "#! apt-get install texlive-latex-recommended \n",
    "#! apt install texlive-latex-extra\n",
    "#! apt install dvipng\n",
    "import matplotlib as mpl\n",
    "import matplotlib.pyplot as plt\n",
    "import seaborn as sns\n",
    "\n",
    "from scipy import stats\n",
    "\n",
    "import gspread\n",
    "from gspread_dataframe import get_as_dataframe, set_with_dataframe\n",
    "from google.oauth2 import service_account # based on google-auth library\n",
    "\n",
    "import sddk"
   ]
  },
  {
   "cell_type": "code",
   "execution_count": 2,
   "metadata": {
    "colab": {
     "base_uri": "https://localhost:8080/",
     "height": 85
    },
    "colab_type": "code",
    "executionInfo": {
     "elapsed": 11242,
     "status": "ok",
     "timestamp": 1588774498489,
     "user": {
      "displayName": "Vojtěch Kaše",
      "photoUrl": "https://lh3.googleusercontent.com/a-/AOh14Ggz3jS9e7I3GdIEbyBKFtqr9tPdNCwyLBEJwbK8cw=s64",
      "userId": "01399835024022498543"
     },
     "user_tz": -120
    },
    "id": "cmC88KhGh7n2",
    "outputId": "4356c03e-47e1-4a6b-dc69-cf21efc97e0f"
   },
   "outputs": [
    {
     "name": "stdout",
     "output_type": "stream",
     "text": [
      "sciencedata.dk username (format '123456@au.dk'): 648597@au.dk\n",
      "sciencedata.dk password: ········\n",
      "connection with shared folder established with you as its owner\n",
      "endpoint variable has been configured to: https://sciencedata.dk/files/SDAM_root/\n"
     ]
    }
   ],
   "source": [
    "conf = sddk.configure(\"SDAM_root\", \"648597@au.dk\")"
   ]
  },
  {
   "cell_type": "code",
   "execution_count": 63,
   "metadata": {
    "colab": {},
    "colab_type": "code",
    "id": "_wKUMZ-yjvEn"
   },
   "outputs": [],
   "source": [
    "# to access gsheet, you need Google Service Account key json file\n",
    "# I have mine located in my personal space on sciencedata.dk, so I read it from there:\n",
    "\n",
    "# (1) read the file and parse its content\n",
    "file_data = conf[0].get(\"https://sciencedata.dk/files/ServiceAccountsKey.json\").json()\n",
    "# (2) transform the content into crendentials object\n",
    "credentials = service_account.Credentials.from_service_account_info(file_data)\n",
    "# (3) specify your usage of the credentials\n",
    "scoped_credentials = credentials.with_scopes(['https://spreadsheets.google.com/feeds', 'https://www.googleapis.com/auth/drive'])\n",
    "# (4) use the constrained credentials for authentication of gspread package\n",
    "gc = gspread.Client(auth=scoped_credentials)\n",
    "\n",
    "AGT_overview = gc.open_by_url(\"https://docs.google.com/spreadsheets/d/1iVta_FuEDgUM_Lf_yByrdbbXNoVH_dnVZs6QRyYv1NM/edit?usp=sharing\")\n",
    "\n",
    "CEMRAM_OVERVIEW = gc.open_by_url(\"https://docs.google.com/spreadsheets/d/1W5lBT2vxPXJZP06dRacNgEaM9wF9UlFnxiPq28vJJTg/edit?usp=sharing\")\n",
    "\n",
    "# AGT_metadata = gc.open_by_url(\"https://docs.google.com/spreadsheets/d/1hEUnL3E07F-EnE3wYnk1V91aXfPDrcnhFHKjD-04CM0/edit?usp=sharing\")"
   ]
  },
  {
   "cell_type": "code",
   "execution_count": 4,
   "metadata": {},
   "outputs": [],
   "source": [
    "# read the dataset\n",
    "AGT = sddk.read_file(\"SDAM_data/AGT/AGT_20201020.json\", \"df\", conf)"
   ]
  },
  {
   "cell_type": "markdown",
   "metadata": {},
   "source": [
    "# Export latest data for improvement..."
   ]
  },
  {
   "cell_type": "code",
   "execution_count": 66,
   "metadata": {},
   "outputs": [
    {
     "data": {
      "text/plain": [
       "Index(['filename', 'author', 'title', 'string', 'author_id', 'doc_id',\n",
       "       'raw_date', 'date_avr', 'date_probs', 'date_manual', 'provenience',\n",
       "       'wordcount', 'lemmata', 'lemmata_wordcount', 'lemmatized_sentences'],\n",
       "      dtype='object')"
      ]
     },
     "execution_count": 66,
     "metadata": {},
     "output_type": "execute_result"
    }
   ],
   "source": [
    "AGT.columns"
   ]
  },
  {
   "cell_type": "code",
   "execution_count": null,
   "metadata": {},
   "outputs": [],
   "source": [
    "set_with_dataframe(CEMRAM_OVERVIEW.add_worksheet(\"works_overview\", 1, 1), AGT.drop([\"string\", \"lemmata\", \"lemmatized_sentences\"], axis=1))"
   ]
  },
  {
   "cell_type": "markdown",
   "metadata": {},
   "source": [
    "# A preliminary overview"
   ]
  },
  {
   "cell_type": "code",
   "execution_count": 5,
   "metadata": {
    "colab": {
     "base_uri": "https://localhost:8080/",
     "height": 34
    },
    "colab_type": "code",
    "executionInfo": {
     "elapsed": 522,
     "status": "ok",
     "timestamp": 1588777528756,
     "user": {
      "displayName": "Vojtěch Kaše",
      "photoUrl": "https://lh3.googleusercontent.com/a-/AOh14Ggz3jS9e7I3GdIEbyBKFtqr9tPdNCwyLBEJwbK8cw=s64",
      "userId": "01399835024022498543"
     },
     "user_tz": -120
    },
    "id": "aEzEZucsmjnD",
    "outputId": "b91903fb-890c-4c62-d632-c06c30f86705",
    "scrolled": true
   },
   "outputs": [
    {
     "data": {
      "text/plain": [
       "1403"
      ]
     },
     "execution_count": 5,
     "metadata": {},
     "output_type": "execute_result"
    }
   ],
   "source": [
    "len(AGT)"
   ]
  },
  {
   "cell_type": "code",
   "execution_count": 6,
   "metadata": {
    "colab": {
     "base_uri": "https://localhost:8080/",
     "height": 34
    },
    "colab_type": "code",
    "executionInfo": {
     "elapsed": 555,
     "status": "ok",
     "timestamp": 1588777531455,
     "user": {
      "displayName": "Vojtěch Kaše",
      "photoUrl": "https://lh3.googleusercontent.com/a-/AOh14Ggz3jS9e7I3GdIEbyBKFtqr9tPdNCwyLBEJwbK8cw=s64",
      "userId": "01399835024022498543"
     },
     "user_tz": -120
    },
    "id": "XoO68J0ynnVG",
    "outputId": "215252db-9e8f-45f1-8d82-63e48d5bf714"
   },
   "outputs": [
    {
     "data": {
      "text/plain": [
       "34587206"
      ]
     },
     "execution_count": 6,
     "metadata": {},
     "output_type": "execute_result"
    }
   ],
   "source": [
    "### total number of words\n",
    "AGT[\"wordcount\"].sum()"
   ]
  },
  {
   "cell_type": "code",
   "execution_count": 7,
   "metadata": {
    "colab": {
     "base_uri": "https://localhost:8080/",
     "height": 34
    },
    "colab_type": "code",
    "executionInfo": {
     "elapsed": 392,
     "status": "ok",
     "timestamp": 1588777532517,
     "user": {
      "displayName": "Vojtěch Kaše",
      "photoUrl": "https://lh3.googleusercontent.com/a-/AOh14Ggz3jS9e7I3GdIEbyBKFtqr9tPdNCwyLBEJwbK8cw=s64",
      "userId": "01399835024022498543"
     },
     "user_tz": -120
    },
    "id": "1IsydSU-NM0N",
    "outputId": "dfceecf7-bd27-42ef-b087-47a6cec1e16c"
   },
   "outputs": [
    {
     "data": {
      "text/plain": [
       "1321"
      ]
     },
     "execution_count": 7,
     "metadata": {},
     "output_type": "execute_result"
    }
   ],
   "source": [
    "len(AGT[AGT[\"date_avr\"].notnull()])"
   ]
  },
  {
   "cell_type": "code",
   "execution_count": 9,
   "metadata": {
    "colab": {
     "base_uri": "https://localhost:8080/",
     "height": 88
    },
    "colab_type": "code",
    "executionInfo": {
     "elapsed": 508,
     "status": "ok",
     "timestamp": 1588777534203,
     "user": {
      "displayName": "Vojtěch Kaše",
      "photoUrl": "https://lh3.googleusercontent.com/a-/AOh14Ggz3jS9e7I3GdIEbyBKFtqr9tPdNCwyLBEJwbK8cw=s64",
      "userId": "01399835024022498543"
     },
     "user_tz": -120
    },
    "id": "IWMyWP2gUndc",
    "outputId": "93b6b4cb-d443-4929-b4ee-3ff6839710cc"
   },
   "outputs": [
    {
     "name": "stderr",
     "output_type": "stream",
     "text": [
      "/home/kasev/.local/lib/python3.6/site-packages/ipykernel_launcher.py:3: UserWarning: Boolean Series key will be reindexed to match DataFrame index.\n",
      "  This is separate from the ipykernel package so we can avoid doing imports until\n"
     ]
    },
    {
     "data": {
      "text/plain": [
       "1219"
      ]
     },
     "execution_count": 9,
     "metadata": {},
     "output_type": "execute_result"
    }
   ],
   "source": [
    "# number of documents before the end of the 4th c. CE\n",
    "\n",
    "len(AGT[AGT[\"date_avr\"].notnull()][AGT[\"date_avr\"] < 4])"
   ]
  },
  {
   "cell_type": "markdown",
   "metadata": {
    "colab_type": "text",
    "id": "55PLVEGBQlZs"
   },
   "source": [
    "# Comparing different approaches to dating"
   ]
  },
  {
   "cell_type": "code",
   "execution_count": 15,
   "metadata": {},
   "outputs": [
    {
     "data": {
      "text/html": [
       "<div>\n",
       "<style scoped>\n",
       "    .dataframe tbody tr th:only-of-type {\n",
       "        vertical-align: middle;\n",
       "    }\n",
       "\n",
       "    .dataframe tbody tr th {\n",
       "        vertical-align: top;\n",
       "    }\n",
       "\n",
       "    .dataframe thead th {\n",
       "        text-align: right;\n",
       "    }\n",
       "</style>\n",
       "<table border=\"1\" class=\"dataframe\">\n",
       "  <thead>\n",
       "    <tr style=\"text-align: right;\">\n",
       "      <th></th>\n",
       "      <th>filename</th>\n",
       "      <th>author</th>\n",
       "      <th>title</th>\n",
       "      <th>string</th>\n",
       "      <th>author_id</th>\n",
       "      <th>doc_id</th>\n",
       "      <th>raw_date</th>\n",
       "      <th>date_avr</th>\n",
       "      <th>date_probs</th>\n",
       "      <th>date_manual</th>\n",
       "      <th>provenience</th>\n",
       "      <th>wordcount</th>\n",
       "      <th>lemmata</th>\n",
       "      <th>lemmata_wordcount</th>\n",
       "      <th>lemmatized_sentences</th>\n",
       "    </tr>\n",
       "  </thead>\n",
       "  <tbody>\n",
       "    <tr>\n",
       "      <th>0</th>\n",
       "      <td>tlg0001.tlg001.perseus-grc2.xml</td>\n",
       "      <td>Apollonius Rhodius</td>\n",
       "      <td>Argonautica; Argonautica</td>\n",
       "      <td>ἀρχόμενος σέο, Φοῖβε, παλαιγενέων κλέα φωτῶν μ...</td>\n",
       "      <td>tlg0001</td>\n",
       "      <td>tlg0001.tlg001</td>\n",
       "      <td>3 B.C.</td>\n",
       "      <td>-2.5</td>\n",
       "      <td>{'-2.5': 1}</td>\n",
       "      <td>-2.5</td>\n",
       "      <td>pagan</td>\n",
       "      <td>38822</td>\n",
       "      <td>[σέο, φοῖβος, παλαιγενής, κλέος, φάος, μιμνήσκ...</td>\n",
       "      <td>24237</td>\n",
       "      <td>[[σέο, φοῖβος, παλαιγενής, κλέος, φάος, μιμνήσ...</td>\n",
       "    </tr>\n",
       "    <tr>\n",
       "      <th>1</th>\n",
       "      <td>tlg0003.tlg001.perseus-grc2.xml</td>\n",
       "      <td>Thucydides</td>\n",
       "      <td>The Peloponnesian War; Historiae in two volumes</td>\n",
       "      <td>Θουκυδίδης Ἀθηναῖος ξυνέγραψε τὸν πόλεμον τῶν ...</td>\n",
       "      <td>tlg0003</td>\n",
       "      <td>tlg0003.tlg001</td>\n",
       "      <td>5 B.C.</td>\n",
       "      <td>-4.5</td>\n",
       "      <td>{'-4.5': 1}</td>\n",
       "      <td>-4.5</td>\n",
       "      <td>pagan</td>\n",
       "      <td>150160</td>\n",
       "      <td>[θουκυδίδης, Ἀθηναῖος, συγγράφω, πόλεμος, Πελο...</td>\n",
       "      <td>68166</td>\n",
       "      <td>[[θουκυδίδης, Ἀθηναῖος, συγγράφω, πόλεμος, Πελ...</td>\n",
       "    </tr>\n",
       "    <tr>\n",
       "      <th>2</th>\n",
       "      <td>tlg0004.tlg001.perseus-grc1.xml</td>\n",
       "      <td>Diogenes Laertius</td>\n",
       "      <td>Lives of Eminent Philosophers; Lives of Eminen...</td>\n",
       "      <td>ΒΙΩΝ ΚΑΙ ΓΝΩΜΩΝ ΤΩΝ ΕΝ ΦΙΛΟΣΟΦΙΑΙ ΕΥΔΟΚΙΜΗΣΑΝΤ...</td>\n",
       "      <td>tlg0004</td>\n",
       "      <td>tlg0004.tlg001</td>\n",
       "      <td>A.D. 3</td>\n",
       "      <td>2.5</td>\n",
       "      <td>{'2.5': 1}</td>\n",
       "      <td>NaN</td>\n",
       "      <td></td>\n",
       "      <td>111053</td>\n",
       "      <td>[βία, ἀκή, γνώμη, ἕνος, φιλοσοφία, εὐδοκιμέω, ...</td>\n",
       "      <td>55580</td>\n",
       "      <td>[[βία, ἀκή, γνώμη, ἕνος, φιλοσοφία, εὐδοκιμέω,...</td>\n",
       "    </tr>\n",
       "    <tr>\n",
       "      <th>3</th>\n",
       "      <td>tlg0005.tlg001.perseus-grc1.xml</td>\n",
       "      <td>Theocritus</td>\n",
       "      <td>Idylls ; Idylls</td>\n",
       "      <td>Θύρσις ἢ ᾠδή Θύρσις ̔Αδύ τι τὸ ψιθύρισμα καὶ ἁ...</td>\n",
       "      <td>tlg0005</td>\n",
       "      <td>tlg0005.tlg001</td>\n",
       "      <td>4-3 B.C.</td>\n",
       "      <td>-3.0</td>\n",
       "      <td>{'-3.5': 0.5, '-2.5': 0.5}</td>\n",
       "      <td>NaN</td>\n",
       "      <td></td>\n",
       "      <td>19514</td>\n",
       "      <td>[θύρσις, ἀοιδή, θύρσις, αδύ, ψιθύρισμα, πίτυς,...</td>\n",
       "      <td>12478</td>\n",
       "      <td>[[θύρσις, ἀοιδή, θύρσις, αδύ, ψιθύρισμα, πίτυς...</td>\n",
       "    </tr>\n",
       "    <tr>\n",
       "      <th>4</th>\n",
       "      <td>tlg0005.tlg002.perseus-grc1.xml</td>\n",
       "      <td>Theocritus</td>\n",
       "      <td>Epigrams ; Idylls</td>\n",
       "      <td>α παλ ϝι.336 τὰ ῥόδα τὰ δροσόεντα καὶ ἁ κατάπυ...</td>\n",
       "      <td>tlg0005</td>\n",
       "      <td>tlg0005.tlg002</td>\n",
       "      <td>4-3 B.C.</td>\n",
       "      <td>-3.0</td>\n",
       "      <td>{'-3.5': 0.5, '-2.5': 0.5}</td>\n",
       "      <td>NaN</td>\n",
       "      <td></td>\n",
       "      <td>1807</td>\n",
       "      <td>[παλ, ϝι, ῥοδῆ, δροσόεντα, κατάπυκνος, ἐκεῖνος...</td>\n",
       "      <td>1137</td>\n",
       "      <td>[[παλ, ϝι], [ῥοδῆ, δροσόεντα, κατάπυκνος, ἐκεῖ...</td>\n",
       "    </tr>\n",
       "  </tbody>\n",
       "</table>\n",
       "</div>"
      ],
      "text/plain": [
       "                          filename              author  \\\n",
       "0  tlg0001.tlg001.perseus-grc2.xml  Apollonius Rhodius   \n",
       "1  tlg0003.tlg001.perseus-grc2.xml          Thucydides   \n",
       "2  tlg0004.tlg001.perseus-grc1.xml   Diogenes Laertius   \n",
       "3  tlg0005.tlg001.perseus-grc1.xml          Theocritus   \n",
       "4  tlg0005.tlg002.perseus-grc1.xml          Theocritus   \n",
       "\n",
       "                                               title  \\\n",
       "0                           Argonautica; Argonautica   \n",
       "1    The Peloponnesian War; Historiae in two volumes   \n",
       "2  Lives of Eminent Philosophers; Lives of Eminen...   \n",
       "3                                    Idylls ; Idylls   \n",
       "4                                  Epigrams ; Idylls   \n",
       "\n",
       "                                              string author_id  \\\n",
       "0  ἀρχόμενος σέο, Φοῖβε, παλαιγενέων κλέα φωτῶν μ...   tlg0001   \n",
       "1  Θουκυδίδης Ἀθηναῖος ξυνέγραψε τὸν πόλεμον τῶν ...   tlg0003   \n",
       "2  ΒΙΩΝ ΚΑΙ ΓΝΩΜΩΝ ΤΩΝ ΕΝ ΦΙΛΟΣΟΦΙΑΙ ΕΥΔΟΚΙΜΗΣΑΝΤ...   tlg0004   \n",
       "3  Θύρσις ἢ ᾠδή Θύρσις ̔Αδύ τι τὸ ψιθύρισμα καὶ ἁ...   tlg0005   \n",
       "4  α παλ ϝι.336 τὰ ῥόδα τὰ δροσόεντα καὶ ἁ κατάπυ...   tlg0005   \n",
       "\n",
       "           doc_id  raw_date  date_avr                  date_probs  \\\n",
       "0  tlg0001.tlg001    3 B.C.      -2.5                 {'-2.5': 1}   \n",
       "1  tlg0003.tlg001    5 B.C.      -4.5                 {'-4.5': 1}   \n",
       "2  tlg0004.tlg001    A.D. 3       2.5                  {'2.5': 1}   \n",
       "3  tlg0005.tlg001  4-3 B.C.      -3.0  {'-3.5': 0.5, '-2.5': 0.5}   \n",
       "4  tlg0005.tlg002  4-3 B.C.      -3.0  {'-3.5': 0.5, '-2.5': 0.5}   \n",
       "\n",
       "   date_manual provenience  wordcount  \\\n",
       "0         -2.5       pagan      38822   \n",
       "1         -4.5       pagan     150160   \n",
       "2          NaN                 111053   \n",
       "3          NaN                  19514   \n",
       "4          NaN                   1807   \n",
       "\n",
       "                                             lemmata  lemmata_wordcount  \\\n",
       "0  [σέο, φοῖβος, παλαιγενής, κλέος, φάος, μιμνήσκ...              24237   \n",
       "1  [θουκυδίδης, Ἀθηναῖος, συγγράφω, πόλεμος, Πελο...              68166   \n",
       "2  [βία, ἀκή, γνώμη, ἕνος, φιλοσοφία, εὐδοκιμέω, ...              55580   \n",
       "3  [θύρσις, ἀοιδή, θύρσις, αδύ, ψιθύρισμα, πίτυς,...              12478   \n",
       "4  [παλ, ϝι, ῥοδῆ, δροσόεντα, κατάπυκνος, ἐκεῖνος...               1137   \n",
       "\n",
       "                                lemmatized_sentences  \n",
       "0  [[σέο, φοῖβος, παλαιγενής, κλέος, φάος, μιμνήσ...  \n",
       "1  [[θουκυδίδης, Ἀθηναῖος, συγγράφω, πόλεμος, Πελ...  \n",
       "2  [[βία, ἀκή, γνώμη, ἕνος, φιλοσοφία, εὐδοκιμέω,...  \n",
       "3  [[θύρσις, ἀοιδή, θύρσις, αδύ, ψιθύρισμα, πίτυς...  \n",
       "4  [[παλ, ϝι], [ῥοδῆ, δροσόεντα, κατάπυκνος, ἐκεῖ...  "
      ]
     },
     "execution_count": 15,
     "metadata": {},
     "output_type": "execute_result"
    }
   ],
   "source": [
    "AGT.head(5)"
   ]
  },
  {
   "cell_type": "code",
   "execution_count": 10,
   "metadata": {
    "colab": {
     "base_uri": "https://localhost:8080/",
     "height": 34
    },
    "colab_type": "code",
    "executionInfo": {
     "elapsed": 594,
     "status": "ok",
     "timestamp": 1588778063000,
     "user": {
      "displayName": "Vojtěch Kaše",
      "photoUrl": "https://lh3.googleusercontent.com/a-/AOh14Ggz3jS9e7I3GdIEbyBKFtqr9tPdNCwyLBEJwbK8cw=s64",
      "userId": "01399835024022498543"
     },
     "user_tz": -120
    },
    "id": "ZLhYXQJrG5rW",
    "outputId": "3821c39b-7e65-4e2f-8b68-8b9cd13af74a"
   },
   "outputs": [
    {
     "data": {
      "text/plain": [
       "[-7.5, -6.5, -5.5, -4.5, -3.5, -2.5, -1.5, -0.5, 0.5, 1.5, 2.5, 3.5]"
      ]
     },
     "execution_count": 10,
     "metadata": {},
     "output_type": "execute_result"
    }
   ],
   "source": [
    "centuries = [num + 0.5 for num in range(-8, 4)]\n",
    "centuries"
   ]
  },
  {
   "cell_type": "code",
   "execution_count": 11,
   "metadata": {
    "colab": {
     "base_uri": "https://localhost:8080/",
     "height": 54
    },
    "colab_type": "code",
    "executionInfo": {
     "elapsed": 634,
     "status": "ok",
     "timestamp": 1588778064713,
     "user": {
      "displayName": "Vojtěch Kaše",
      "photoUrl": "https://lh3.googleusercontent.com/a-/AOh14Ggz3jS9e7I3GdIEbyBKFtqr9tPdNCwyLBEJwbK8cw=s64",
      "userId": "01399835024022498543"
     },
     "user_tz": -120
    },
    "id": "9-1YgE3SPtAO",
    "outputId": "2931af8b-cf01-4d34-a6ae-5763589816de"
   },
   "outputs": [
    {
     "name": "stdout",
     "output_type": "stream",
     "text": [
      "[-7.5, -7.0, -6.5, -6.0, -5.5, -5.0, -4.5, -4.0, -3.5, -3.0, -2.5, -2.0, -1.5, -1.0, -0.5, 0.0, 0.5, 1.0, 1.5, 2.0, 2.5, 3.0, 3.5]\n"
     ]
    }
   ],
   "source": [
    "dates = [num /10 for num in range(-75, 40, 5)]\n",
    "print(dates)"
   ]
  },
  {
   "cell_type": "code",
   "execution_count": 21,
   "metadata": {},
   "outputs": [
    {
     "data": {
      "text/plain": [
       "1"
      ]
     },
     "execution_count": 21,
     "metadata": {},
     "output_type": "execute_result"
    }
   ],
   "source": [
    "AGT[\"date_probs\"].tolist()[0][\"-2.5\"]"
   ]
  },
  {
   "cell_type": "code",
   "execution_count": 38,
   "metadata": {
    "colab": {
     "base_uri": "https://localhost:8080/",
     "height": 221
    },
    "colab_type": "code",
    "executionInfo": {
     "elapsed": 541,
     "status": "ok",
     "timestamp": 1588778883842,
     "user": {
      "displayName": "Vojtěch Kaše",
      "photoUrl": "https://lh3.googleusercontent.com/a-/AOh14Ggz3jS9e7I3GdIEbyBKFtqr9tPdNCwyLBEJwbK8cw=s64",
      "userId": "01399835024022498543"
     },
     "user_tz": -120
    },
    "id": "Z3wTDxQ5SwLA",
    "outputId": "0d73cc22-8120-48f6-cc72-5652f7efffea"
   },
   "outputs": [
    {
     "data": {
      "text/plain": [
       "{-7.5: 6.8331,\n",
       " -6.5: 3.8331,\n",
       " -5.5: 8.8331,\n",
       " -4.5: 135.0,\n",
       " -3.5: 228.5,\n",
       " -2.5: 39.25,\n",
       " -1.5: 12.958400000000001,\n",
       " -0.5: 38.8959,\n",
       " 0.5: 163.8647,\n",
       " 1.5: 437.5991,\n",
       " 2.5: 74.9664,\n",
       " 3.5: 67.9003}"
      ]
     },
     "execution_count": 38,
     "metadata": {},
     "output_type": "execute_result"
    }
   ],
   "source": [
    "centuries_aor = {}\n",
    "def get_prob(x):\n",
    "    try: return x[str(century)]\n",
    "    except: return 0\n",
    "for century in centuries:\n",
    "    centuries_aor[century] =  AGT[\"date_probs\"].apply(get_prob).sum()\n",
    "centuries_aor"
   ]
  },
  {
   "cell_type": "code",
   "execution_count": 39,
   "metadata": {},
   "outputs": [
    {
     "data": {
      "text/html": [
       "<div>\n",
       "<style scoped>\n",
       "    .dataframe tbody tr th:only-of-type {\n",
       "        vertical-align: middle;\n",
       "    }\n",
       "\n",
       "    .dataframe tbody tr th {\n",
       "        vertical-align: top;\n",
       "    }\n",
       "\n",
       "    .dataframe thead th {\n",
       "        text-align: right;\n",
       "    }\n",
       "</style>\n",
       "<table border=\"1\" class=\"dataframe\">\n",
       "  <thead>\n",
       "    <tr style=\"text-align: right;\">\n",
       "      <th></th>\n",
       "      <th>0</th>\n",
       "    </tr>\n",
       "  </thead>\n",
       "  <tbody>\n",
       "    <tr>\n",
       "      <th>-7.5</th>\n",
       "      <td>6.8331</td>\n",
       "    </tr>\n",
       "    <tr>\n",
       "      <th>-6.5</th>\n",
       "      <td>3.8331</td>\n",
       "    </tr>\n",
       "    <tr>\n",
       "      <th>-5.5</th>\n",
       "      <td>8.8331</td>\n",
       "    </tr>\n",
       "    <tr>\n",
       "      <th>-4.5</th>\n",
       "      <td>135.0000</td>\n",
       "    </tr>\n",
       "    <tr>\n",
       "      <th>-3.5</th>\n",
       "      <td>228.5000</td>\n",
       "    </tr>\n",
       "    <tr>\n",
       "      <th>-2.5</th>\n",
       "      <td>39.2500</td>\n",
       "    </tr>\n",
       "    <tr>\n",
       "      <th>-1.5</th>\n",
       "      <td>12.9584</td>\n",
       "    </tr>\n",
       "    <tr>\n",
       "      <th>-0.5</th>\n",
       "      <td>38.8959</td>\n",
       "    </tr>\n",
       "    <tr>\n",
       "      <th>0.5</th>\n",
       "      <td>163.8647</td>\n",
       "    </tr>\n",
       "    <tr>\n",
       "      <th>1.5</th>\n",
       "      <td>437.5991</td>\n",
       "    </tr>\n",
       "    <tr>\n",
       "      <th>2.5</th>\n",
       "      <td>74.9664</td>\n",
       "    </tr>\n",
       "    <tr>\n",
       "      <th>3.5</th>\n",
       "      <td>67.9003</td>\n",
       "    </tr>\n",
       "  </tbody>\n",
       "</table>\n",
       "</div>"
      ],
      "text/plain": [
       "             0\n",
       "-7.5    6.8331\n",
       "-6.5    3.8331\n",
       "-5.5    8.8331\n",
       "-4.5  135.0000\n",
       "-3.5  228.5000\n",
       "-2.5   39.2500\n",
       "-1.5   12.9584\n",
       "-0.5   38.8959\n",
       " 0.5  163.8647\n",
       " 1.5  437.5991\n",
       " 2.5   74.9664\n",
       " 3.5   67.9003"
      ]
     },
     "execution_count": 39,
     "metadata": {},
     "output_type": "execute_result"
    }
   ],
   "source": [
    "centuries_aor_df = pd.DataFrame(centuries_aor, index=[0]).T[:6]\n",
    "centuries_aor_df"
   ]
  },
  {
   "cell_type": "code",
   "execution_count": 60,
   "metadata": {},
   "outputs": [
    {
     "data": {
      "text/plain": [
       "<matplotlib.legend.Legend at 0x7f57dd002f28>"
      ]
     },
     "execution_count": 60,
     "metadata": {},
     "output_type": "execute_result"
    },
    {
     "data": {
      "image/png": "[encoded data removed]",
      "text/plain": [
       "<Figure size 864x432 with 1 Axes>"
      ]
     },
     "metadata": {
      "needs_background": "light"
     },
     "output_type": "display_data"
    }
   ],
   "source": [
    "### documents with probabilities\n",
    "fig, ax = plt.subplots(figsize=(12, 6), tight_layout=True)\n",
    "\n",
    "centuries_aor_df.plot(ax=ax)\n",
    "AGT.groupby(\"date_avr\").size()[:3.5].plot(ax=ax)\n",
    "AGT.groupby(\"date_manual\").size()[:3.5].plot(ax=ax)\n",
    "ax.set_xlabel(\"date\")\n",
    "ax.set_ylabel(\"N or sum probability of documents\")\n",
    "ax.set_xticks([-8, -6, -4, -2, 0.01, 2, 4])\n",
    "ax.set_xticklabels([\"800 BCE\", \"600 BC\", \"400 BCE\", \"200 BCE\", \"1 CE\", \"200 CE\", \"400 CE\"])\n",
    "\n",
    "plt.title(\"Aoristic vs average vs manual dating\")\n",
    "plt.legend(labels=[\"Aoristic sum\", \"Average values\", \"Manual dating\"])"
   ]
  },
  {
   "cell_type": "code",
   "execution_count": 62,
   "metadata": {},
   "outputs": [
    {
     "name": "stdout",
     "output_type": "stream",
     "text": [
      "Your <class 'matplotlib.figure.Figure'> object has been succefully written as \"https://sciencedata.dk/files/SDAM_root/SDAM_data/AGT/AGT_dating_overview_20201026.png\"\n"
     ]
    }
   ],
   "source": [
    "sddk.write_file(\"SDAM_data/AGT/AGT_dating_overview_20201026.png\", fig, conf)"
   ]
  },
  {
   "cell_type": "markdown",
   "metadata": {
    "colab_type": "text",
    "id": "5zM7-wy8RSlv"
   },
   "source": [
    "# Overview of authors"
   ]
  },
  {
   "cell_type": "code",
   "execution_count": 49,
   "metadata": {
    "colab": {},
    "colab_type": "code",
    "id": "e9HJjjXtt-WQ"
   },
   "outputs": [],
   "source": [
    "authors = []\n",
    "for author_id in AGT[\"author_id\"].unique().tolist():\n",
    "  author_df = AGT[AGT[\"author_id\"]==author_id]\n",
    "  try: author = \"/\".join(author_df[\"author\"].unique().tolist())\n",
    "  except: author = author_df[\"author\"].unique().tolist()[0]\n",
    "  wordcount = author_df[\"wordcount\"].sum()\n",
    "  provenience = author_df[\"provenience\"].unique().tolist()[0]\n",
    "  date = author_df[\"date_avr\"].unique().tolist()[0]\n",
    "  author_data = [author_id, author, provenience, date, len(author_df), wordcount]\n",
    "  authors.append(author_data)"
   ]
  },
  {
   "cell_type": "code",
   "execution_count": 50,
   "metadata": {
    "colab": {
     "base_uri": "https://localhost:8080/",
     "height": 204
    },
    "colab_type": "code",
    "executionInfo": {
     "elapsed": 3152,
     "status": "ok",
     "timestamp": 1588779609547,
     "user": {
      "displayName": "Vojtěch Kaše",
      "photoUrl": "https://lh3.googleusercontent.com/a-/AOh14Ggz3jS9e7I3GdIEbyBKFtqr9tPdNCwyLBEJwbK8cw=s64",
      "userId": "01399835024022498543"
     },
     "user_tz": -120
    },
    "id": "5OrtAJsFxT6U",
    "outputId": "6ee1bb38-f257-41ca-a469-ee5f5ca26336"
   },
   "outputs": [
    {
     "data": {
      "text/html": [
       "<div>\n",
       "<style scoped>\n",
       "    .dataframe tbody tr th:only-of-type {\n",
       "        vertical-align: middle;\n",
       "    }\n",
       "\n",
       "    .dataframe tbody tr th {\n",
       "        vertical-align: top;\n",
       "    }\n",
       "\n",
       "    .dataframe thead th {\n",
       "        text-align: right;\n",
       "    }\n",
       "</style>\n",
       "<table border=\"1\" class=\"dataframe\">\n",
       "  <thead>\n",
       "    <tr style=\"text-align: right;\">\n",
       "      <th></th>\n",
       "      <th>author id</th>\n",
       "      <th>name</th>\n",
       "      <th>provenience</th>\n",
       "      <th>date</th>\n",
       "      <th>N of works</th>\n",
       "      <th>N of words</th>\n",
       "    </tr>\n",
       "  </thead>\n",
       "  <tbody>\n",
       "    <tr>\n",
       "      <th>0</th>\n",
       "      <td>tlg0001</td>\n",
       "      <td>Apollonius Rhodius</td>\n",
       "      <td>pagan</td>\n",
       "      <td>-2.5</td>\n",
       "      <td>1</td>\n",
       "      <td>38822</td>\n",
       "    </tr>\n",
       "    <tr>\n",
       "      <th>1</th>\n",
       "      <td>tlg0003</td>\n",
       "      <td>Thucydides</td>\n",
       "      <td>pagan</td>\n",
       "      <td>-4.5</td>\n",
       "      <td>1</td>\n",
       "      <td>150160</td>\n",
       "    </tr>\n",
       "    <tr>\n",
       "      <th>2</th>\n",
       "      <td>tlg0004</td>\n",
       "      <td>Diogenes Laertius</td>\n",
       "      <td></td>\n",
       "      <td>2.5</td>\n",
       "      <td>1</td>\n",
       "      <td>111053</td>\n",
       "    </tr>\n",
       "    <tr>\n",
       "      <th>3</th>\n",
       "      <td>tlg0005</td>\n",
       "      <td>Theocritus</td>\n",
       "      <td></td>\n",
       "      <td>-3.0</td>\n",
       "      <td>2</td>\n",
       "      <td>21321</td>\n",
       "    </tr>\n",
       "    <tr>\n",
       "      <th>4</th>\n",
       "      <td>tlg0006</td>\n",
       "      <td>Euripides</td>\n",
       "      <td>pagan</td>\n",
       "      <td>-4.5</td>\n",
       "      <td>13</td>\n",
       "      <td>112900</td>\n",
       "    </tr>\n",
       "  </tbody>\n",
       "</table>\n",
       "</div>"
      ],
      "text/plain": [
       "  author id                name provenience  date  N of works  N of words\n",
       "0   tlg0001  Apollonius Rhodius       pagan  -2.5           1       38822\n",
       "1   tlg0003          Thucydides       pagan  -4.5           1      150160\n",
       "2   tlg0004   Diogenes Laertius               2.5           1      111053\n",
       "3   tlg0005          Theocritus              -3.0           2       21321\n",
       "4   tlg0006           Euripides       pagan  -4.5          13      112900"
      ]
     },
     "execution_count": 50,
     "metadata": {},
     "output_type": "execute_result"
    }
   ],
   "source": [
    "authors_df = pd.DataFrame(authors)\n",
    "authors_df.columns = [\"author id\", \"name\", \"provenience\", \"date\", \"N of works\", \"N of words\"]\n",
    "authors_df.head(5)"
   ]
  },
  {
   "cell_type": "code",
   "execution_count": 51,
   "metadata": {
    "colab": {
     "base_uri": "https://localhost:8080/",
     "height": 34
    },
    "colab_type": "code",
    "executionInfo": {
     "elapsed": 1787,
     "status": "ok",
     "timestamp": 1588779646410,
     "user": {
      "displayName": "Vojtěch Kaše",
      "photoUrl": "https://lh3.googleusercontent.com/a-/AOh14Ggz3jS9e7I3GdIEbyBKFtqr9tPdNCwyLBEJwbK8cw=s64",
      "userId": "01399835024022498543"
     },
     "user_tz": -120
    },
    "id": "Qr7BNJ97e3wn",
    "outputId": "c7cfe625-6cd9-44a3-df39-1fcec0174c46"
   },
   "outputs": [
    {
     "data": {
      "text/plain": [
       "258"
      ]
     },
     "execution_count": 51,
     "metadata": {},
     "output_type": "execute_result"
    }
   ],
   "source": [
    "len(authors_df)"
   ]
  },
  {
   "cell_type": "code",
   "execution_count": 172,
   "metadata": {
    "colab": {},
    "colab_type": "code",
    "id": "JVix67VpyJKB"
   },
   "outputs": [],
   "source": [
    "set_with_dataframe(AGT_overview.add_worksheet(\"authors_overview_20201019\", rows=1, cols=1), authors_df)"
   ]
  },
  {
   "cell_type": "markdown",
   "metadata": {
    "colab_type": "text",
    "id": "zht1c6MpiA32"
   },
   "source": [
    "# Wordcounts overview"
   ]
  },
  {
   "cell_type": "code",
   "execution_count": 74,
   "metadata": {},
   "outputs": [
    {
     "data": {
      "text/plain": [
       "[-7.5,\n",
       " -7.0,\n",
       " -6.5,\n",
       " -6.0,\n",
       " -5.5,\n",
       " -5.0,\n",
       " -4.5,\n",
       " -4.0,\n",
       " -3.5,\n",
       " -3.0,\n",
       " -2.5,\n",
       " -2.0,\n",
       " -1.5,\n",
       " -1.0,\n",
       " -0.5,\n",
       " 0.0,\n",
       " 0.5,\n",
       " 1.0,\n",
       " 1.5,\n",
       " 2.0,\n",
       " 2.5,\n",
       " 3.0,\n",
       " 3.5]"
      ]
     },
     "execution_count": 74,
     "metadata": {},
     "output_type": "execute_result"
    }
   ],
   "source": [
    "dates"
   ]
  },
  {
   "cell_type": "code",
   "execution_count": 70,
   "metadata": {},
   "outputs": [],
   "source": [
    "def date_avr_to_string(date):\n",
    "    if str(date)[-1]==\"5\":\n",
    "        date_number = str(int(abs(date) + 0.5))\n",
    "       \n",
    "    else: \n",
    "        if date < 0:\n",
    "            date_number = str(int(abs(date) + 1))  + \"/\" + str(int(abs(date)))\n",
    "        else: \n",
    "            date_number = str(int(abs(date)))  + \"/\" + str(int(abs(date) + 1))\n",
    "    if date < 0: date_string = date_number + \" BCE\"\n",
    "    else: date_string = date_number + \" CE\"\n",
    "    if date == 0.0:\n",
    "        date_string = \"1 BCE/1 CE\"\n",
    "    return date_string"
   ]
  },
  {
   "cell_type": "code",
   "execution_count": 73,
   "metadata": {},
   "outputs": [
    {
     "data": {
      "text/html": [
       "<div>\n",
       "<style scoped>\n",
       "    .dataframe tbody tr th:only-of-type {\n",
       "        vertical-align: middle;\n",
       "    }\n",
       "\n",
       "    .dataframe tbody tr th {\n",
       "        vertical-align: top;\n",
       "    }\n",
       "\n",
       "    .dataframe thead th {\n",
       "        text-align: right;\n",
       "    }\n",
       "</style>\n",
       "<table border=\"1\" class=\"dataframe\">\n",
       "  <thead>\n",
       "    <tr style=\"text-align: right;\">\n",
       "      <th></th>\n",
       "      <th>date_string</th>\n",
       "      <th>column</th>\n",
       "      <th>value</th>\n",
       "      <th>wordcount</th>\n",
       "      <th>sentences</th>\n",
       "      <th>wordcount_christian</th>\n",
       "      <th>wordcount_pagan</th>\n",
       "      <th>doccount</th>\n",
       "    </tr>\n",
       "  </thead>\n",
       "  <tbody>\n",
       "    <tr>\n",
       "      <th>0</th>\n",
       "      <td>8 BCE</td>\n",
       "      <td>date_avr</td>\n",
       "      <td>-7.5</td>\n",
       "      <td>199840</td>\n",
       "      <td>15208</td>\n",
       "      <td>0</td>\n",
       "      <td>199840</td>\n",
       "      <td>3</td>\n",
       "    </tr>\n",
       "    <tr>\n",
       "      <th>1</th>\n",
       "      <td>8/7 BCE</td>\n",
       "      <td>date_avr</td>\n",
       "      <td>-7.0</td>\n",
       "      <td>16193</td>\n",
       "      <td>1183</td>\n",
       "      <td>0</td>\n",
       "      <td>16193</td>\n",
       "      <td>3</td>\n",
       "    </tr>\n",
       "    <tr>\n",
       "      <th>2</th>\n",
       "      <td>7 BCE</td>\n",
       "      <td>date_avr</td>\n",
       "      <td>-6.5</td>\n",
       "      <td>146</td>\n",
       "      <td>13</td>\n",
       "      <td>0</td>\n",
       "      <td>146</td>\n",
       "      <td>1</td>\n",
       "    </tr>\n",
       "    <tr>\n",
       "      <th>3</th>\n",
       "      <td>7/6 BCE</td>\n",
       "      <td>date_avr</td>\n",
       "      <td>-6.0</td>\n",
       "      <td>9326</td>\n",
       "      <td>694</td>\n",
       "      <td>0</td>\n",
       "      <td>9326</td>\n",
       "      <td>3</td>\n",
       "    </tr>\n",
       "    <tr>\n",
       "      <th>4</th>\n",
       "      <td>6 BCE</td>\n",
       "      <td>date_avr</td>\n",
       "      <td>-5.5</td>\n",
       "      <td>44243</td>\n",
       "      <td>3768</td>\n",
       "      <td>0</td>\n",
       "      <td>44243</td>\n",
       "      <td>1</td>\n",
       "    </tr>\n",
       "    <tr>\n",
       "      <th>5</th>\n",
       "      <td>6/5 BCE</td>\n",
       "      <td>date_avr</td>\n",
       "      <td>-5.0</td>\n",
       "      <td>68050</td>\n",
       "      <td>6036</td>\n",
       "      <td>0</td>\n",
       "      <td>68050</td>\n",
       "      <td>14</td>\n",
       "    </tr>\n",
       "    <tr>\n",
       "      <th>6</th>\n",
       "      <td>5 BCE</td>\n",
       "      <td>date_avr</td>\n",
       "      <td>-4.5</td>\n",
       "      <td>538722</td>\n",
       "      <td>36013</td>\n",
       "      <td>0</td>\n",
       "      <td>538722</td>\n",
       "      <td>31</td>\n",
       "    </tr>\n",
       "    <tr>\n",
       "      <th>7</th>\n",
       "      <td>5/4 BCE</td>\n",
       "      <td>date_avr</td>\n",
       "      <td>-4.0</td>\n",
       "      <td>1563911</td>\n",
       "      <td>108639</td>\n",
       "      <td>0</td>\n",
       "      <td>1563911</td>\n",
       "      <td>197</td>\n",
       "    </tr>\n",
       "    <tr>\n",
       "      <th>8</th>\n",
       "      <td>4 BCE</td>\n",
       "      <td>date_avr</td>\n",
       "      <td>-3.5</td>\n",
       "      <td>1298791</td>\n",
       "      <td>77695</td>\n",
       "      <td>0</td>\n",
       "      <td>1298791</td>\n",
       "      <td>118</td>\n",
       "    </tr>\n",
       "    <tr>\n",
       "      <th>9</th>\n",
       "      <td>4/3 BCE</td>\n",
       "      <td>date_avr</td>\n",
       "      <td>-3.0</td>\n",
       "      <td>190927</td>\n",
       "      <td>14881</td>\n",
       "      <td>0</td>\n",
       "      <td>190927</td>\n",
       "      <td>24</td>\n",
       "    </tr>\n",
       "    <tr>\n",
       "      <th>10</th>\n",
       "      <td>3 BCE</td>\n",
       "      <td>date_avr</td>\n",
       "      <td>-2.5</td>\n",
       "      <td>407625</td>\n",
       "      <td>24398</td>\n",
       "      <td>0</td>\n",
       "      <td>407625</td>\n",
       "      <td>26</td>\n",
       "    </tr>\n",
       "    <tr>\n",
       "      <th>11</th>\n",
       "      <td>3/2 BCE</td>\n",
       "      <td>date_avr</td>\n",
       "      <td>-2.0</td>\n",
       "      <td>397247</td>\n",
       "      <td>19428</td>\n",
       "      <td>0</td>\n",
       "      <td>397247</td>\n",
       "      <td>2</td>\n",
       "    </tr>\n",
       "    <tr>\n",
       "      <th>12</th>\n",
       "      <td>2 BCE</td>\n",
       "      <td>date_avr</td>\n",
       "      <td>-1.5</td>\n",
       "      <td>64895</td>\n",
       "      <td>4066</td>\n",
       "      <td>0</td>\n",
       "      <td>64895</td>\n",
       "      <td>10</td>\n",
       "    </tr>\n",
       "    <tr>\n",
       "      <th>13</th>\n",
       "      <td>2/1 BCE</td>\n",
       "      <td>date_avr</td>\n",
       "      <td>-1.0</td>\n",
       "      <td>132091</td>\n",
       "      <td>10476</td>\n",
       "      <td>0</td>\n",
       "      <td>132091</td>\n",
       "      <td>5</td>\n",
       "    </tr>\n",
       "    <tr>\n",
       "      <th>14</th>\n",
       "      <td>1 BCE</td>\n",
       "      <td>date_avr</td>\n",
       "      <td>-0.5</td>\n",
       "      <td>616554</td>\n",
       "      <td>26618</td>\n",
       "      <td>0</td>\n",
       "      <td>616554</td>\n",
       "      <td>21</td>\n",
       "    </tr>\n",
       "    <tr>\n",
       "      <th>15</th>\n",
       "      <td>1 BCE/1 CE</td>\n",
       "      <td>date_avr</td>\n",
       "      <td>0.0</td>\n",
       "      <td>1060319</td>\n",
       "      <td>71262</td>\n",
       "      <td>0</td>\n",
       "      <td>1060319</td>\n",
       "      <td>34</td>\n",
       "    </tr>\n",
       "    <tr>\n",
       "      <th>16</th>\n",
       "      <td>1 CE</td>\n",
       "      <td>date_avr</td>\n",
       "      <td>0.5</td>\n",
       "      <td>1147115</td>\n",
       "      <td>74353</td>\n",
       "      <td>152623</td>\n",
       "      <td>994492</td>\n",
       "      <td>55</td>\n",
       "    </tr>\n",
       "    <tr>\n",
       "      <th>17</th>\n",
       "      <td>1/2 CE</td>\n",
       "      <td>date_avr</td>\n",
       "      <td>1.0</td>\n",
       "      <td>1828554</td>\n",
       "      <td>95790</td>\n",
       "      <td>18835</td>\n",
       "      <td>1809719</td>\n",
       "      <td>183</td>\n",
       "    </tr>\n",
       "    <tr>\n",
       "      <th>18</th>\n",
       "      <td>2 CE</td>\n",
       "      <td>date_avr</td>\n",
       "      <td>1.5</td>\n",
       "      <td>5444792</td>\n",
       "      <td>316478</td>\n",
       "      <td>340038</td>\n",
       "      <td>5104754</td>\n",
       "      <td>301</td>\n",
       "    </tr>\n",
       "    <tr>\n",
       "      <th>19</th>\n",
       "      <td>2/3 CE</td>\n",
       "      <td>date_avr</td>\n",
       "      <td>2.0</td>\n",
       "      <td>4148368</td>\n",
       "      <td>224344</td>\n",
       "      <td>1488901</td>\n",
       "      <td>2659467</td>\n",
       "      <td>87</td>\n",
       "    </tr>\n",
       "    <tr>\n",
       "      <th>20</th>\n",
       "      <td>3 CE</td>\n",
       "      <td>date_avr</td>\n",
       "      <td>2.5</td>\n",
       "      <td>822380</td>\n",
       "      <td>52315</td>\n",
       "      <td>69992</td>\n",
       "      <td>752388</td>\n",
       "      <td>23</td>\n",
       "    </tr>\n",
       "    <tr>\n",
       "      <th>21</th>\n",
       "      <td>3/4 CE</td>\n",
       "      <td>date_avr</td>\n",
       "      <td>3.0</td>\n",
       "      <td>198442</td>\n",
       "      <td>13189</td>\n",
       "      <td>2950</td>\n",
       "      <td>195492</td>\n",
       "      <td>16</td>\n",
       "    </tr>\n",
       "    <tr>\n",
       "      <th>22</th>\n",
       "      <td>4 CE</td>\n",
       "      <td>date_avr</td>\n",
       "      <td>3.5</td>\n",
       "      <td>2521243</td>\n",
       "      <td>116807</td>\n",
       "      <td>1447783</td>\n",
       "      <td>1073460</td>\n",
       "      <td>61</td>\n",
       "    </tr>\n",
       "  </tbody>\n",
       "</table>\n",
       "</div>"
      ],
      "text/plain": [
       "   date_string    column  value  wordcount  sentences  wordcount_christian  \\\n",
       "0        8 BCE  date_avr   -7.5     199840      15208                    0   \n",
       "1      8/7 BCE  date_avr   -7.0      16193       1183                    0   \n",
       "2        7 BCE  date_avr   -6.5        146         13                    0   \n",
       "3      7/6 BCE  date_avr   -6.0       9326        694                    0   \n",
       "4        6 BCE  date_avr   -5.5      44243       3768                    0   \n",
       "5      6/5 BCE  date_avr   -5.0      68050       6036                    0   \n",
       "6        5 BCE  date_avr   -4.5     538722      36013                    0   \n",
       "7      5/4 BCE  date_avr   -4.0    1563911     108639                    0   \n",
       "8        4 BCE  date_avr   -3.5    1298791      77695                    0   \n",
       "9      4/3 BCE  date_avr   -3.0     190927      14881                    0   \n",
       "10       3 BCE  date_avr   -2.5     407625      24398                    0   \n",
       "11     3/2 BCE  date_avr   -2.0     397247      19428                    0   \n",
       "12       2 BCE  date_avr   -1.5      64895       4066                    0   \n",
       "13     2/1 BCE  date_avr   -1.0     132091      10476                    0   \n",
       "14       1 BCE  date_avr   -0.5     616554      26618                    0   \n",
       "15  1 BCE/1 CE  date_avr    0.0    1060319      71262                    0   \n",
       "16        1 CE  date_avr    0.5    1147115      74353               152623   \n",
       "17      1/2 CE  date_avr    1.0    1828554      95790                18835   \n",
       "18        2 CE  date_avr    1.5    5444792     316478               340038   \n",
       "19      2/3 CE  date_avr    2.0    4148368     224344              1488901   \n",
       "20        3 CE  date_avr    2.5     822380      52315                69992   \n",
       "21      3/4 CE  date_avr    3.0     198442      13189                 2950   \n",
       "22        4 CE  date_avr    3.5    2521243     116807              1447783   \n",
       "\n",
       "    wordcount_pagan  doccount  \n",
       "0            199840         3  \n",
       "1             16193         3  \n",
       "2               146         1  \n",
       "3              9326         3  \n",
       "4             44243         1  \n",
       "5             68050        14  \n",
       "6            538722        31  \n",
       "7           1563911       197  \n",
       "8           1298791       118  \n",
       "9            190927        24  \n",
       "10           407625        26  \n",
       "11           397247         2  \n",
       "12            64895        10  \n",
       "13           132091         5  \n",
       "14           616554        21  \n",
       "15          1060319        34  \n",
       "16           994492        55  \n",
       "17          1809719       183  \n",
       "18          5104754       301  \n",
       "19          2659467        87  \n",
       "20           752388        23  \n",
       "21           195492        16  \n",
       "22          1073460        61  "
      ]
     },
     "execution_count": 73,
     "metadata": {},
     "output_type": "execute_result"
    }
   ],
   "source": [
    "subselections = []\n",
    "for date in dates:\n",
    "    subselection = AGT[AGT[\"date_avr\"]== date]\n",
    "    wordcount_christian = AGT[(AGT[\"date_avr\"]== date) & (AGT[\"provenience\"]==\"christian\")][\"wordcount\"].sum()\n",
    "    wordcount_pagan = AGT[(AGT[\"date_avr\"]== date) & (AGT[\"provenience\"]!=\"christian\")][\"wordcount\"].sum()\n",
    "    wordcount = subselection[\"wordcount\"].sum()\n",
    "    sentences = subselection[\"lemmatized_sentences\"].apply(lambda x: len(x)).sum()\n",
    "    doccount = len(subselection)\n",
    "    date_string = date_avr_to_string(date)\n",
    "    subselection_dict = {\"date_string\" : date_string, \"column\" : \"date_avr\", \"value\" : date, \"wordcount\" : wordcount, \"sentences\" : sentences, \"wordcount_christian\" : wordcount_christian, \"wordcount_pagan\" : wordcount_pagan, \"doccount\": doccount}\n",
    "    subselections.append(subselection_dict)\n",
    "subselections_df = pd.DataFrame(subselections)\n",
    "subselections_df"
   ]
  },
  {
   "cell_type": "code",
   "execution_count": 75,
   "metadata": {},
   "outputs": [
    {
     "name": "stderr",
     "output_type": "stream",
     "text": [
      "/home/kasev/.local/lib/python3.6/site-packages/ipykernel_launcher.py:9: UserWarning: FixedFormatter should only be used together with FixedLocator\n",
      "  if __name__ == '__main__':\n"
     ]
    },
    {
     "data": {
      "text/plain": [
       "Text(0.5, 1.0, 'Corpus overview')"
      ]
     },
     "execution_count": 75,
     "metadata": {},
     "output_type": "execute_result"
    },
    {
     "data": {
      "image/png": "[encoded data removed]",
      "text/plain": [
       "<Figure size 864x432 with 1 Axes>"
      ]
     },
     "metadata": {
      "needs_background": "light"
     },
     "output_type": "display_data"
    }
   ],
   "source": [
    "fig, ax = plt.subplots(figsize=(12, 6), tight_layout=True)\n",
    "#subselections_df = subselections_df.iloc[::-1]\n",
    "ax.bar(subselections_df[\"date_string\"], subselections_df[\"wordcount_christian\"], color=\"tab:orange\", label=\"Christian\")\n",
    "ax.bar(subselections_df[\"date_string\"], subselections_df[\"wordcount_pagan\"], bottom=subselections_df[\"wordcount_christian\"], label=\"non-Christian\", color=\"tab:blue\")\n",
    "\n",
    "\n",
    "ax.set_yticks(range(1000000,6000000, 1000000))\n",
    "ax.set_yticklabels(str(n) + \"M\" for n in range(1,6))\n",
    "ax.set_xticklabels(subselections_df[\"date_string\"], rotation=90)\n",
    "ax.legend()\n",
    "plt.title(\"Corpus overview\")"
   ]
  },
  {
   "cell_type": "code",
   "execution_count": null,
   "metadata": {},
   "outputs": [],
   "source": [
    "sddk.write_file(\"SDAM_data/AGT/AGT_corpus_overview.png\")"
   ]
  },
  {
   "cell_type": "code",
   "execution_count": 85,
   "metadata": {},
   "outputs": [],
   "source": [
    "subcorpora_dict = {# main subcorpora\n",
    "    \"Archaic (8-6 BCE)\" : AGT[(AGT[\"provenience\"]==\"pagan\") & (AGT[\"date_avr\"] <= -5.5)],\n",
    "    \"Classical (5-4 BCE)\" : AGT[(AGT[\"provenience\"]==\"pagan\") & (AGT[\"date_avr\"].between(-5, -3))],\n",
    "    \"Non-Christian (1-4 CE)\" : AGT[(AGT[\"date_avr\"].between(0, 4)) & (AGT[\"provenience\"]==\"pagan\")],\n",
    "    \"Christian (1-4 CE)\" : AGT[(AGT[\"date_avr\"] < 4) & (AGT[\"provenience\"]==\"christian\")]}\n",
    "   \n",
    "subcorpora_dict_other = {\n",
    "    # other relevant subcorpora (some overlaps)\n",
    "    \"Pagan (8th c. BCE - 4th c. CE)\" : AGT[(AGT[\"provenience\"]==\"pagan\") & (AGT[\"date_avr\"] < 4)],\n",
    "    \"Pagan (1st - 4th c. CE)\" : AGT[(AGT[\"date_avr\"].between(0, 4)) & (AGT[\"provenience\"]==\"pagan\")],\n",
    "    \"Septuagint\" : AGT[AGT[\"author_id\"]==\"tlg0527\"],\n",
    "    \"Philo of Alexandria\" : AGT[AGT[\"author_id\"]==\"tlg0018\"],\n",
    "    \"Titus Flavius Josephus\" : AGT[AGT[\"author_id\"]==\"tlg0526\"],\n",
    "    \"Paul of Tarsus\" : AGT[AGT[\"author_id\"]==\"tlg0031paul\"],\n",
    "    \"New Testament\" : AGT[AGT[\"author_id\"].str.startswith(\"tlg0031\")],\n",
    "    \"Christian (1st - 4th c. CE)\" : AGT[(AGT[\"date_avr\"] < 4) & (AGT[\"provenience\"]==\"christian\")]}"
   ]
  },
  {
   "cell_type": "code",
   "execution_count": 86,
   "metadata": {},
   "outputs": [
    {
     "data": {
      "text/html": [
       "<div>\n",
       "<style scoped>\n",
       "    .dataframe tbody tr th:only-of-type {\n",
       "        vertical-align: middle;\n",
       "    }\n",
       "\n",
       "    .dataframe tbody tr th {\n",
       "        vertical-align: top;\n",
       "    }\n",
       "\n",
       "    .dataframe thead th {\n",
       "        text-align: right;\n",
       "    }\n",
       "</style>\n",
       "<table border=\"1\" class=\"dataframe\">\n",
       "  <thead>\n",
       "    <tr style=\"text-align: right;\">\n",
       "      <th></th>\n",
       "      <th>label</th>\n",
       "      <th>wordcount</th>\n",
       "      <th>doccount</th>\n",
       "      <th>sentences</th>\n",
       "    </tr>\n",
       "  </thead>\n",
       "  <tbody>\n",
       "    <tr>\n",
       "      <th>0</th>\n",
       "      <td>Archaic (8-6 BCE)</td>\n",
       "      <td>269748</td>\n",
       "      <td>11</td>\n",
       "      <td>20866</td>\n",
       "    </tr>\n",
       "    <tr>\n",
       "      <th>1</th>\n",
       "      <td>Classical (5-4 BCE)</td>\n",
       "      <td>3407824</td>\n",
       "      <td>331</td>\n",
       "      <td>224933</td>\n",
       "    </tr>\n",
       "    <tr>\n",
       "      <th>2</th>\n",
       "      <td>Non-Christian (1-4 CE)</td>\n",
       "      <td>9448494</td>\n",
       "      <td>409</td>\n",
       "      <td>546012</td>\n",
       "    </tr>\n",
       "    <tr>\n",
       "      <th>3</th>\n",
       "      <td>Christian (1-4 CE)</td>\n",
       "      <td>3521122</td>\n",
       "      <td>131</td>\n",
       "      <td>171376</td>\n",
       "    </tr>\n",
       "  </tbody>\n",
       "</table>\n",
       "</div>"
      ],
      "text/plain": [
       "                    label  wordcount  doccount  sentences\n",
       "0       Archaic (8-6 BCE)     269748        11      20866\n",
       "1     Classical (5-4 BCE)    3407824       331     224933\n",
       "2  Non-Christian (1-4 CE)    9448494       409     546012\n",
       "3      Christian (1-4 CE)    3521122       131     171376"
      ]
     },
     "execution_count": 86,
     "metadata": {},
     "output_type": "execute_result"
    }
   ],
   "source": [
    "subselections = []\n",
    "for key in subcorpora_dict.keys():\n",
    "    subselection = subcorpora_dict[key]\n",
    "    subselection_dict = {}\n",
    "    wordcount = subselection[\"wordcount\"].sum()\n",
    "    doccount = len(subselection)\n",
    "    sentences = subselection[\"lemmatized_sentences\"].apply(lambda x: len(x)).sum()\n",
    "    subselection_dict.update({\"label\" : key, \"wordcount\" : wordcount, \"doccount\" : doccount, \"sentences\" : sentences})\n",
    "    subselections.append(subselection_dict)\n",
    "subselections_df = pd.DataFrame(subselections)\n",
    "subselections_df"
   ]
  },
  {
   "cell_type": "code",
   "execution_count": null,
   "metadata": {},
   "outputs": [],
   "source": []
  }
 ],
 "metadata": {
  "colab": {
   "authorship_tag": "ABX9TyM+taOvEihjuZ2k0d8Zjz/M",
   "collapsed_sections": [],
   "name": "2_METADATA&LEMMATIZATION&OVERVIEW.ipynb",
   "provenance": [],
   "toc_visible": true
  },
  "kernelspec": {
   "display_name": "Python 3",
   "language": "python",
   "name": "python3"
  },
  "language_info": {
   "codemirror_mode": {
    "name": "ipython",
    "version": 3
   },
   "file_extension": ".py",
   "mimetype": "text/x-python",
   "name": "python",
   "nbconvert_exporter": "python",
   "pygments_lexer": "ipython3",
   "version": "3.6.9"
  }
 },
 "nbformat": 4,
 "nbformat_minor": 1
}
