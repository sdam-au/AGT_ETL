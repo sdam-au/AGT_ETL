{
 "cells": [
  {
   "cell_type": "code",
   "execution_count": 37,
   "metadata": {},
   "outputs": [],
   "source": [
    "import spacy\n",
    "import pyconll\n",
    "import json\n",
    "\n",
    "import plac\n",
    "import random\n",
    "from pathlib import Path\n",
    "from spacy.util import minibatch, compounding"
   ]
  },
  {
   "cell_type": "code",
   "execution_count": null,
   "metadata": {},
   "outputs": [],
   "source": [
    "lang=\"el\"\n",
    "# initatize en empty model\n",
    "nlp = spacy.blank(lang)\n",
    "# add the tagger to the pipeline\n",
    "# nlp.create_pipe works for built-ins that are registered with spaCy\n",
    "tagger = nlp.create_pipe(\"tagger\")\n",
    "    # Add the tags. This needs to be done before you start training.\n",
    "#for tag, values in TAG_MAP.items():\n",
    "#    tagger.add_label(tag, values)\n",
    "nlp.add_pipe(tagger)"
   ]
  },
  {
   "cell_type": "code",
   "execution_count": null,
   "metadata": {},
   "outputs": [],
   "source": [
    "path = \"../data/ag_lemma_lookup.json\"\n",
    "ag_lemma_lookup = json.load(open(path))"
   ]
  },
  {
   "cell_type": "code",
   "execution_count": null,
   "metadata": {},
   "outputs": [],
   "source": [
    "from spacy.lemmatizer import Lemmatizer\n",
    "lemmatizer = Lemmatizer(lookups)"
   ]
  },
  {
   "cell_type": "markdown",
   "metadata": {},
   "source": [
    "# Training our own model with CLI (non-functional)"
   ]
  },
  {
   "cell_type": "code",
   "execution_count": null,
   "metadata": {},
   "outputs": [],
   "source": [
    "# extract first part of training data\n",
    "corpus_perseus = pyconll.load.iter_from_url(\"https://raw.githubusercontent.com/UniversalDependencies/UD_Ancient_Greek-Perseus/master/grc_perseus-ud-train.conllu\")\n",
    "\n",
    "corpus_proiel = pyconll.load.iter_from_url(\"https://raw.githubusercontent.com/UniversalDependencies/UD_Ancient_Greek-PROIEL/master/grc_proiel-ud-train.conllu\")\n"
   ]
  },
  {
   "cell_type": "code",
   "execution_count": 12,
   "metadata": {},
   "outputs": [],
   "source": [
    "!mkdir ../depend-data"
   ]
  },
  {
   "cell_type": "code",
   "execution_count": 13,
   "metadata": {},
   "outputs": [
    {
     "name": "stdout",
     "output_type": "stream",
     "text": [
      "  % Total    % Received % Xferd  Average Speed   Time    Time     Time  Current\n",
      "                                 Dload  Upload   Total   Spent    Left  Speed\n",
      "100 14.1M  100 14.1M    0     0  12.4M      0  0:00:01  0:00:01 --:--:-- 12.4Mk      0  0:00:04 --:--:--  0:00:04 3260k\n",
      "  % Total    % Received % Xferd  Average Speed   Time    Time     Time  Current\n",
      "                                 Dload  Upload   Total   Spent    Left  Speed\n",
      "100 2033k  100 2033k    0     0  3656k      0 --:--:-- --:--:-- --:--:-- 3649k\n",
      "  % Total    % Received % Xferd  Average Speed   Time    Time     Time  Current\n",
      "                                 Dload  Upload   Total   Spent    Left  Speed\n",
      "100 19.7M  100 19.7M    0     0  15.8M      0  0:00:01  0:00:01 --:--:-- 15.8M\n",
      "  % Total    % Received % Xferd  Average Speed   Time    Time     Time  Current\n",
      "                                 Dload  Upload   Total   Spent    Left  Speed\n",
      "100 1475k  100 1475k    0     0  2827k      0 --:--:-- --:--:-- --:--:-- 2821k\n"
     ]
    }
   ],
   "source": [
    "!curl https://raw.githubusercontent.com/UniversalDependencies/UD_Ancient_Greek-Perseus/master/grc_perseus-ud-train.conllu -o ../depend-data/grc_perseus-ud-train.conllu\n",
    "!curl https://raw.githubusercontent.com/UniversalDependencies/UD_Ancient_Greek-Perseus/master/grc_perseus-ud-dev.conllu -o ../depend-data/grc_perseus-ud-dev.conllu\n",
    "\n",
    "!curl https://raw.githubusercontent.com/UniversalDependencies/UD_Ancient_Greek-PROIEL/master/grc_proiel-ud-train.conllu -o ../depend-data/grc_proiel-ud-train.conllu\n",
    "!curl https://raw.githubusercontent.com/UniversalDependencies/UD_Ancient_Greek-PROIEL/master/grc_proiel-ud-dev.conllu -o ../depend-data/grc_proiel-ud-dev.conllu"
   ]
  },
  {
   "cell_type": "code",
   "execution_count": 15,
   "metadata": {},
   "outputs": [],
   "source": [
    "import os"
   ]
  },
  {
   "cell_type": "code",
   "execution_count": 17,
   "metadata": {},
   "outputs": [
    {
     "data": {
      "text/plain": [
       "['grc_proiel-ud-dev.conllu',\n",
       " 'grc_perseus-ud-dev.conllu',\n",
       " 'grc_perseus-ud-train.conllu',\n",
       " 'grc_proiel-ud-train.conllu']"
      ]
     },
     "execution_count": 17,
     "metadata": {},
     "output_type": "execute_result"
    }
   ],
   "source": [
    "depend_files = os.listdir(\"../depend-data\")\n",
    "depend_files"
   ]
  },
  {
   "cell_type": "code",
   "execution_count": 20,
   "metadata": {},
   "outputs": [
    {
     "name": "stdout",
     "output_type": "stream",
     "text": [
      "\u001b[38;5;2m✔ Generated output file (1019 documents):\n",
      "../depend-data/grc_proiel-ud-dev.json\u001b[0m\n",
      "\u001b[38;5;2m✔ Generated output file (1137 documents):\n",
      "../depend-data/grc_perseus-ud-dev.json\u001b[0m\n",
      "\u001b[38;5;2m✔ Generated output file (11476 documents):\n",
      "../depend-data/grc_perseus-ud-train.json\u001b[0m\n",
      "\u001b[38;5;2m✔ Generated output file (15014 documents):\n",
      "../depend-data/grc_proiel-ud-train.json\u001b[0m\n"
     ]
    }
   ],
   "source": [
    "for file in depend_files:\n",
    "    !python3 -m spacy convert ../depend-data/$file ../depend-data"
   ]
  },
  {
   "cell_type": "code",
   "execution_count": 24,
   "metadata": {},
   "outputs": [],
   "source": [
    "import json"
   ]
  },
  {
   "cell_type": "code",
   "execution_count": 25,
   "metadata": {},
   "outputs": [],
   "source": [
    "path = \"../depend-data/grc_perseus-ud-train.json\"\n",
    "grc_perseus_train = json.load(open(path))"
   ]
  },
  {
   "cell_type": "code",
   "execution_count": 27,
   "metadata": {},
   "outputs": [],
   "source": [
    "!mkdir ../models"
   ]
  },
  {
   "cell_type": "code",
   "execution_count": 28,
   "metadata": {},
   "outputs": [
    {
     "name": "stdout",
     "output_type": "stream",
     "text": [
      "Training pipeline: ['tagger', 'parser', 'ner']\n",
      "Starting with blank model 'xx'\n",
      "Counting training words (limit=0)\n",
      "/home/kasev/.local/lib/python3.6/site-packages/spacy/language.py:639: UserWarning: [W022] Training a new part-of-speech tagger using a model with no lemmatization rules or data. This means that the trained model may not be able to lemmatize correctly. If this is intentional or the language you're using doesn't have lemmatization data, please ignore this warning. If this is surprising, make sure you have the spacy-lookups-data package installed.\n",
      "  **kwargs\n",
      "/home/kasev/.local/lib/python3.6/site-packages/spacy/language.py:639: UserWarning: [W033] Training a new part-of-speech tagger using a model with no lexeme normalization table. This may degrade the performance of the model to some degree. If this is intentional or the language you're using doesn't have a normalization table, please ignore this warning. If this is surprising, make sure you have the spacy-lookups-data package installed. The languages with lexeme normalization tables are currently: da, de, el, en, id, lb, pt, ru, sr, ta, th.\n",
      "  **kwargs\n",
      "/home/kasev/.local/lib/python3.6/site-packages/spacy/language.py:639: UserWarning: [W033] Training a new parser or NER using a model with no lexeme normalization table. This may degrade the performance of the model to some degree. If this is intentional or the language you're using doesn't have a normalization table, please ignore this warning. If this is surprising, make sure you have the spacy-lookups-data package installed. The languages with lexeme normalization tables are currently: da, de, el, en, id, lb, pt, ru, sr, ta, th.\n",
      "  **kwargs\n",
      "\n",
      "Itn  Tag Loss    Tag %    Dep Loss    UAS     LAS    NER Loss   NER P   NER R   NER F   Token %  CPU WPS\n",
      "---  ---------  --------  ---------  ------  ------  ---------  ------  ------  ------  -------  -------\n",
      "  1  82343.693    65.629  204149.670  52.755  42.289      0.000   0.000   0.000   0.000  100.000    10414\n",
      "  2  59012.899    69.288  185324.846  58.031  48.479      0.000   0.000   0.000   0.000  100.000    10970\n",
      "  3  51158.985    70.965  175838.909  59.994  51.017      0.000   0.000   0.000   0.000  100.000    10618\n",
      "  4  46124.976    72.148  168566.800  60.788  52.285      0.000   0.000   0.000   0.000  100.000    10523\n",
      "  5  42396.355    72.830  161740.864  61.792  53.329      0.000   0.000   0.000   0.000  100.000    10571\n",
      "  6  39797.033    73.445  156218.073  61.821  53.545      0.000   0.000   0.000   0.000  100.000    10953\n",
      "  7  37577.909    73.752  151033.759  62.633  54.312      0.000   0.000   0.000   0.000  100.000    10920\n",
      "  8  36256.012    74.145  147149.457  63.255  54.909      0.000   0.000   0.000   0.000  100.000    10910\n",
      "  9  34583.597    74.321  142599.845  63.619  55.499      0.000   0.000   0.000   0.000  100.000    10815\n",
      " 10  33166.698    74.493  138919.401  63.689  55.565      0.000   0.000   0.000   0.000  100.000    10828\n",
      " 11  32085.608    74.570  135682.736  64.177  55.967      0.000   0.000   0.000   0.000  100.000    10788\n",
      " 12  30896.306    74.832  131549.152  63.980  55.846      0.000   0.000   0.000   0.000  100.000    10798\n",
      " 13  30277.056    74.859  130016.904  64.238  56.189      0.000   0.000   0.000   0.000  100.000    10496\n",
      " 14  29369.622    75.030  126678.884  64.362  56.339      0.000   0.000   0.000   0.000  100.000    10034\n",
      " 15  28670.976    75.216  124945.284  64.680  56.490      0.000   0.000   0.000   0.000  100.000     9585\n",
      " 16  27629.714    75.338  122711.262  64.589  56.400      0.000   0.000   0.000   0.000  100.000     9051\n",
      " 17  26976.747    75.401  119951.980  64.650  56.485      0.000   0.000   0.000   0.000  100.000     8552\n",
      " 18  26105.337    75.446  118176.122  64.700  56.561      0.000   0.000   0.000   0.000  100.000     7942\n",
      " 19  25747.222    75.460  116080.060  64.811  56.682      0.000   0.000   0.000   0.000  100.000     6982\n",
      " 20  25157.513    75.546  114155.267  64.801  56.768      0.000   0.000   0.000   0.000  100.000     5832\n",
      " 21  24922.562    75.613  112989.284  64.872  56.935      0.000   0.000   0.000   0.000  100.000     4103\n",
      " 22  24325.410    75.658  111121.878  64.736  56.935      0.000   0.000   0.000   0.000  100.000     2429\n",
      " 23  23642.581    75.667  108507.985  64.821  57.015      0.000   0.000   0.000   0.000  100.000     1339\n",
      " 24  23142.019    75.713  107867.588  64.872  57.101      0.000   0.000   0.000   0.000  100.000      804\n",
      " 25  22788.343    75.835  107163.775  65.028  57.227      0.000   0.000   0.000   0.000  100.000      604\n",
      " 26  22346.801    75.857  105366.028  65.038  57.298      0.000   0.000   0.000   0.000  100.000      568\n",
      " 27  21870.484    75.875  103974.671  65.114  57.414      0.000   0.000   0.000   0.000  100.000      569\n",
      " 28  21722.236    75.880  102576.362  64.948  57.192      0.000   0.000   0.000   0.000  100.000      573\n",
      " 29  21528.114    75.889  102421.955  64.988  57.298      0.000   0.000   0.000   0.000  100.000      570\n",
      " 30  20791.002    75.948  99988.205  64.978  57.328      0.000   0.000   0.000   0.000  100.000      574\n",
      "\u001b[38;5;2m✔ Saved model to output directory\u001b[0m\n",
      "../models/model-final\n",
      "\u001b[2K\u001b[38;5;2m✔ Created best model\u001b[0m\n",
      "../models/model-best\n"
     ]
    }
   ],
   "source": [
    "!python3 -m spacy train xx ../models ../depend-data/grc_perseus-ud-train.json ../depend-data/grc_perseus-ud-dev.json"
   ]
  },
  {
   "cell_type": "code",
   "execution_count": 29,
   "metadata": {},
   "outputs": [],
   "source": [
    "!mkdir ../models-update"
   ]
  },
  {
   "cell_type": "code",
   "execution_count": 30,
   "metadata": {},
   "outputs": [
    {
     "name": "stdout",
     "output_type": "stream",
     "text": [
      "Training pipeline: ['tagger', 'parser', 'ner']\n",
      "Starting with base model '../models/model-best'\n",
      "Extending component from base model 'tagger'\n",
      "Extending component from base model 'parser'\n",
      "Extending component from base model 'ner'\n",
      "Counting training words (limit=0)\n",
      "\n",
      "Itn  Tag Loss    Tag %    Dep Loss    UAS     LAS    NER Loss   NER P   NER R   NER F   Token %  CPU WPS\n",
      "---  ---------  --------  ---------  ------  ------  ---------  ------  ------  ------  -------  -------\n",
      "  1      0.000     0.000  175985.382  74.553  63.580      0.000   0.000   0.000   0.000  100.000     2616\n",
      "  2      0.000     0.000  161519.461  76.773  65.587      0.000   0.000   0.000   0.000  100.000     2669\n",
      " 13%|████▋                              | 24964/187033 [00:21<02:46, 974.08it/s]^C\n",
      "\u001b[38;5;2m✔ Saved model to output directory\u001b[0m                                  \n",
      "../models-update/model-final\n",
      "\u001b[2K\u001b[38;5;2m✔ Created best model\u001b[0m\n",
      "../models-update/model-best\n",
      "Traceback (most recent call last):\n",
      "  File \"/usr/lib/python3.6/runpy.py\", line 193, in _run_module_as_main\n",
      "    \"__main__\", mod_spec)\n",
      "  File \"/usr/lib/python3.6/runpy.py\", line 85, in _run_code\n",
      "    exec(code, run_globals)\n",
      "  File \"/home/kasev/.local/lib/python3.6/site-packages/spacy/__main__.py\", line 33, in <module>\n",
      "    plac.call(commands[command], sys.argv[1:])\n",
      "  File \"/home/kasev/.local/lib/python3.6/site-packages/plac_core.py\", line 367, in call\n",
      "    cmd, result = parser.consume(arglist)\n",
      "  File \"/home/kasev/.local/lib/python3.6/site-packages/plac_core.py\", line 232, in consume\n",
      "    return cmd, self.func(*(args + varargs + extraopts), **kwargs)\n",
      "  File \"/home/kasev/.local/lib/python3.6/site-packages/spacy/cli/train.py\", line 430, in train\n",
      "    losses=losses,\n",
      "  File \"/home/kasev/.local/lib/python3.6/site-packages/spacy/language.py\", line 529, in update\n",
      "    proc.update(docs, golds, sgd=get_grads, losses=losses, **kwargs)\n",
      "  File \"pipes.pyx\", line 467, in spacy.pipeline.pipes.Tagger.update\n",
      "  File \"/home/kasev/.local/lib/python3.6/site-packages/thinc/neural/_classes/feed_forward.py\", line 46, in begin_update\n",
      "    X, inc_layer_grad = layer.begin_update(X, drop=drop)\n",
      "  File \"/home/kasev/.local/lib/python3.6/site-packages/thinc/api.py\", line 295, in begin_update\n",
      "    X, bp_layer = layer.begin_update(layer.ops.flatten(seqs_in, pad=pad), drop=drop)\n",
      "  File \"/home/kasev/.local/lib/python3.6/site-packages/thinc/neural/_classes/feed_forward.py\", line 46, in begin_update\n",
      "    X, inc_layer_grad = layer.begin_update(X, drop=drop)\n",
      "  File \"/home/kasev/.local/lib/python3.6/site-packages/thinc/neural/_classes/resnet.py\", line 29, in begin_update\n",
      "    y, bp_y = self._layers[0].begin_update(X, drop=drop)\n",
      "  File \"/home/kasev/.local/lib/python3.6/site-packages/thinc/neural/_classes/feed_forward.py\", line 46, in begin_update\n",
      "    X, inc_layer_grad = layer.begin_update(X, drop=drop)\n",
      "  File \"/home/kasev/.local/lib/python3.6/site-packages/thinc/neural/_classes/layernorm.py\", line 62, in begin_update\n",
      "    X, backprop_child = self.child.begin_update(X, drop=0.0)\n",
      "  File \"/home/kasev/.local/lib/python3.6/site-packages/thinc/neural/_classes/maxout.py\", line 76, in begin_update\n",
      "    output__boc = self.ops.gemm(X__bi, W, trans2=True)\n",
      "KeyboardInterrupt\n"
     ]
    }
   ],
   "source": [
    "!python3 -m spacy train xx ../models-update ../depend-data/grc_proiel-ud-train.json ../depend-data/grc_proiel-ud-dev.json -b ../models/model-best"
   ]
  },
  {
   "cell_type": "markdown",
   "metadata": {},
   "source": [
    "# Training our own model with gold-parse"
   ]
  },
  {
   "cell_type": "code",
   "execution_count": 34,
   "metadata": {},
   "outputs": [],
   "source": [
    "urls = [\n",
    "    \"https://raw.githubusercontent.com/UniversalDependencies/UD_Ancient_Greek-Perseus/master/grc_perseus-ud-train.conllu\",\n",
    "    \"https://raw.githubusercontent.com/UniversalDependencies/UD_Ancient_Greek-Perseus/master/grc_perseus-ud-dev.conllu\",\n",
    "    \"https://raw.githubusercontent.com/UniversalDependencies/UD_Ancient_Greek-PROIEL/master/grc_proiel-ud-train.conllu\",\n",
    "    \"https://raw.githubusercontent.com/UniversalDependencies/UD_Ancient_Greek-PROIEL/master/grc_proiel-ud-dev.conllu\"]"
   ]
  },
  {
   "cell_type": "code",
   "execution_count": 49,
   "metadata": {},
   "outputs": [],
   "source": [
    "def tagged_data_from_url(url):\n",
    "    corpus = pyconll.load.iter_from_url(url)\n",
    "    tagged_data = []\n",
    "    for sentence in corpus:\n",
    "        words, tags = [], []\n",
    "        for token in sentence:\n",
    "            words.append(token.form)\n",
    "            tags.append(token.upos)\n",
    "        tagged_data.append((sentence.text, {\"words\" : words, \"tags\" : tags}))\n",
    "    print(\"File name: {0}; number of sentences: {1}\".format(url.rpartition(\"/\")[2], len(tagged_data)))\n",
    "    return tagged_data"
   ]
  },
  {
   "cell_type": "code",
   "execution_count": 50,
   "metadata": {},
   "outputs": [
    {
     "name": "stdout",
     "output_type": "stream",
     "text": [
      "File name: grc_perseus-ud-train.conllu; number of sentences: 11476\n",
      "File name: grc_perseus-ud-dev.conllu; number of sentences: 1137\n",
      "File name: grc_proiel-ud-train.conllu; number of sentences: 15014\n",
      "File name: grc_proiel-ud-dev.conllu; number of sentences: 1019\n"
     ]
    }
   ],
   "source": [
    "perseus_train = tagged_data_from_url(urls[0])\n",
    "perseus_dev = tagged_data_from_url(urls[1])\n",
    "proiel_train = tagged_data_from_url(urls[2])\n",
    "proiel_dev = tagged_data_from_url(urls[3])"
   ]
  },
  {
   "cell_type": "code",
   "execution_count": 51,
   "metadata": {},
   "outputs": [
    {
     "name": "stdout",
     "output_type": "stream",
     "text": [
      "('ἐρᾷ μὲν ἁγνὸς οὐρανὸς τρῶσαι χθόνα, ἔρως δὲ γαῖαν λαμβάνει γάμου τυχεῖν·', {'words': ['ἐρᾷ', 'μὲν', 'ἁγνὸς', 'οὐρανὸς', 'τρῶσαι', 'χθόνα', ',', 'ἔρως', 'δὲ', 'γαῖαν', 'λαμβάνει', 'γάμου', 'τυχεῖν', '·'], 'tags': ['VERB', 'ADV', 'ADJ', 'NOUN', 'VERB', 'NOUN', 'PUNCT', 'NOUN', 'CCONJ', 'NOUN', 'VERB', 'NOUN', 'VERB', 'PUNCT']})\n"
     ]
    }
   ],
   "source": [
    "print(perseus_train[0])"
   ]
  },
  {
   "cell_type": "code",
   "execution_count": 52,
   "metadata": {},
   "outputs": [],
   "source": [
    "train_data = perseus_train + proiel_train"
   ]
  },
  {
   "cell_type": "code",
   "execution_count": 118,
   "metadata": {},
   "outputs": [
    {
     "data": {
      "text/plain": [
       "26490"
      ]
     },
     "execution_count": 118,
     "metadata": {},
     "output_type": "execute_result"
    }
   ],
   "source": [
    "len(train_data)"
   ]
  },
  {
   "cell_type": "code",
   "execution_count": 119,
   "metadata": {},
   "outputs": [
    {
     "name": "stdout",
     "output_type": "stream",
     "text": [
      "\u001b[2K\u001b[38;5;2m✔ Successfully created model\u001b[0m\n",
      "348781it [00:17, 20441.78it/s]/word2vec.txt\n",
      "\u001b[2K\u001b[38;5;2m✔ Loaded vectors from ../data/word2vec.txt\u001b[0m\n",
      "\u001b[38;5;2m✔ Sucessfully compiled vocab\u001b[0m\n",
      "348953 entries, 348781 vectors\n"
     ]
    }
   ],
   "source": [
    "!python3 -m spacy init-model xx ../spacy_grc_model_3 --vectors-loc ../data/word2vec.txt"
   ]
  },
  {
   "cell_type": "code",
   "execution_count": 120,
   "metadata": {},
   "outputs": [],
   "source": [
    "nlp = spacy.load(\"../spacy_grc_model_3\")\n",
    "\n",
    "tagger = nlp.create_pipe(\"tagger\")\n",
    "\n",
    "nlp.add_pipe(tagger)\n",
    "\n",
    "optimizer = nlp.begin_training()"
   ]
  },
  {
   "cell_type": "code",
   "execution_count": null,
   "metadata": {},
   "outputs": [
    {
     "name": "stdout",
     "output_type": "stream",
     "text": [
      "Losses {'tagger': 51534.42839574814}\n",
      "{'proiel_correct%': 88.34602988573103, 'perseus_correct%': 85.90015812062344, 'total_correct%': 86.83320758934808}\n",
      "Losses {'tagger': 32894.57067832351}\n",
      "{'proiel_correct%': 88.76355112803985, 'perseus_correct%': 86.61395979218433, 'total_correct%': 87.43398440774584}\n",
      "Losses {'tagger': 25758.907347031985}\n",
      "{'proiel_correct%': 88.94667447992968, 'perseus_correct%': 87.84730065507117, 'total_correct%': 88.26668902115293}\n",
      "Losses {'tagger': 20925.837919611484}\n",
      "{'proiel_correct%': 89.1444476999707, 'perseus_correct%': 87.5626835328665, 'total_correct%': 88.16609383295611}\n",
      "Losses {'tagger': 17767.88677458561}\n",
      "{'proiel_correct%': 88.88807500732493, 'perseus_correct%': 88.55658459453355, 'total_correct%': 88.68304132785649}\n",
      "Losses {'tagger': 15217.404446317349}\n",
      "{'proiel_correct%': 88.87342513917375, 'perseus_correct%': 87.83826519087418, 'total_correct%': 88.233157291754}\n"
     ]
    }
   ],
   "source": [
    "n_iter = 25\n",
    "\n",
    "model_tests = []\n",
    "for i in range(n_iter):\n",
    "    \n",
    "    ### TRAIN THE MODEL\n",
    "    random.shuffle(train_data)\n",
    "    losses = {}\n",
    "        # batch up the examples using spaCy's minibatch\n",
    "    batches = minibatch(train_data, size=compounding(4.0, 32.0, 1.001))\n",
    "    for batch in batches:\n",
    "        texts, annotations = zip(*batch)\n",
    "        nlp.update(texts, annotations, sgd=optimizer, losses=losses)\n",
    "    print(\"Losses\", losses)\n",
    "    \n",
    "    ### TEST THE MODEL\n",
    "    model_test = {}\n",
    "    proiel_correct = 0\n",
    "    for sent in proiel_dev:\n",
    "        doc = nlp(sent[0])\n",
    "        predicted = [token.pos_ for token in doc]\n",
    "        given = sent[1][\"tags\"]\n",
    "        proiel_correct += len([p for p, g in zip(predicted, given) if p ==g])\n",
    "    model_test[\"proiel_correct%\"] = (proiel_correct / proiel_dev_len) * 100\n",
    "    correct_perc\n",
    "\n",
    "    perseus_correct = 0\n",
    "    for sent in perseus_dev:\n",
    "        doc = nlp(sent[0])\n",
    "        predicted = [token.pos_ for token in doc]\n",
    "        given = sent[1][\"tags\"]\n",
    "        perseus_correct += len([p for p, g in zip(predicted, given) if p ==g])\n",
    "    model_test[\"perseus_correct%\"] = (perseus_correct / perseus_dev_len) * 100\n",
    "    model_test[\"total_correct%\"] = ((proiel_correct + perseus_correct) / total_len) * 100\n",
    "    print(model_test)\n",
    "    model_tests.append(model_test)"
   ]
  },
  {
   "cell_type": "code",
   "execution_count": 110,
   "metadata": {},
   "outputs": [
    {
     "data": {
      "text/plain": [
       "[{'proiel_correct%': 86.85174333431,\n",
       "  'perseus_correct%': 81.11587982832617,\n",
       "  'total_correct%': 83.30399307010926},\n",
       " {'proiel_correct%': 87.3937884559039,\n",
       "  'perseus_correct%': 82.54348317144793,\n",
       "  'total_correct%': 84.39377427557493},\n",
       " {'proiel_correct%': 87.04219162027542,\n",
       "  'perseus_correct%': 83.21210752202394,\n",
       "  'total_correct%': 84.67320535389946},\n",
       " {'proiel_correct%': 88.03105772048052,\n",
       "  'perseus_correct%': 84.75717189970635,\n",
       "  'total_correct%': 86.00609159750748},\n",
       " {'proiel_correct%': 87.78933489598593,\n",
       "  'perseus_correct%': 85.40772532188842,\n",
       "  'total_correct%': 86.3162600944477},\n",
       " {'proiel_correct%': 87.71608555523001,\n",
       "  'perseus_correct%': 84.37316467133499,\n",
       "  'total_correct%': 85.64841981725208},\n",
       " {'proiel_correct%': 87.99443305010254,\n",
       "  'perseus_correct%': 85.16828552066863,\n",
       "  'total_correct%': 86.24640232486657},\n",
       " {'proiel_correct%': 87.99443305010254,\n",
       "  'perseus_correct%': 85.08244861079739,\n",
       "  'total_correct%': 86.19331041998491},\n",
       " {'proiel_correct%': 87.89920890711984,\n",
       "  'perseus_correct%': 84.88818613056246,\n",
       "  'total_correct%': 86.03682901612318},\n",
       " {'proiel_correct%': 87.68678581892763,\n",
       "  'perseus_correct%': 84.46351931330473,\n",
       "  'total_correct%': 85.693128789784},\n",
       " {'proiel_correct%': 87.70876062115441,\n",
       "  'perseus_correct%': 84.81590241698667,\n",
       "  'total_correct%': 85.91946796322686},\n",
       " {'proiel_correct%': 87.89188397304424,\n",
       "  'perseus_correct%': 85.36254800090354,\n",
       "  'total_correct%': 86.32743733758068}]"
      ]
     },
     "execution_count": 110,
     "metadata": {},
     "output_type": "execute_result"
    }
   ],
   "source": [
    "model_tests"
   ]
  },
  {
   "cell_type": "code",
   "execution_count": null,
   "metadata": {},
   "outputs": [],
   "source": [
    "nlp.to_disk(\"../data/spacy_grc_model_3_tagger\")"
   ]
  },
  {
   "cell_type": "markdown",
   "metadata": {},
   "source": [
    "# Test previous model"
   ]
  },
  {
   "cell_type": "code",
   "execution_count": 83,
   "metadata": {},
   "outputs": [],
   "source": [
    "# load it back\n",
    "nlp = spacy.load(\"../spacy_grc_model_1\")"
   ]
  },
  {
   "cell_type": "code",
   "execution_count": 100,
   "metadata": {},
   "outputs": [
    {
     "name": "stdout",
     "output_type": "stream",
     "text": [
      "tokens in proiel_dev: 13652\n",
      "tokens in perseus_dev: 22135\n"
     ]
    }
   ],
   "source": [
    "proiel_dev_len = sum([len(sent[1][\"tags\"]) for sent in proiel_dev])\n",
    "print(\"tokens in proiel_dev: \" + str(proiel_dev_len))\n",
    "\n",
    "perseus_dev_len = sum([len(sent[1][\"tags\"]) for sent in perseus_dev])\n",
    "print(\"tokens in perseus_dev: \" + str(perseus_dev_len))\n",
    "total_len = proiel_dev_len + perseus_dev_len"
   ]
  },
  {
   "cell_type": "code",
   "execution_count": 105,
   "metadata": {},
   "outputs": [
    {
     "name": "stdout",
     "output_type": "stream",
     "text": [
      "{'proiel_correct%': 87.90653384119544, 'perseus_correct%': 85.05534221820646, 'total_correct%': 86.1430128258865}\n"
     ]
    }
   ],
   "source": [
    "model_test = {}\n",
    "proiel_correct = 0\n",
    "for sent in proiel_dev:\n",
    "    doc = nlp(sent[0])\n",
    "    predicted = [token.pos_ for token in doc]\n",
    "    given = sent[1][\"tags\"]\n",
    "    proiel_correct += len([p for p, g in zip(predicted, given) if p ==g])\n",
    "model_test[\"proiel_correct%\"] = (proiel_correct / proiel_dev_len) * 100\n",
    "correct_perc\n",
    "\n",
    "perseus_correct = 0\n",
    "for sent in perseus_dev:\n",
    "    doc = nlp(sent[0])\n",
    "    predicted = [token.pos_ for token in doc]\n",
    "    given = sent[1][\"tags\"]\n",
    "    perseus_correct += len([p for p, g in zip(predicted, given) if p ==g])\n",
    "model_test[\"perseus_correct%\"] = (perseus_correct / perseus_dev_len) * 100\n",
    "model_test[\"total_correct%\"] = ((proiel_correct + perseus_correct) / total_len) * 100\n",
    "print(model_test)"
   ]
  },
  {
   "cell_type": "code",
   "execution_count": 104,
   "metadata": {},
   "outputs": [
    {
     "data": {
      "text/plain": [
       "{'proiel_correct%': 87.90653384119544,\n",
       " 'perseus_correct%': 85.05534221820646,\n",
       " 'total_correct%': 86.1430128258865}"
      ]
     },
     "execution_count": 104,
     "metadata": {},
     "output_type": "execute_result"
    }
   ],
   "source": [
    "model_test"
   ]
  },
  {
   "cell_type": "code",
   "execution_count": 94,
   "metadata": {},
   "outputs": [
    {
     "data": {
      "text/plain": [
       "0.8790653384119543"
      ]
     },
     "execution_count": 94,
     "metadata": {},
     "output_type": "execute_result"
    }
   ],
   "source": [
    "correct / proiel_dev_len"
   ]
  },
  {
   "cell_type": "code",
   "execution_count": 56,
   "metadata": {},
   "outputs": [
    {
     "data": {
      "text/plain": [
       "('ὃ μὲν δὴ ὡς οὐκ ἐδύνατο διαφυγεῖν ἦν ἕτοιμος',\n",
       " {'words': ['ὃ',\n",
       "   'μὲν',\n",
       "   'δὴ',\n",
       "   'ὡς',\n",
       "   'οὐκ',\n",
       "   'ἐδύνατο',\n",
       "   'διαφυγεῖν',\n",
       "   'ἦν',\n",
       "   'ἕτοιμος'],\n",
       "  'tags': ['PRON',\n",
       "   'ADV',\n",
       "   'ADV',\n",
       "   'SCONJ',\n",
       "   'ADV',\n",
       "   'VERB',\n",
       "   'VERB',\n",
       "   'AUX',\n",
       "   'ADJ']})"
      ]
     },
     "execution_count": 56,
     "metadata": {},
     "output_type": "execute_result"
    }
   ],
   "source": [
    "for word doc nlp(proiel_dev[0][\"words\"])"
   ]
  },
  {
   "cell_type": "code",
   "execution_count": null,
   "metadata": {},
   "outputs": [],
   "source": [
    "test_text = \"ἀρχόμενος σέο, Φοῖβε, παλαιγενέων κλέα φωτῶν μνήσομαι, οἳ Πόντοιο κατὰ στόμα καὶ διὰ πέτρας Κυανέας βασιλῆος ἐφημοσύνῃ Πελίαο χρύσειον μετὰ κῶας ἐύζυγον ἤλασαν Ἀργώ.\"\n",
    "doc = nlp(test_text)\n",
    "print(\"Tags\", [(t.text, t.tag_, t.pos_) for t in doc])"
   ]
  },
  {
   "cell_type": "code",
   "execution_count": null,
   "metadata": {},
   "outputs": [],
   "source": [
    "test_text = \"ἀρχόμενος σέο, Φοῖβε, παλαιγενέων κλέα φωτῶν μνήσομαι, οἳ Πόντοιο κατὰ στόμα καὶ διὰ πέτρας Κυανέας βασιλῆος ἐφημοσύνῃ Πελίαο χρύσειον μετὰ κῶας ἐύζυγον ἤλασαν Ἀργώ.\"\n",
    "doc = nlp(test_text)\n",
    "print(\"Tags\", [(t.text, t.tag_, t.pos_) for t in doc])"
   ]
  },
  {
   "cell_type": "code",
   "execution_count": null,
   "metadata": {},
   "outputs": [],
   "source": [
    "nlp.to_disk(\"../data/spacy_model\")"
   ]
  },
  {
   "cell_type": "code",
   "execution_count": null,
   "metadata": {},
   "outputs": [],
   "source": []
  },
  {
   "cell_type": "markdown",
   "metadata": {},
   "source": [
    "# Loading the model back"
   ]
  },
  {
   "cell_type": "code",
   "execution_count": 82,
   "metadata": {},
   "outputs": [
    {
     "ename": "OSError",
     "evalue": "[E050] Can't find model '../spacy_model'. It doesn't seem to be a shortcut link, a Python package or a valid path to a data directory.",
     "output_type": "error",
     "traceback": [
      "\u001b[0;31m---------------------------------------------------------------------------\u001b[0m",
      "\u001b[0;31mOSError\u001b[0m                                   Traceback (most recent call last)",
      "\u001b[0;32m<ipython-input-82-efb4b0cf09dd>\u001b[0m in \u001b[0;36m<module>\u001b[0;34m\u001b[0m\n\u001b[1;32m      1\u001b[0m \u001b[0;31m# load it back\u001b[0m\u001b[0;34m\u001b[0m\u001b[0;34m\u001b[0m\u001b[0;34m\u001b[0m\u001b[0m\n\u001b[0;32m----> 2\u001b[0;31m \u001b[0mnlp\u001b[0m \u001b[0;34m=\u001b[0m \u001b[0mspacy\u001b[0m\u001b[0;34m.\u001b[0m\u001b[0mload\u001b[0m\u001b[0;34m(\u001b[0m\u001b[0;34m\"../spacy_model\"\u001b[0m\u001b[0;34m)\u001b[0m\u001b[0;34m\u001b[0m\u001b[0;34m\u001b[0m\u001b[0m\n\u001b[0m",
      "\u001b[0;32m~/.local/lib/python3.6/site-packages/spacy/__init__.py\u001b[0m in \u001b[0;36mload\u001b[0;34m(name, **overrides)\u001b[0m\n\u001b[1;32m     28\u001b[0m     \u001b[0;32mif\u001b[0m \u001b[0mdepr_path\u001b[0m \u001b[0;32mnot\u001b[0m \u001b[0;32min\u001b[0m \u001b[0;34m(\u001b[0m\u001b[0;32mTrue\u001b[0m\u001b[0;34m,\u001b[0m \u001b[0;32mFalse\u001b[0m\u001b[0;34m,\u001b[0m \u001b[0;32mNone\u001b[0m\u001b[0;34m)\u001b[0m\u001b[0;34m:\u001b[0m\u001b[0;34m\u001b[0m\u001b[0;34m\u001b[0m\u001b[0m\n\u001b[1;32m     29\u001b[0m         \u001b[0mwarnings\u001b[0m\u001b[0;34m.\u001b[0m\u001b[0mwarn\u001b[0m\u001b[0;34m(\u001b[0m\u001b[0mWarnings\u001b[0m\u001b[0;34m.\u001b[0m\u001b[0mW001\u001b[0m\u001b[0;34m.\u001b[0m\u001b[0mformat\u001b[0m\u001b[0;34m(\u001b[0m\u001b[0mpath\u001b[0m\u001b[0;34m=\u001b[0m\u001b[0mdepr_path\u001b[0m\u001b[0;34m)\u001b[0m\u001b[0;34m,\u001b[0m \u001b[0mDeprecationWarning\u001b[0m\u001b[0;34m)\u001b[0m\u001b[0;34m\u001b[0m\u001b[0;34m\u001b[0m\u001b[0m\n\u001b[0;32m---> 30\u001b[0;31m     \u001b[0;32mreturn\u001b[0m \u001b[0mutil\u001b[0m\u001b[0;34m.\u001b[0m\u001b[0mload_model\u001b[0m\u001b[0;34m(\u001b[0m\u001b[0mname\u001b[0m\u001b[0;34m,\u001b[0m \u001b[0;34m**\u001b[0m\u001b[0moverrides\u001b[0m\u001b[0;34m)\u001b[0m\u001b[0;34m\u001b[0m\u001b[0;34m\u001b[0m\u001b[0m\n\u001b[0m\u001b[1;32m     31\u001b[0m \u001b[0;34m\u001b[0m\u001b[0m\n\u001b[1;32m     32\u001b[0m \u001b[0;34m\u001b[0m\u001b[0m\n",
      "\u001b[0;32m~/.local/lib/python3.6/site-packages/spacy/util.py\u001b[0m in \u001b[0;36mload_model\u001b[0;34m(name, **overrides)\u001b[0m\n\u001b[1;32m    173\u001b[0m     \u001b[0;32melif\u001b[0m \u001b[0mhasattr\u001b[0m\u001b[0;34m(\u001b[0m\u001b[0mname\u001b[0m\u001b[0;34m,\u001b[0m \u001b[0;34m\"exists\"\u001b[0m\u001b[0;34m)\u001b[0m\u001b[0;34m:\u001b[0m  \u001b[0;31m# Path or Path-like to model data\u001b[0m\u001b[0;34m\u001b[0m\u001b[0;34m\u001b[0m\u001b[0m\n\u001b[1;32m    174\u001b[0m         \u001b[0;32mreturn\u001b[0m \u001b[0mload_model_from_path\u001b[0m\u001b[0;34m(\u001b[0m\u001b[0mname\u001b[0m\u001b[0;34m,\u001b[0m \u001b[0;34m**\u001b[0m\u001b[0moverrides\u001b[0m\u001b[0;34m)\u001b[0m\u001b[0;34m\u001b[0m\u001b[0;34m\u001b[0m\u001b[0m\n\u001b[0;32m--> 175\u001b[0;31m     \u001b[0;32mraise\u001b[0m \u001b[0mIOError\u001b[0m\u001b[0;34m(\u001b[0m\u001b[0mErrors\u001b[0m\u001b[0;34m.\u001b[0m\u001b[0mE050\u001b[0m\u001b[0;34m.\u001b[0m\u001b[0mformat\u001b[0m\u001b[0;34m(\u001b[0m\u001b[0mname\u001b[0m\u001b[0;34m=\u001b[0m\u001b[0mname\u001b[0m\u001b[0;34m)\u001b[0m\u001b[0;34m)\u001b[0m\u001b[0;34m\u001b[0m\u001b[0;34m\u001b[0m\u001b[0m\n\u001b[0m\u001b[1;32m    176\u001b[0m \u001b[0;34m\u001b[0m\u001b[0m\n\u001b[1;32m    177\u001b[0m \u001b[0;34m\u001b[0m\u001b[0m\n",
      "\u001b[0;31mOSError\u001b[0m: [E050] Can't find model '../spacy_model'. It doesn't seem to be a shortcut link, a Python package or a valid path to a data directory."
     ]
    }
   ],
   "source": [
    "# load it back\n",
    "nlp = spacy.load(\"../spacy_grc_model_1\")"
   ]
  },
  {
   "cell_type": "code",
   "execution_count": null,
   "metadata": {},
   "outputs": [],
   "source": [
    "nlp.vocab.lookups.tables"
   ]
  },
  {
   "cell_type": "code",
   "execution_count": null,
   "metadata": {},
   "outputs": [],
   "source": [
    "nlp.vocab.lookups.remove_table(\"ag_lemma_lookup\")\n",
    "nlp.vocab.lookups.remove_table(\"lemma_exc\")"
   ]
  },
  {
   "cell_type": "code",
   "execution_count": 14,
   "metadata": {},
   "outputs": [],
   "source": [
    "path = \"../data/ag_lemma_lookup.json\"\n",
    "lemma_lookup = json.load(open(path))"
   ]
  },
  {
   "cell_type": "code",
   "execution_count": 15,
   "metadata": {},
   "outputs": [],
   "source": [
    "# let add our table to our model\n",
    "#table = nlp.vocab.lookups.add_table(\"ag_lemma_lookup\", ag_lemma_lookup)\n",
    "table = nlp.vocab.lookups.add_table(\"lemma_lookup\", lemma_lookup)"
   ]
  },
  {
   "cell_type": "code",
   "execution_count": 17,
   "metadata": {},
   "outputs": [],
   "source": [
    "nlp.to_disk(\"../spacy_model\")"
   ]
  },
  {
   "cell_type": "code",
   "execution_count": 16,
   "metadata": {},
   "outputs": [
    {
     "data": {
      "text/plain": [
       "'μιμνήσκω'"
      ]
     },
     "execution_count": 16,
     "metadata": {},
     "output_type": "execute_result"
    }
   ],
   "source": [
    "lemma_lookup = nlp.vocab.lookups.get_table(\"lemma_lookup\")\n",
    "lemma_lookup[\"VERB\"][\"μνήσομαι\"]"
   ]
  },
  {
   "cell_type": "code",
   "execution_count": null,
   "metadata": {},
   "outputs": [],
   "source": []
  }
 ],
 "metadata": {
  "kernelspec": {
   "display_name": "Python 3",
   "language": "python",
   "name": "python3"
  },
  "language_info": {
   "codemirror_mode": {
    "name": "ipython",
    "version": 3
   },
   "file_extension": ".py",
   "mimetype": "text/x-python",
   "name": "python",
   "nbconvert_exporter": "python",
   "pygments_lexer": "ipython3",
   "version": "3.6.9"
  }
 },
 "nbformat": 4,
 "nbformat_minor": 4
}
