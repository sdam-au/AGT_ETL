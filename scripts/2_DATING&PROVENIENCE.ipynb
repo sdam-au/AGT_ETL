{
 "cells": [
  {
   "cell_type": "markdown",
   "metadata": {
    "colab_type": "text",
    "id": "EbixMMZchOgn"
   },
   "source": [
    "# Requirements"
   ]
  },
  {
   "cell_type": "code",
   "execution_count": 1,
   "metadata": {
    "colab": {
     "base_uri": "https://localhost:8080/",
     "height": 272
    },
    "colab_type": "code",
    "executionInfo": {
     "elapsed": 9878,
     "status": "ok",
     "timestamp": 1588779837403,
     "user": {
      "displayName": "Vojtěch Kaše",
      "photoUrl": "https://lh3.googleusercontent.com/a-/AOh14Ggz3jS9e7I3GdIEbyBKFtqr9tPdNCwyLBEJwbK8cw=s64",
      "userId": "01399835024022498543"
     },
     "user_tz": -120
    },
    "id": "QWRXmeoNhLsD",
    "outputId": "ae5620d8-2479-4587-c6ed-cdf64706b2a3"
   },
   "outputs": [],
   "source": [
    "import os\n",
    "import json\n",
    "import pandas as pd\n",
    "import numpy as np\n",
    "import json\n",
    "import logging ### to monitor the code\n",
    "from bs4 import BeautifulSoup\n",
    "import xml.etree.cElementTree as ET\n",
    "import pickle\n",
    "import math\n",
    "import random\n",
    "import sys\n",
    "import csv\n",
    "import unicodedata\n",
    "import requests\n",
    "from urllib.request import urlopen \n",
    "import io\n",
    "import getpass\n",
    "import re\n",
    "from collections import defaultdict\n",
    "from itertools import islice # to iterate through dicts\n",
    "\n",
    "import nltk\n",
    "from nltk.collocations import *\n",
    "\n",
    "\n",
    "### plotting\n",
    "### to use latex (important for greek fonts)\n",
    "#! apt-get install texlive-latex-recommended \n",
    "#! apt install texlive-latex-extra\n",
    "#! apt install dvipng\n",
    "import matplotlib as mpl\n",
    "import matplotlib.pyplot as plt\n",
    "import seaborn as sns\n",
    "\n",
    "from scipy import stats\n",
    "\n",
    "import gspread\n",
    "from gspread_dataframe import get_as_dataframe, set_with_dataframe\n",
    "from google.oauth2 import service_account # based on google-auth library\n",
    "\n",
    "import sddk"
   ]
  },
  {
   "cell_type": "code",
   "execution_count": 2,
   "metadata": {
    "colab": {
     "base_uri": "https://localhost:8080/",
     "height": 85
    },
    "colab_type": "code",
    "executionInfo": {
     "elapsed": 11242,
     "status": "ok",
     "timestamp": 1588774498489,
     "user": {
      "displayName": "Vojtěch Kaše",
      "photoUrl": "https://lh3.googleusercontent.com/a-/AOh14Ggz3jS9e7I3GdIEbyBKFtqr9tPdNCwyLBEJwbK8cw=s64",
      "userId": "01399835024022498543"
     },
     "user_tz": -120
    },
    "id": "cmC88KhGh7n2",
    "outputId": "4356c03e-47e1-4a6b-dc69-cf21efc97e0f"
   },
   "outputs": [
    {
     "name": "stdout",
     "output_type": "stream",
     "text": [
      "sciencedata.dk username (format '123456@au.dk'): 648597@au.dk\n",
      "sciencedata.dk password: ········\n",
      "connection with shared folder established with you as its owner\n",
      "endpoint variable has been configured to: https://sciencedata.dk/files/SDAM_root/\n"
     ]
    }
   ],
   "source": [
    "conf = sddk.configure(\"SDAM_root\", \"648597@au.dk\")"
   ]
  },
  {
   "cell_type": "code",
   "execution_count": 3,
   "metadata": {
    "colab": {},
    "colab_type": "code",
    "id": "_wKUMZ-yjvEn"
   },
   "outputs": [],
   "source": [
    "# to access gsheet, you need Google Service Account key json file\n",
    "# I have mine located in my personal space on sciencedata.dk, so I read it from there:\n",
    "\n",
    "# (1) read the file and parse its content\n",
    "file_data = conf[0].get(\"https://sciencedata.dk/files/ServiceAccountsKey.json\").json()\n",
    "# (2) transform the content into crendentials object\n",
    "credentials = service_account.Credentials.from_service_account_info(file_data)\n",
    "# (3) specify your usage of the credentials\n",
    "scoped_credentials = credentials.with_scopes(['https://spreadsheets.google.com/feeds', 'https://www.googleapis.com/auth/drive'])\n",
    "# (4) use the constrained credentials for authentication of gspread package\n",
    "gc = gspread.Client(auth=scoped_credentials)\n",
    "\n",
    "AGT_overview = gc.open_by_url(\"https://docs.google.com/spreadsheets/d/1iVta_FuEDgUM_Lf_yByrdbbXNoVH_dnVZs6QRyYv1NM/edit?usp=sharing\")\n",
    "\n",
    "# AGT_metadata = gc.open_by_url(\"https://docs.google.com/spreadsheets/d/1hEUnL3E07F-EnE3wYnk1V91aXfPDrcnhFHKjD-04CM0/edit?usp=sharing\")"
   ]
  },
  {
   "cell_type": "markdown",
   "metadata": {
    "colab_type": "text",
    "id": "R-TsWb91nXeB"
   },
   "source": [
    "# Extract date info from cltk github"
   ]
  },
  {
   "cell_type": "code",
   "execution_count": 4,
   "metadata": {
    "colab": {
     "base_uri": "https://localhost:8080/",
     "height": 54
    },
    "colab_type": "code",
    "executionInfo": {
     "elapsed": 784,
     "status": "ok",
     "timestamp": 1581068117558,
     "user": {
      "displayName": "Vojtěch Kaše",
      "photoUrl": "https://lh3.googleusercontent.com/a-/AAuE7mAxTlnyE78QMWq7qNrhY8cMOVti0SJqAGwQEptYkQ=s64",
      "userId": "01399835024022498543"
     },
     "user_tz": -60
    },
    "id": "DfbPAi3TktHw",
    "outputId": "9b8c8105-6cde-4ff4-cc30-efaa2dc0a73b"
   },
   "outputs": [
    {
     "data": {
      "text/plain": [
       "\"AUTHOR_DATE = {'A.D. 1': ['0031', '0041', '0280', '0283', '0347', '0526', '0587', '0619', '0628', '0643', '0648', '0654', '0656', '0716', '0825', '0888', '1004', '1152', '1155', '1201', '1247', '1271', '1301', '1701', '1703', '1828', '1890', '2424', '4335'], 'a. 1 B.C.': ['0359', '0687', '0750', '1534', '1627', '1678', '1720', '2552', '2652'], 'a. A.D. 11': ['2972', '4303'], 'a. 2 B.C.?': ['2215', '2525'], 'A.D. 9': ['0723', '0738', '3043', '3128', '3177', '4040', '4093', '4097', '4101', '4149'], 'A.D. 11': ['2702', '3027', '3064', '4098', '4235', '4330'], 'A.D. 1?/6': ['4150'], 'Incertum': ['0037', '0038', '0040', '0042', '0043', '0044', '0045', '0046', '0047', '0049', '0050', '0055', '0056', '0092', '0125', '0200', '0202', '0248', '0349', '0350', '0351', '0352', '0353', '0354', '0386', '0394', '0395', '0427', '0430', '0493', '0605', '0622', '0623', '0636', '0637', '0740', '0833', '0876', '0889', '1121', '1161', '1177', '1278', '1281', '1298', '1318', '1325', '1327', '1334', '1411', '1412', '1459', '1509', '1576', '1585', '1597', '1613', '1615', '1680', '1681', '1690', '1749', '1754', '1775', '1780', '1782', '1783', '1785', '1786', '1787', '1788', '1791', '1793', '1794', '1795', '1819', '1896', '1906', '2004', '2030', '2175', '2190', '2192', '2193', '2194', '2195', '2196', '2201', '2202', '2203', '2213', '2243', '2268', '2287', '2349', '2354', '2458', '2511', '2532', '2533', '2555', '2556', '2557', '2559', '2560', '2566', '2568', '2619', '2628', '2631', '2655', '2680', '2691', '2948', '2949', '4171', '4174', '4242', '4287', '4288', '4301', '4302', '4305', '4318', '4345', '4397', '5052', '9004', '9007'], 'A.D. 3-4': ['2023', '2962', '2966', '4319'], 'a. A.D. 5?': ['0290'], 'A.D. 1/2': ['0528', '0548', '0607', '0706', '1148', '1216', '1374', '1605', '1706'], 'A.D. 2/4?': ['1487'], 'A.D. 3?': ['0522', '0581', '0658', '2039', '2122', '2583', '2679'], '1 B.C.-A.D. 1?': ['1496', '2423', '2641'], '6 B.C.': ['0002', '0096', '0233', '0237', '0238', '0244', '0249', '0293', '0301', '0303', '0365', '0366', '0617', '0630', '1223', '1275', '1433', '1604', '1705', '1811', '2218', '2225', '2226', '2227', '2247', '2260', '2275', '2286', '4163'], '5/3 B.C.': ['0498'], '8 B.C.': ['0012', '1141'], '2 B.C./A.D. 3': ['1700', '2460'], 'Varia': ['0072', '0230', '0231', '0234', '0235', '0295', '0296', '0297', '0408', '0527', '0579', '0598', '0602', '0659', '0662', '0721', '0742', '1127', '1129', '1139', '1344', '1345', '1379', '1386', '1471', '1639', '1738', '1750', '1765', '1801', '1802', '1805', '1817', '1821', '2239', '2646', '2648', '2654', '2695', '2738', '2742', '3002', '4026', '4027', '4033', '4037', '4161', '4165', '4166', '4170', '4172', '4173', '4175', '4193', '4286', '4289', '4307', '5000', '5002', '5003', '5008', '5009', '5010', '5012', '5013', '5014', '5015', '5016', '5017', '5018', '5019', '5021', '5022', '5023', '5024', '5025', '5026', '5027', '5028', '5029', '5030', '5031', '5032', '5033', '5034', '5035', '5037', '5038', '5039', '5040', '5045', '5046', '5048', '7000', '7052'], 'p. 1 B.C.': ['0090', '1803', '1987'], '3-2 B.C.?': ['1180', '1649', '1663', '2204', '2205', '2333'], 'A.D. 10/15': ['3168'], 'a. 6 B.C.': ['0710'], 'A.D. 2/3': ['0300', '0384', '0640', '0641', '1310', '1368', '1570', '1666', '1702', '2140'], 'p. A.D. 10': ['4293'], '7/6 B.C.?': ['0364', '1241'], 'a. A.D. 4': ['0279', '1372', '2610'], 'a. A.D. 1/2': ['1482'], '3/2 B.C.': ['0022', '0208', '0345', '0454', '0509', '0608', '0707', '1135', '1218', '1226', '1230', '1340', '1490', '1556', '1571', '1835', '1967', '2587'], 'A.D. 6': ['0718', '0726', '0744', '2121', '2274', '2449', '2578', '2580', '2733', '2816', '2865', '2866', '2877', '2881', '3127', '3185', '3186', '3187', '4001', '4005', '4013', '4014', '4015', '4018', '4019', '4020', '4021', '4024', '4028', '4029', '4039', '4061', '4076', '4094', '4236', '4328', '4392', '4393'], 'a. A.D. 1': ['1156', '1428', '1836'], 'A.D. 8-9?': ['4331'], 'A.D. 3/4?': ['2531'], 'A.D. 1-7': ['1816'], 'A.D. 13-14': ['2592', '2718', '3142', '3155', '3159', '3188', '4030', '4145', '9023'], 'A.D. 2': ['0023', '0057', '0062', '0082', '0083', '0084', '0087', '0097', '0098', '0186', '0268', '0278', '0281', '0284', '0317', '0358', '0361', '0363', '0388', '0389', '0390', '0525', '0532', '0542', '0553', '0562', '0563', '0585', '0594', '0606', '0614', '0615', '0616', '0645', '0649', '0666', '0667', '0671', '0693', '0719', '0749', '1149', '1163', '1184', '1188', '1205', '1208', '1213', '1242', '1248', '1249', '1272', '1311', '1321', '1322', '1323', '1329', '1349', '1350', '1352', '1353', '1364', '1371', '1377', '1381', '1398', '1402', '1419', '1426', '1429', '1441', '1447', '1451', '1466', '1483', '1485', '1488', '1495', '1521', '1524', '1530', '1542', '1548', '1550', '1555', '1558', '1569', '1608', '1626', '1637', '1641', '1664', '1698', '1724', '1725', '1746', '1764', '1766', '1771', '1992', '2969', '2970'], 'A.D. 6-7': ['2892'], 'p. 3 B.C.': ['2396', '2482'], 'p. A.D. 2': ['0061', '0071', '0094', '0530', '1479', '1484', '1642', '2029', '2657'], 'A.D. 5/7': ['3178'], 'A.D. 5-6': ['2119', '2598', '2734', '2798', '2871', '4072', '4088', '4184'], '4/2 B.C.?': ['0601'], 'A.D. 15-16': ['3176', '9018'], '7/6 B.C.': ['0241', '0242', '0253', '0288', '0696', '1182', '1541', '1607'], 'a. A.D. 3?': ['1369'], 'A.D. 2-3': ['0008', '0015', '0024', '0385', '0391', '0544', '0545', '0555', '0592', '0638', '0732', '0733', '1131', '1171', '1600', '1665', '1670', '2042', '2956'], '2-1 B.C.?': ['0597', '2171', '2172', '2173'], 'p. 4 B.C.?': ['0054', '0217', '1361', '1413', '1435', '1753', '2475'], '2/1 B.C.': ['1220', '1302', '1463', '1464'], 'a. 3 B.C.': ['1945', '2339'], '7-6 B.C.': ['0009', '0263', '0292', '0383', '0387', '0629', '0631', '0725', '1274', '1667', '1815'], 'a. A.D. 15': ['3156'], '4-3 B.C.?': ['0399', '1179', '1324', '1338', '2289', '2336', '2345', '2346', '2621'], 'a. A.D. 14/15': ['4300'], 'A.D. 2?': ['0053', '0069', '0116', '0554', '0561', '0580', '0582', '0651', '1136', '1158', '1167', '1254', '1367', '1375', '1376', '1527', '1772', '2187', '2434'], '5/4 B.C.?': ['0441', '0453', '0462'], '3 B.C.': ['0001', '0052', '0131', '0137', '0198', '0201', '0204', '0210', '0215', '0218', '0219', '0221', '0339', '0340', '0342', '0422', '0425', '0444', '0460', '0464', '0473', '0482', '0488', '0495', '0500', '0519', '0550', '0552', '0568', '0570', '0584', '0604', '0650', '0690', '0703', '0856', '1138', '1162', '1176', '1178', '1192', '1193', '1224', '1250', '1264', '1292', '1297', '1305', '1314', '1360', '1362', '1365', '1392', '1421', '1430', '1432', '1436', '1450', '1475', '1477', '1507', '1514', '1525', '1526', '1533', '1549', '1566', '1577', '1588', '1603', '1606', '1609', '1629', '1632', '1638', '1654', '1661', '1662', '1691', '1693', '1696', '1699', '1711', '1715', '1799', '1915', '1953', '1969', '1970', '2160', '2162', '2168', '2169', '2185', '2331', '2542', '2543', '2608', '2613', '2615', '2620', '2693', '4396'], '2 B.C./A.D. 2': ['1157', '1643', '2186'], 'a. A.D. 10': ['4157', '4304'], 'A.D. 2?/4': ['1286'], '4/3 B.C.': ['0398', '0411', '0412', '0413', '0438', '0440', '0471', '0618', '1132', '1256', '1978', '2479'], 'A.D. 6-10': ['3075'], '4 B.C./A.D. 2': ['1332', '1425', '1676'], 'p. 7 B.C.': ['1212'], '4-3 B.C.': ['0005', '0029', '0089', '0093', '0197', '0207', '0211', '0212', '0213', '0216', '0220', '0336', '0341', '0402', '0407', '0416', '0447', '0487', '0506', '0507', '0533', '0537', '0541', '0574', '0583', '0624', '0635', '0653', '1172', '1181', '1222', '1244', '1251', '1269', '1270', '1287', '1288', '1303', '1307', '1339', '1390', '1439', '1442', '1470', '1489', '1544', '1574', '1682', '1733', '1735', '1911', '1912', '2219', '2265', '2300', '2334'], '5-4 B.C.': ['0010', '0017', '0019', '0027', '0032', '0048', '0059', '0251', '0257', '0262', '0323', '0375', '0376', '0379', '0380', '0403', '0414', '0415', '0419', '0420', '0423', '0429', '0470', '0483', '0494', '0497', '0499', '0513', '0540', '0591', '0593', '0627', '0845', '1125', '1304', '1427', '1591', '1634', '1683', '1800', '1848', '2242', '2291', '2313', '2645', '4390'], 'A.D. 9-10': ['2130', '3015', '3100', '4340'], '4/2 B.C.': ['0633', '1259', '1572'], 'A.D. 9/10': ['0729'], '4/1 B.C.': ['1752'], 'A.D. 8': ['3173'], 'a. 3 B.C.?': ['1713', '1723'], '4 B.C./A.D. 1': ['0676'], 'A.D. 13': ['3136', '3140', '3141', '3157', '4187', '4333', '9006'], 'A.D. 9?': ['5004'], 'A.D. 8/10': ['4291'], 'p. A.D. 6': ['0075', '4147', '4227'], '3 B.C.?/A.D. 1': ['0571'], 'A.D. 4/5?': ['2052'], 'A.D. 14': ['2945', '3169', '3170', '4294', '9008'], 'a. A.D. 12': ['9003'], 'a. A.D. 8': ['4332', '4339'], '2 B.C./A.D. 2?': ['2636'], '1 B.C.': ['0060', '0068', '0079', '0081', '0165', '0357', '0401', '0529', '0556', '0577', '0609', '0625', '0655', '0660', '0698', '0720', '0816', '1124', '1164', '1199', '1206', '1266', '1289', '1312', '1383', '1595', '1602', '1679', '1688', '1704', '1732', '1804', '1875', '1918', '1976', '1977', '1981', '2397', '2611', '4395'], 'a. A.D. 3': ['0273', '0275', '1154', '1326', '1382', '1505', '1552', '1559', '1648', '1859', '2118', '2217', '2273', '2367', '2398', '2617'], '2 B.C.': ['0035', '0036', '0063', '0067', '0203', '0209', '0343', '0344', '0436', '0516', '0549', '0603', '0611', '0621', '0717', '0897', '1146', '1166', '1173', '1186', '1207', '1211', '1219', '1240', '1245', '1293', '1294', '1320', '1393', '1407', '1431', '1499', '1594', '1645', '1687', '1748', '1779', '1881', '1954', '2364', '2383', '2392', '2399', '2545', '2625', '2650'], 'p. A.D. 1': ['0734', '1118'], '8-6 B.C.': ['0013'], '2/1 B.C.?': ['1197', '1227'], '2 B.C.?': ['0348', '0569', '0576', '1308', '1400', '1493', '1623', '1636', '1727', '2278', '2357', '2474', '2647', '2649'], '3/1 B.C.': ['1529'], '5 B.C.': ['0003', '0006', '0011', '0016', '0028', '0127', '0199', '0236', '0246', '0252', '0254', '0256', '0265', '0302', '0305', '0306', '0307', '0308', '0309', '0310', '0311', '0312', '0313', '0314', '0315', '0316', '0318', '0319', '0320', '0360', '0369', '0370', '0371', '0372', '0373', '0374', '0377', '0392', '0397', '0417', '0426', '0428', '0431', '0433', '0434', '0443', '0449', '0459', '0461', '0463', '0472', '0474', '0475', '0477', '0486', '0492', '0496', '0501', '0508', '0510', '0514', '0520', '0521', '0524', '0539', '0595', '0766', '0900', '0918', '1145', '1147', '1258', '1263', '1315', '1319', '1342', '1434', '1437', '1446', '1461', '1494', '1545', '1557', '1562', '1584', '1587', '1596', '1625', '1635', '1729', '1751', '1839', '1840', '1843', '1844', '1845', '1868', '1923', '2228', '2229', '2230', '2232', '2234', '2235', '2237', '2240', '2303', '2304', '2305', '2314', '2319', '2372', '2456', '2466', '2600', '2633', '2729', '4391'], '1 B.C./A.D. 1?': ['0613'], 'a. A.D. 2': ['0276', '0277', '1128', '1160', '1395', '1460', '1462', '1560', '1568', '1813', '1899', '2212', '2270', '2277', '2298', '2322', '2612', '2614', '2616', '2622', '2623', '2626', '2639', '2699', '4346'], '5/3 B.C.?': ['0294'], '3 B.C./A.D. 2': ['1252', '1695'], 'A.D. 8-9': ['2714', '3045', '3086', '4046', '4361', '9012'], '4/1 B.C.?': ['2409'], 'A.D. 14-15': ['4201'], '7 B.C.': ['0232', '0243', '0255', '0260', '0266', '0291', '0299'], 'A.D. 2/3?': ['1373', '1515'], 'A.D. 3': ['0004', '0282', '0572', '0652', '1366', '2000', '2002', '2027', '2034', '2038', '2054', '2063', '2115', '2117', '2133', '2141', '2178', '2189', '2248', '2577', '2903'], '6/5 B.C.': ['0264', '0367', '0368'], 'p. A.D. 7': ['2047'], 'A.D. 5/6?': ['2506', '2589', '2596', '4374'], 'a. A.D. 2/3': ['0269', '0271', '0272'], '1 B.C.?': ['0039', '0663', '1204', '1239', '1257', '1763', '1907', '2653', '2694'], '4 B.C.': ['0014', '0026', '0030', '0034', '0058', '0064', '0066', '0086', '0088', '0095', '0205', '0227', '0247', '0259', '0322', '0324', '0325', '0326', '0327', '0328', '0329', '0330', '0331', '0332', '0333', '0334', '0335', '0337', '0338', '0378', '0381', '0382', '0396', '0400', '0404', '0405', '0406', '0409', '0410', '0421', '0424', '0432', '0435', '0437', '0448', '0450', '0451', '0452', '0455', '0458', '0465', '0466', '0467', '0476', '0478', '0480', '0484', '0485', '0489', '0490', '0505', '0512', '0515', '0518', '0534', '0535', '0536', '0547', '0566', '0578', '0610', '0620', '0634', '0639', '0673', '0679', '0695', '0700', '0714', '0971', '0981', '1087', '1094', '1096', '1115', '1133', '1150', '1175', '1190', '1196', '1200', '1210', '1262', '1273', '1276', '1277', '1282', '1313', '1316', '1355', '1357', '1358', '1387', '1399', '1406', '1409', '1476', '1486', '1500', '1503', '1508', '1578', '1583', '1633', '1650', '1692', '1714', '1781', '1784', '1871', '1908', '2153', '2241', '2244', '2245', '2246', '2330', '2386', '2387', '2444', '2536', '2594', '2607', '2635', '2681', '2697', '2968', '4344'], 'p. A.D. 5': ['4102'], '4-2 B.C.': ['1203'], 'A.D. 7/8': ['4326', '4329'], 'A.D. 5/6': ['2914', '4066', '4082', '4085'], 'A.D. 12': ['3014', '3039', '3047', '3074', '4083', '4099', '4311', '9022'], 'a. 2 B.C.': ['1105', '1498', '1535', '2182', '2216', '2651'], 'p. A.D. 3': ['0077', '2007', '2009', '2016'], 'A.D. 1/2?': ['0708', '1389', '2181'], 'a. A.D. 5': ['1757', '2120'], 'A.D. 3/10': ['0752'], 'a. A.D. 14': ['4292'], 'A.D. 7-8': ['2934', '7051'], '8/6 B.C.': ['0683', '1296', '1351', '1444', '1445', '1547', '1712', '1737'], 'p. 4 B.C.': ['0456', '1580', '1726', '1814', '2418'], 'A.D. 4/6?': ['0745'], 'A.D. 4-5?': ['2328', '2971'], 'A.D. 1-2?': ['2255', '4086'], 'A.D. 1?': ['0559', '0560', '0748', '1153', '1268', '1414', '1728', '2426', '2428', '2632', '4334'], 'A.D. 2-3?': ['0141', '0531', '1759'], 'A.D. 6?': ['2461', '2860'], 'p. A.D. 9/10': ['0728', '0746'], 'A.D. 10': ['3023', '3040', '3051', '3069', '3070', '3115', '3125', '3158', '3181', '3182', '4080', '4153', '9010'], '1 B.C./A.D. 1': ['1747'], 'p. 1 B.C.?': ['1504'], '6-5 B.C.': ['0033', '0085', '0258', '0261', '0267', '0538', '0626', '0632', '0713', '1347', '1833'], 'A.D. 11-12': ['2703', '2721', '3018', '3063', '3079', '3088', '3135', '4031', '4034'], 'A.D. 4/5': ['4100'], '2 B.C.-A.D. 4': ['1551'], '3-2 B.C.': ['0222', '0543', '0586', '0644', '1405', '1599', '1646', '1651', '1685', '1756', '1812', '1917', '1972', '2284', '2294'], 'A.D. 3/5': ['0646', '4003'], 'A.D. 3/4': ['0647', '2019', '2586', '2601'], 'A.D. 7': ['0715', '0727', '0736', '2371', '2701', '3130', '4167', '4394', '9019', '9021'], '3/2 B.C.?': ['1306', '1734', '2393'], 'A.D. 4/6': ['2595'], '1 B.C.-A.D. 1': ['0018', '0099', '0146', '0346', '1189', '1194', '1285', '1337', '1452', '1611', '1838', '1949'], 'A.D. 6/13': ['3120'], '2-1 B.C.': ['0657', '0697', '1052', '1143', '1516', '1719', '2546'], '4?/2 B.C.': ['1832'], 'p. 5 B.C.': ['0479', '0523', '0751'], 'A.D. 5?': ['4084', '4327'], '3 B.C.?': ['0051', '0174', '0206', '0214', '0321', '0355', '0468', '0469', '0503', '0504', '0511', '0688', '1170', '1174', '1202', '1225', '1231', '1237', '1343', '1388', '1391', '1420', '1506', '1523', '1590', '1675', '1709', '1710', '1797', '2341', '2391', '2455', '2512', '2539', '2547', '2548', '2624', '2630'], '8/7 B.C.?': ['0020'], 'A.D. 1-2': ['0007', '0074', '0546', '0551', '0557', '0564', '0565', '0612', '0661', '1016', '1165', '1168', '1408', '1416', '1443', '1617', '1622', '1760', '1867'], 'a. 4 B.C.?': ['1511', '2282'], 'A.D. 5/10': ['4290'], 'A.D. 12-13': ['3020', '3094'], 'a. 5 B.C.': ['0250'], 'A.D. 15': ['3139', '3143', '3144', '3145', '3146', '3147', '4237', '9009'], 'A.D. 6/7': ['0724'], '5 B.C.?': ['0418', '1134', '1438', '1512', '1849', '2306', '2355', '2638'], 'p. A.D. 4': ['2008', '2010', '2011', '2012', '2014', '2015', '2233'], '5-4 B.C.?': ['0686', '1291', '2326'], '4/3 B.C.?': ['0442', '0517', '1736', '2412', '2417', '2565', '2609'], '5/4 B.C.': ['0065', '0239', '0439', '0445', '1309', '1567', '1846', '2231'], 'a. A.D. 1?': ['2605'], '8/6 B.C.?': ['1546'], '3 B.C./A.D. 1': ['1083', '1183'], 'A.D. 12?': ['4032', '9020'], '4 B.C.?': ['0240', '0446', '0457', '0481', '0491', '0502', '0558', '1123', '1191', '1228', '1229', '1232', '1328', '1341', '1354', '1397', '1469', '1491', '1553', '1941', '2307', '2340', '2384', '2385', '2618', '2644', '4347'], '1 B.C./A.D. 4?': ['1858'], 'A.D. 4?': ['0286', '0691', '0737', '1346', '2005', '2025', '2116', '2404', '2585', '2602', '4337'], 'a. 4 B.C.': ['0228', '2445', '2634', '2642', '2696'], 'A.D. 7/9': ['0730'], 'A.D. 4': ['0722', '0743', '2001', '2003', '2017', '2018', '2021', '2022', '2031', '2032', '2033', '2035', '2036', '2040', '2041', '2043', '2046', '2049', '2051', '2053', '2055', '2059', '2061', '2064', '2074', '2084', '2102', '2109', '2110', '2112', '2151', '2157', '2158', '2200', '2236', '2499', '2573', '2604', '2627', '2640', '2894', '2950', '2960', '4091', '4096', '4105', '4110', '4115', '4117', '4124', '4126', '4134', '4138', '4139', '4239', '4282', '4324'], '6 B.C.?': ['0245', '0668', '1021', '1260'], '8/7 B.C.': ['0298'], 'A.D. 4-5': ['0731', '2006', '2020', '2050', '2057', '2058', '2060', '2062', '2111', '2127', '2967', '4089', '4090', '4135', '4238'], 'A.D. 2/4': ['0304'], 'p. 2 B.C.': ['1792'], 'p. 4 B.C./a. A.D. 2': ['2148'], 'A.D. 7?': ['4338'], 'A.D. 5-6?': ['2724'], 'A.D. 5': ['0289', '2037', '2045', '2048', '2317', '2571', '2591', '2744', '2762', '2766', '2770', '2797', '2800', '2806', '2807', '2904', '2937', '2946', '2995', '4000', '4016', '4017', '4036', '4038', '4075', '4081'], 'a. 1 B.C.?': ['2210', '2606'], 'A.D. 1/3': ['4323', '4325']}\""
      ]
     },
     "execution_count": 4,
     "metadata": {},
     "output_type": "execute_result"
    }
   ],
   "source": [
    "request_text = requests.get(\"https://raw.githubusercontent.com/cltk/cltk/master/cltk/corpus/greek/tlg/author_date.py\").text\n",
    "request_text"
   ]
  },
  {
   "cell_type": "code",
   "execution_count": 5,
   "metadata": {
    "colab": {},
    "colab_type": "code",
    "id": "b0ptyAv3pJkN"
   },
   "outputs": [],
   "source": [
    "### execute the string\n",
    "exec(request_text)"
   ]
  },
  {
   "cell_type": "code",
   "execution_count": 6,
   "metadata": {
    "colab": {},
    "colab_type": "code",
    "id": "OErLyCuOjXTT"
   },
   "outputs": [],
   "source": [
    "### use the variable from the executed string\n",
    "tlg_authordate = AUTHOR_DATE"
   ]
  },
  {
   "cell_type": "code",
   "execution_count": 7,
   "metadata": {
    "colab": {
     "base_uri": "https://localhost:8080/",
     "height": 34
    },
    "colab_type": "code",
    "executionInfo": {
     "elapsed": 1842,
     "status": "ok",
     "timestamp": 1580827293901,
     "user": {
      "displayName": "Vojtěch Kaše",
      "photoUrl": "https://lh3.googleusercontent.com/a-/AAuE7mAxTlnyE78QMWq7qNrhY8cMOVti0SJqAGwQEptYkQ=s64",
      "userId": "01399835024022498543"
     },
     "user_tz": -60
    },
    "id": "5azRGdwllEHL",
    "outputId": "7f090f24-4b3b-467f-a782-97684a9fc777"
   },
   "outputs": [],
   "source": [
    "### write it out for future usage\n",
    "#sddk.write_file(\"SDAM_data/OGL/tlg_authordate.json\", tlg_authordate, conf)"
   ]
  },
  {
   "cell_type": "code",
   "execution_count": 8,
   "metadata": {
    "colab": {
     "base_uri": "https://localhost:8080/",
     "height": 54
    },
    "colab_type": "code",
    "executionInfo": {
     "elapsed": 994,
     "status": "ok",
     "timestamp": 1588774534116,
     "user": {
      "displayName": "Vojtěch Kaše",
      "photoUrl": "https://lh3.googleusercontent.com/a-/AOh14Ggz3jS9e7I3GdIEbyBKFtqr9tPdNCwyLBEJwbK8cw=s64",
      "userId": "01399835024022498543"
     },
     "user_tz": -120
    },
    "id": "v63QUEUfn14e",
    "outputId": "3c1318a0-6cb7-452e-87a4-9ce8e097c993"
   },
   "outputs": [
    {
     "data": {
      "text/plain": [
       "dict_keys(['A.D. 1', 'a. 1 B.C.', 'a. A.D. 11', 'a. 2 B.C.?', 'A.D. 9', 'A.D. 11', 'A.D. 1?/6', 'Incertum', 'A.D. 3-4', 'a. A.D. 5?', 'A.D. 1/2', 'A.D. 2/4?', 'A.D. 3?', '1 B.C.-A.D. 1?', '6 B.C.', '5/3 B.C.', '8 B.C.', '2 B.C./A.D. 3', 'Varia', 'p. 1 B.C.', '3-2 B.C.?', 'A.D. 10/15', 'a. 6 B.C.', 'A.D. 2/3', 'p. A.D. 10', '7/6 B.C.?', 'a. A.D. 4', 'a. A.D. 1/2', '3/2 B.C.', 'A.D. 6', 'a. A.D. 1', 'A.D. 8-9?', 'A.D. 3/4?', 'A.D. 1-7', 'A.D. 13-14', 'A.D. 2', 'A.D. 6-7', 'p. 3 B.C.', 'p. A.D. 2', 'A.D. 5/7', 'A.D. 5-6', '4/2 B.C.?', 'A.D. 15-16', '7/6 B.C.', 'a. A.D. 3?', 'A.D. 2-3', '2-1 B.C.?', 'p. 4 B.C.?', '2/1 B.C.', 'a. 3 B.C.', '7-6 B.C.', 'a. A.D. 15', '4-3 B.C.?', 'a. A.D. 14/15', 'A.D. 2?', '5/4 B.C.?', '3 B.C.', '2 B.C./A.D. 2', 'a. A.D. 10', 'A.D. 2?/4', '4/3 B.C.', 'A.D. 6-10', '4 B.C./A.D. 2', 'p. 7 B.C.', '4-3 B.C.', '5-4 B.C.', 'A.D. 9-10', '4/2 B.C.', 'A.D. 9/10', '4/1 B.C.', 'A.D. 8', 'a. 3 B.C.?', '4 B.C./A.D. 1', 'A.D. 13', 'A.D. 9?', 'A.D. 8/10', 'p. A.D. 6', '3 B.C.?/A.D. 1', 'A.D. 4/5?', 'A.D. 14', 'a. A.D. 12', 'a. A.D. 8', '2 B.C./A.D. 2?', '1 B.C.', 'a. A.D. 3', '2 B.C.', 'p. A.D. 1', '8-6 B.C.', '2/1 B.C.?', '2 B.C.?', '3/1 B.C.', '5 B.C.', '1 B.C./A.D. 1?', 'a. A.D. 2', '5/3 B.C.?', '3 B.C./A.D. 2', 'A.D. 8-9', '4/1 B.C.?', 'A.D. 14-15', '7 B.C.', 'A.D. 2/3?', 'A.D. 3', '6/5 B.C.', 'p. A.D. 7', 'A.D. 5/6?', 'a. A.D. 2/3', '1 B.C.?', '4 B.C.', 'p. A.D. 5', '4-2 B.C.', 'A.D. 7/8', 'A.D. 5/6', 'A.D. 12', 'a. 2 B.C.', 'p. A.D. 3', 'A.D. 1/2?', 'a. A.D. 5', 'A.D. 3/10', 'a. A.D. 14', 'A.D. 7-8', '8/6 B.C.', 'p. 4 B.C.', 'A.D. 4/6?', 'A.D. 4-5?', 'A.D. 1-2?', 'A.D. 1?', 'A.D. 2-3?', 'A.D. 6?', 'p. A.D. 9/10', 'A.D. 10', '1 B.C./A.D. 1', 'p. 1 B.C.?', '6-5 B.C.', 'A.D. 11-12', 'A.D. 4/5', '2 B.C.-A.D. 4', '3-2 B.C.', 'A.D. 3/5', 'A.D. 3/4', 'A.D. 7', '3/2 B.C.?', 'A.D. 4/6', '1 B.C.-A.D. 1', 'A.D. 6/13', '2-1 B.C.', '4?/2 B.C.', 'p. 5 B.C.', 'A.D. 5?', '3 B.C.?', '8/7 B.C.?', 'A.D. 1-2', 'a. 4 B.C.?', 'A.D. 5/10', 'A.D. 12-13', 'a. 5 B.C.', 'A.D. 15', 'A.D. 6/7', '5 B.C.?', 'p. A.D. 4', '5-4 B.C.?', '4/3 B.C.?', '5/4 B.C.', 'a. A.D. 1?', '8/6 B.C.?', '3 B.C./A.D. 1', 'A.D. 12?', '4 B.C.?', '1 B.C./A.D. 4?', 'A.D. 4?', 'a. 4 B.C.', 'A.D. 7/9', 'A.D. 4', '6 B.C.?', '8/7 B.C.', 'A.D. 4-5', 'A.D. 2/4', 'p. 2 B.C.', 'p. 4 B.C./a. A.D. 2', 'A.D. 7?', 'A.D. 5-6?', 'A.D. 5', 'a. 1 B.C.?', 'A.D. 1/3'])"
      ]
     },
     "execution_count": 8,
     "metadata": {},
     "output_type": "execute_result"
    }
   ],
   "source": [
    "### OR YOU CAN START HERE WITH PREPROCESSED DATA:\n",
    "\n",
    "tlg_authordate = sddk.read_file(\"SDAM_data/AGT/tlg_authordate.json\", \"dict\", conf)\n",
    "tlg_authordate.keys()"
   ]
  },
  {
   "cell_type": "code",
   "execution_count": 9,
   "metadata": {
    "colab": {
     "base_uri": "https://localhost:8080/",
     "height": 34
    },
    "colab_type": "code",
    "executionInfo": {
     "elapsed": 490,
     "status": "ok",
     "timestamp": 1588774539775,
     "user": {
      "displayName": "Vojtěch Kaše",
      "photoUrl": "https://lh3.googleusercontent.com/a-/AOh14Ggz3jS9e7I3GdIEbyBKFtqr9tPdNCwyLBEJwbK8cw=s64",
      "userId": "01399835024022498543"
     },
     "user_tz": -120
    },
    "id": "Hwz8LzTxx-nE",
    "outputId": "a5a33172-bedc-4a7d-83ca-5920389133fd"
   },
   "outputs": [
    {
     "data": {
      "text/plain": [
       "'-1'"
      ]
     },
     "execution_count": 9,
     "metadata": {},
     "output_type": "execute_result"
    }
   ],
   "source": [
    "### testing regex\n",
    "\"-\" + re.match(r\"\\d+ B.C.\", \"1 B.C., A.D. 1\")[0].partition(\" \")[0]"
   ]
  },
  {
   "cell_type": "code",
   "execution_count": 10,
   "metadata": {
    "colab": {
     "base_uri": "https://localhost:8080/",
     "height": 34
    },
    "colab_type": "code",
    "executionInfo": {
     "elapsed": 520,
     "status": "ok",
     "timestamp": 1588774540904,
     "user": {
      "displayName": "Vojtěch Kaše",
      "photoUrl": "https://lh3.googleusercontent.com/a-/AOh14Ggz3jS9e7I3GdIEbyBKFtqr9tPdNCwyLBEJwbK8cw=s64",
      "userId": "01399835024022498543"
     },
     "user_tz": -120
    },
    "id": "gkxjNvrqssWC",
    "outputId": "2bbd5a9d-92ab-4dfb-bec8-f1e31a9a6dab"
   },
   "outputs": [
    {
     "data": {
      "text/plain": [
       "['>-2']"
      ]
     },
     "execution_count": 10,
     "metadata": {},
     "output_type": "execute_result"
    }
   ],
   "source": [
    "### testing regex\n",
    "string = \"> 2 B.C.\"\n",
    "[match[0].replace(\" \", \"\") + \"-\" + match[1] for match in re.findall(r'(> ?)?(\\d+)', string)]"
   ]
  },
  {
   "cell_type": "code",
   "execution_count": 11,
   "metadata": {
    "colab": {
     "base_uri": "https://localhost:8080/",
     "height": 54
    },
    "colab_type": "code",
    "executionInfo": {
     "elapsed": 428,
     "status": "ok",
     "timestamp": 1588774543621,
     "user": {
      "displayName": "Vojtěch Kaše",
      "photoUrl": "https://lh3.googleusercontent.com/a-/AOh14Ggz3jS9e7I3GdIEbyBKFtqr9tPdNCwyLBEJwbK8cw=s64",
      "userId": "01399835024022498543"
     },
     "user_tz": -120
    },
    "id": "CQU37MBRvfhY",
    "outputId": "07a0331d-5c9b-4eb4-94f0-ecaae5d6bfff"
   },
   "outputs": [
    {
     "name": "stdout",
     "output_type": "stream",
     "text": [
      "[-7.5, -6.5, -5.5, -4.5, -3.5, -2.5, -1.5, -0.5, 0.5, 1.5, 2.5, 3.5, 4.5, 5.5, 6.5, 7.5, 8.5, 9.5, 10.5, 11.5, 12.5, 13.5, 14.5, 15.5]\n"
     ]
    }
   ],
   "source": [
    "### our centuries of interest are these:\n",
    "centuries = [el/10 for el in range(-75, 165, 10)]\n",
    "print(centuries)"
   ]
  },
  {
   "cell_type": "code",
   "execution_count": 12,
   "metadata": {
    "colab": {},
    "colab_type": "code",
    "id": "gdITH4GE0cvT"
   },
   "outputs": [],
   "source": [
    "total = 0\n",
    "for el in range(len(centuries)):\n",
    "  total += 2**(el+1)"
   ]
  },
  {
   "cell_type": "markdown",
   "metadata": {},
   "source": [
    "# Cleaning dates\n",
    "\n",
    "## Define probabilities"
   ]
  },
  {
   "cell_type": "code",
   "execution_count": 13,
   "metadata": {
    "colab": {
     "base_uri": "https://localhost:8080/",
     "height": 119
    },
    "colab_type": "code",
    "executionInfo": {
     "elapsed": 420,
     "status": "ok",
     "timestamp": 1588775547992,
     "user": {
      "displayName": "Vojtěch Kaše",
      "photoUrl": "https://lh3.googleusercontent.com/a-/AOh14Ggz3jS9e7I3GdIEbyBKFtqr9tPdNCwyLBEJwbK8cw=s64",
      "userId": "01399835024022498543"
     },
     "user_tz": -120
    },
    "id": "Wb6B0QkI48Qy",
    "outputId": "af53a66e-7d94-4402-b1a7-6a8bd81836e4"
   },
   "outputs": [
    {
     "name": "stdout",
     "output_type": "stream",
     "text": [
      "2 128\n",
      "4 128\n",
      "8 128\n",
      "16 128\n",
      "32 128\n",
      "64 128\n"
     ]
    }
   ],
   "source": [
    "date_string = [-2.5, -3.5, -4.5, -5.5, -6.5, -7.5]\n",
    "weighted_dates = {}\n",
    "total = 0\n",
    "for el in range(len(date_string)):\n",
    "  total += 2** (el+1)\n",
    "total += 2\n",
    "for date, el in zip(reversed(date_string), range(len(date_string))):\n",
    "  base = 2**(el+1)\n",
    "  print(base, total)\n",
    "  weighted_dates[date] = base / total"
   ]
  },
  {
   "cell_type": "code",
   "execution_count": 14,
   "metadata": {
    "colab": {
     "base_uri": "https://localhost:8080/",
     "height": 119
    },
    "colab_type": "code",
    "executionInfo": {
     "elapsed": 747,
     "status": "ok",
     "timestamp": 1588775550597,
     "user": {
      "displayName": "Vojtěch Kaše",
      "photoUrl": "https://lh3.googleusercontent.com/a-/AOh14Ggz3jS9e7I3GdIEbyBKFtqr9tPdNCwyLBEJwbK8cw=s64",
      "userId": "01399835024022498543"
     },
     "user_tz": -120
    },
    "id": "RKcucnT055OH",
    "outputId": "98e002b0-6311-469b-bbbf-c5f167bcb0ea"
   },
   "outputs": [
    {
     "data": {
      "text/plain": [
       "{-7.5: 0.015625,\n",
       " -6.5: 0.03125,\n",
       " -5.5: 0.0625,\n",
       " -4.5: 0.125,\n",
       " -3.5: 0.25,\n",
       " -2.5: 0.5}"
      ]
     },
     "execution_count": 14,
     "metadata": {},
     "output_type": "execute_result"
    }
   ],
   "source": [
    "# increasing probability for \"after 3rd c. BC\"\n",
    "weighted_dates"
   ]
  },
  {
   "cell_type": "markdown",
   "metadata": {},
   "source": [
    "## MAIN CLEANING REGEX\n",
    "\n"
   ]
  },
  {
   "cell_type": "code",
   "execution_count": 15,
   "metadata": {
    "colab": {
     "base_uri": "https://localhost:8080/",
     "height": 1000
    },
    "colab_type": "code",
    "executionInfo": {
     "elapsed": 544,
     "status": "ok",
     "timestamp": 1588775552970,
     "user": {
      "displayName": "Vojtěch Kaše",
      "photoUrl": "https://lh3.googleusercontent.com/a-/AOh14Ggz3jS9e7I3GdIEbyBKFtqr9tPdNCwyLBEJwbK8cw=s64",
      "userId": "01399835024022498543"
     },
     "user_tz": -120
    },
    "id": "ozCL7lM2pm_E",
    "outputId": "979155d4-5d33-4769-a910-373de302f235"
   },
   "outputs": [
    {
     "data": {
      "text/plain": [
       "[('A.D. 1', [[0.5], {0.5: 1}, 0.5, '', '']),\n",
       " ('a. 1 B.C.',\n",
       "  [[-1.5, -2.5, -3.5, -4.5, -5.5, -6.5, -7.5],\n",
       "   {-7.5: 0.0078,\n",
       "    -6.5: 0.0156,\n",
       "    -5.5: 0.0312,\n",
       "    -4.5: 0.0625,\n",
       "    -3.5: 0.125,\n",
       "    -2.5: 0.25,\n",
       "    -1.5: 0.5},\n",
       "   -2.0,\n",
       "   'ante',\n",
       "   '']),\n",
       " ('a. A.D. 11',\n",
       "  [[9.5,\n",
       "    8.5,\n",
       "    7.5,\n",
       "    6.5,\n",
       "    5.5,\n",
       "    4.5,\n",
       "    3.5,\n",
       "    2.5,\n",
       "    1.5,\n",
       "    0.5,\n",
       "    -0.5,\n",
       "    -1.5,\n",
       "    -2.5,\n",
       "    -3.5,\n",
       "    -4.5,\n",
       "    -5.5,\n",
       "    -6.5,\n",
       "    -7.5],\n",
       "   {-7.5: 0.0,\n",
       "    -6.5: 0.0,\n",
       "    -5.5: 0.0,\n",
       "    -4.5: 0.0,\n",
       "    -3.5: 0.0001,\n",
       "    -2.5: 0.0001,\n",
       "    -1.5: 0.0002,\n",
       "    -0.5: 0.0005,\n",
       "    0.5: 0.001,\n",
       "    1.5: 0.002,\n",
       "    2.5: 0.0039,\n",
       "    3.5: 0.0078,\n",
       "    4.5: 0.0156,\n",
       "    5.5: 0.0312,\n",
       "    6.5: 0.0625,\n",
       "    7.5: 0.125,\n",
       "    8.5: 0.25,\n",
       "    9.5: 0.5},\n",
       "   9.0,\n",
       "   'ante',\n",
       "   ''])]"
      ]
     },
     "execution_count": 15,
     "metadata": {},
     "output_type": "execute_result"
    }
   ],
   "source": [
    "### MAIN CLEANING REGEX\n",
    "dates_cleaned = {}\n",
    "dates_pairs = {}\n",
    "for raw_date_string in tlg_authordate.keys():  \n",
    "  if \"/\" in raw_date_string:\n",
    "    date_type = \"or\"\n",
    "  elif \"-\" in raw_date_string:\n",
    "    date_type = \"range\"\n",
    "  elif \"p.\" in raw_date_string:\n",
    "    date_type = \"post\"\n",
    "  elif \"a.\" in raw_date_string:\n",
    "    date_type = \"ante\"\n",
    "  else:\n",
    "    date_type = \"\"\n",
    "  if \"?\" in raw_date_string:\n",
    "    certainty = \"?\"\n",
    "  else:\n",
    "    certainty = \"\"\n",
    "  date_string = raw_date_string.replace(\"?\", \"\") ### exclude uncertainty for the moment\n",
    "  date_string = date_string.replace(\"/\", \", \")\n",
    "  date_string = date_string.replace(\"-\", \", \")\n",
    "  if not ((\"B.C.\" not in date_string) or (\"A.D.\" not in date_string)): ### in the case there is both \"A.D.\" and \"B.C.\"\n",
    "    date_string = date_string.replace(\"A.D.\", \"\")\n",
    "    try:\n",
    "      date_string = \"-\" + re.match(r\".*\\d+ B.C.\", date_string)[0].partition(\" \")[0] + date_string.partition(\"B.C.\")[2]\n",
    "    except:\n",
    "      pass\n",
    "    date_string = date_string.replace(\"a. \", \"<\") # ante quem\n",
    "    date_string = date_string.replace(\"p. \", \">\") # post quem\n",
    "    date_string.split(\",\")\n",
    "  else:\n",
    "    date_string = date_string.replace(\"A.D.\", \"\")\n",
    "    if \"B.C.\" in date_string:\n",
    "      if \"p. \" in date_string:\n",
    "        date_string = [\">-\" + match for match in re.findall(r\"\\d+\", date_string)]\n",
    "      elif \"a. \" in date_string:\n",
    "        date_string = [\"<-\" + match for match in re.findall(r\"\\d+\", date_string)]\n",
    "      else:\n",
    "        date_string = [\"-\" + match for match in re.findall(r\"\\d+\", date_string)]\n",
    "    try: \n",
    "      date_string = date_string.replace(\"a. \", \"<\").replace(\"p. \", \">\") # ante quem # post quem\n",
    "    except: \n",
    "      pass\n",
    "  try:\n",
    "    date_string = date_string.split(\",\")\n",
    "  except:\n",
    "    pass\n",
    "  date_string = [date.replace(\" \", \"\") for date in date_string]\n",
    "  date_string_ranges = []\n",
    "  for date in date_string:\n",
    "    if \"<\" in date:\n",
    "      try:\n",
    "        actual_list = reversed([value for value in list(range(-8, int(date.replace(\"<\", \"\")))) if value != 0])\n",
    "        date_string_ranges.extend(actual_list)\n",
    "      except: \n",
    "        date_string_ranges.append(date)\n",
    "    elif \">\" in date:\n",
    "      try:\n",
    "        date_string_ranges.extend([value for value in list(range(int(date.replace(\">\", \"\")) + 1, 16)) if value != 0])\n",
    "      except: \n",
    "        date_string_ranges.append(date)\n",
    "    else:\n",
    "      date_string_ranges.append(date)\n",
    "  date_string = date_string_ranges\n",
    "  try:\n",
    "    date_string = [int(date) for date in date_string]\n",
    "  except: \n",
    "    pass\n",
    "  if date_type == \"range\":\n",
    "    try:\n",
    "      date_string = [num for num in range(date_string[0], date_string[1] + 1) if num != 0]\n",
    "    except:\n",
    "      pass\n",
    "  cents = []\n",
    "  for num in date_string:\n",
    "    try:\n",
    "      if float(num) < 0:\n",
    "        cents.append(float(num) + 0.5)\n",
    "      else:\n",
    "        cents.append(float(num) - 0.5)\n",
    "    except:\n",
    "      cents.append(None)\n",
    "  ### add a dictionary of weighted dates\n",
    "  weighted_dates = {}\n",
    "  try:\n",
    "    if (date_type == \"range\") or (date_type == \"or\"): ### if it is a \"range\" or \"or\"\n",
    "      for el in cents:\n",
    "        weighted_dates[el] = np.round(1 / len(cents), 4)\n",
    "    elif (date_type == \"post\") or (date_type == \"ante\"):\n",
    "      total = 0\n",
    "      for el in range(len(cents)):\n",
    "        total += 2** (el+1)\n",
    "      total += 2\n",
    "      for date, el in zip(reversed(cents), range(len(cents))):\n",
    "        base = 2**(el+1)\n",
    "        weighted_dates[date] = np.round(base / total, 4)\n",
    "    else:\n",
    "      weighted_dates[cents[0]] = 1\n",
    "  except:\n",
    "    weighted_dates = {}\n",
    "  try:\n",
    "    date_avr = np.mean(cents[:2])\n",
    "  except:\n",
    "    date_avr = None\n",
    "  dates_cleaned.update({raw_date_string : [cents, weighted_dates, date_avr, date_type, certainty]})\n",
    "  dates_pairs[raw_date_string] = weighted_dates\n",
    "list(islice(dates_cleaned.items(), 3))"
   ]
  },
  {
   "cell_type": "code",
   "execution_count": 16,
   "metadata": {
    "colab": {
     "base_uri": "https://localhost:8080/",
     "height": 34
    },
    "colab_type": "code",
    "executionInfo": {
     "elapsed": 819,
     "status": "ok",
     "timestamp": 1588775556281,
     "user": {
      "displayName": "Vojtěch Kaše",
      "photoUrl": "https://lh3.googleusercontent.com/a-/AOh14Ggz3jS9e7I3GdIEbyBKFtqr9tPdNCwyLBEJwbK8cw=s64",
      "userId": "01399835024022498543"
     },
     "user_tz": -120
    },
    "id": "PQk0TQvaAiSq",
    "outputId": "138f3414-d896-46bb-b71a-24dc0ff0b849"
   },
   "outputs": [
    {
     "data": {
      "text/plain": [
       "0.5"
      ]
     },
     "execution_count": 16,
     "metadata": {},
     "output_type": "execute_result"
    }
   ],
   "source": [
    "cents = [0.5]\n",
    "np.mean(cents[:2])"
   ]
  },
  {
   "cell_type": "code",
   "execution_count": 36,
   "metadata": {
    "colab": {},
    "colab_type": "code",
    "id": "wh-v69aQvfQy"
   },
   "outputs": [],
   "source": [
    "### manual cleaning:\n",
    "dates_cleaned['p. 4 B.C./a. A.D. 2'] = [[-2.5, -1.5, -0.5, 0.5], {-2.5 : 0.25, -1.5: 0.25, -0.5: 0.25, 0.5: 0.25}, -1, \"range\", 'p. 4 B.C./a. A.D. 2']\n",
    "dates_cleaned['Incertum'] = [[], {}, None, \"\", \"Incertum\"]\n",
    "dates_cleaned['Varia'] = [[], {}, None, \"\", \"Varia\"]\n",
    "\n",
    "### manual cleaning:\n",
    "dates_pairs['p. 4 B.C./a. A.D. 2'] = {-2.5 : 0.25, -1.5: 0.25, -0.5: 0.25, 0.5: 0.25}\n",
    "dates_pairs['Incertum'] = {}\n",
    "dates_pairs['Varia'] = {}"
   ]
  },
  {
   "cell_type": "code",
   "execution_count": 34,
   "metadata": {
    "colab": {
     "base_uri": "https://localhost:8080/",
     "height": 224
    },
    "colab_type": "code",
    "executionInfo": {
     "elapsed": 538,
     "status": "ok",
     "timestamp": 1588775632179,
     "user": {
      "displayName": "Vojtěch Kaše",
      "photoUrl": "https://lh3.googleusercontent.com/a-/AOh14Ggz3jS9e7I3GdIEbyBKFtqr9tPdNCwyLBEJwbK8cw=s64",
      "userId": "01399835024022498543"
     },
     "user_tz": -120
    },
    "id": "26npeV5EAaBp",
    "outputId": "f7c88110-ba66-438d-b370-1bc67a3074d3"
   },
   "outputs": [
    {
     "data": {
      "text/html": [
       "<div>\n",
       "<style scoped>\n",
       "    .dataframe tbody tr th:only-of-type {\n",
       "        vertical-align: middle;\n",
       "    }\n",
       "\n",
       "    .dataframe tbody tr th {\n",
       "        vertical-align: top;\n",
       "    }\n",
       "\n",
       "    .dataframe thead th {\n",
       "        text-align: right;\n",
       "    }\n",
       "</style>\n",
       "<table border=\"1\" class=\"dataframe\">\n",
       "  <thead>\n",
       "    <tr style=\"text-align: right;\">\n",
       "      <th></th>\n",
       "      <th>raw_date</th>\n",
       "      <th>-7.5</th>\n",
       "      <th>-6.5</th>\n",
       "      <th>-5.5</th>\n",
       "      <th>-4.5</th>\n",
       "      <th>-3.5</th>\n",
       "      <th>-2.5</th>\n",
       "      <th>-1.5</th>\n",
       "      <th>-0.5</th>\n",
       "      <th>0.5</th>\n",
       "      <th>...</th>\n",
       "      <th>6.5</th>\n",
       "      <th>7.5</th>\n",
       "      <th>8.5</th>\n",
       "      <th>9.5</th>\n",
       "      <th>10.5</th>\n",
       "      <th>11.5</th>\n",
       "      <th>12.5</th>\n",
       "      <th>13.5</th>\n",
       "      <th>14.5</th>\n",
       "      <th>15.5</th>\n",
       "    </tr>\n",
       "  </thead>\n",
       "  <tbody>\n",
       "    <tr>\n",
       "      <th>0</th>\n",
       "      <td>A.D. 1</td>\n",
       "      <td>0.0000</td>\n",
       "      <td>0.0000</td>\n",
       "      <td>0.0000</td>\n",
       "      <td>0.0000</td>\n",
       "      <td>0.0000</td>\n",
       "      <td>0.0000</td>\n",
       "      <td>0.0000</td>\n",
       "      <td>0.0000</td>\n",
       "      <td>1.000</td>\n",
       "      <td>...</td>\n",
       "      <td>0.0000</td>\n",
       "      <td>0.000</td>\n",
       "      <td>0.00</td>\n",
       "      <td>0.0</td>\n",
       "      <td>0.0</td>\n",
       "      <td>0.0</td>\n",
       "      <td>0.0</td>\n",
       "      <td>0.0</td>\n",
       "      <td>0.0</td>\n",
       "      <td>0.0</td>\n",
       "    </tr>\n",
       "    <tr>\n",
       "      <th>1</th>\n",
       "      <td>a. 1 B.C.</td>\n",
       "      <td>0.0078</td>\n",
       "      <td>0.0156</td>\n",
       "      <td>0.0312</td>\n",
       "      <td>0.0625</td>\n",
       "      <td>0.1250</td>\n",
       "      <td>0.2500</td>\n",
       "      <td>0.5000</td>\n",
       "      <td>0.0000</td>\n",
       "      <td>0.000</td>\n",
       "      <td>...</td>\n",
       "      <td>0.0000</td>\n",
       "      <td>0.000</td>\n",
       "      <td>0.00</td>\n",
       "      <td>0.0</td>\n",
       "      <td>0.0</td>\n",
       "      <td>0.0</td>\n",
       "      <td>0.0</td>\n",
       "      <td>0.0</td>\n",
       "      <td>0.0</td>\n",
       "      <td>0.0</td>\n",
       "    </tr>\n",
       "    <tr>\n",
       "      <th>2</th>\n",
       "      <td>a. A.D. 11</td>\n",
       "      <td>0.0000</td>\n",
       "      <td>0.0000</td>\n",
       "      <td>0.0000</td>\n",
       "      <td>0.0000</td>\n",
       "      <td>0.0001</td>\n",
       "      <td>0.0001</td>\n",
       "      <td>0.0002</td>\n",
       "      <td>0.0005</td>\n",
       "      <td>0.001</td>\n",
       "      <td>...</td>\n",
       "      <td>0.0625</td>\n",
       "      <td>0.125</td>\n",
       "      <td>0.25</td>\n",
       "      <td>0.5</td>\n",
       "      <td>0.0</td>\n",
       "      <td>0.0</td>\n",
       "      <td>0.0</td>\n",
       "      <td>0.0</td>\n",
       "      <td>0.0</td>\n",
       "      <td>0.0</td>\n",
       "    </tr>\n",
       "    <tr>\n",
       "      <th>3</th>\n",
       "      <td>a. 2 B.C.?</td>\n",
       "      <td>0.0156</td>\n",
       "      <td>0.0312</td>\n",
       "      <td>0.0625</td>\n",
       "      <td>0.1250</td>\n",
       "      <td>0.2500</td>\n",
       "      <td>0.5000</td>\n",
       "      <td>0.0000</td>\n",
       "      <td>0.0000</td>\n",
       "      <td>0.000</td>\n",
       "      <td>...</td>\n",
       "      <td>0.0000</td>\n",
       "      <td>0.000</td>\n",
       "      <td>0.00</td>\n",
       "      <td>0.0</td>\n",
       "      <td>0.0</td>\n",
       "      <td>0.0</td>\n",
       "      <td>0.0</td>\n",
       "      <td>0.0</td>\n",
       "      <td>0.0</td>\n",
       "      <td>0.0</td>\n",
       "    </tr>\n",
       "    <tr>\n",
       "      <th>4</th>\n",
       "      <td>A.D. 9</td>\n",
       "      <td>0.0000</td>\n",
       "      <td>0.0000</td>\n",
       "      <td>0.0000</td>\n",
       "      <td>0.0000</td>\n",
       "      <td>0.0000</td>\n",
       "      <td>0.0000</td>\n",
       "      <td>0.0000</td>\n",
       "      <td>0.0000</td>\n",
       "      <td>0.000</td>\n",
       "      <td>...</td>\n",
       "      <td>0.0000</td>\n",
       "      <td>0.000</td>\n",
       "      <td>1.00</td>\n",
       "      <td>0.0</td>\n",
       "      <td>0.0</td>\n",
       "      <td>0.0</td>\n",
       "      <td>0.0</td>\n",
       "      <td>0.0</td>\n",
       "      <td>0.0</td>\n",
       "      <td>0.0</td>\n",
       "    </tr>\n",
       "  </tbody>\n",
       "</table>\n",
       "<p>5 rows × 25 columns</p>\n",
       "</div>"
      ],
      "text/plain": [
       "     raw_date    -7.5    -6.5    -5.5    -4.5    -3.5    -2.5    -1.5    -0.5  \\\n",
       "0      A.D. 1  0.0000  0.0000  0.0000  0.0000  0.0000  0.0000  0.0000  0.0000   \n",
       "1   a. 1 B.C.  0.0078  0.0156  0.0312  0.0625  0.1250  0.2500  0.5000  0.0000   \n",
       "2  a. A.D. 11  0.0000  0.0000  0.0000  0.0000  0.0001  0.0001  0.0002  0.0005   \n",
       "3  a. 2 B.C.?  0.0156  0.0312  0.0625  0.1250  0.2500  0.5000  0.0000  0.0000   \n",
       "4      A.D. 9  0.0000  0.0000  0.0000  0.0000  0.0000  0.0000  0.0000  0.0000   \n",
       "\n",
       "     0.5  ...     6.5    7.5   8.5  9.5  10.5  11.5  12.5  13.5  14.5  15.5  \n",
       "0  1.000  ...  0.0000  0.000  0.00  0.0   0.0   0.0   0.0   0.0   0.0   0.0  \n",
       "1  0.000  ...  0.0000  0.000  0.00  0.0   0.0   0.0   0.0   0.0   0.0   0.0  \n",
       "2  0.001  ...  0.0625  0.125  0.25  0.5   0.0   0.0   0.0   0.0   0.0   0.0  \n",
       "3  0.000  ...  0.0000  0.000  0.00  0.0   0.0   0.0   0.0   0.0   0.0   0.0  \n",
       "4  0.000  ...  0.0000  0.000  1.00  0.0   0.0   0.0   0.0   0.0   0.0   0.0  \n",
       "\n",
       "[5 rows x 25 columns]"
      ]
     },
     "execution_count": 34,
     "metadata": {},
     "output_type": "execute_result"
    }
   ],
   "source": [
    "dates_pairs_df = pd.DataFrame(dates_pairs).T\n",
    "dates_pairs_df.fillna(0, inplace=True)\n",
    "dates_pairs_df\n",
    "dates_pairs_df.sort_index(axis=1, inplace=True)\n",
    "dates_pairs_df.reset_index(inplace=True)\n",
    "dates_pairs_df.rename({\"index\" : \"raw_date\"}, axis=1, inplace=True)\n",
    "dates_pairs_df.head(5)"
   ]
  },
  {
   "cell_type": "code",
   "execution_count": 19,
   "metadata": {
    "colab": {
     "base_uri": "https://localhost:8080/",
     "height": 1000
    },
    "colab_type": "code",
    "executionInfo": {
     "elapsed": 428,
     "status": "ok",
     "timestamp": 1588775633303,
     "user": {
      "displayName": "Vojtěch Kaše",
      "photoUrl": "https://lh3.googleusercontent.com/a-/AOh14Ggz3jS9e7I3GdIEbyBKFtqr9tPdNCwyLBEJwbK8cw=s64",
      "userId": "01399835024022498543"
     },
     "user_tz": -120
    },
    "id": "k1W8-E4XZ86q",
    "outputId": "33c95935-aa4e-49e0-e241-011999eff1ab"
   },
   "outputs": [
    {
     "data": {
      "text/plain": [
       "[('A.D. 1', [[0.5], {0.5: 1}, 0.5, '', '']),\n",
       " ('a. 1 B.C.',\n",
       "  [[-1.5, -2.5, -3.5, -4.5, -5.5, -6.5, -7.5],\n",
       "   {-7.5: 0.0078,\n",
       "    -6.5: 0.0156,\n",
       "    -5.5: 0.0312,\n",
       "    -4.5: 0.0625,\n",
       "    -3.5: 0.125,\n",
       "    -2.5: 0.25,\n",
       "    -1.5: 0.5},\n",
       "   -2.0,\n",
       "   'ante',\n",
       "   '']),\n",
       " ('a. A.D. 11',\n",
       "  [[9.5,\n",
       "    8.5,\n",
       "    7.5,\n",
       "    6.5,\n",
       "    5.5,\n",
       "    4.5,\n",
       "    3.5,\n",
       "    2.5,\n",
       "    1.5,\n",
       "    0.5,\n",
       "    -0.5,\n",
       "    -1.5,\n",
       "    -2.5,\n",
       "    -3.5,\n",
       "    -4.5,\n",
       "    -5.5,\n",
       "    -6.5,\n",
       "    -7.5],\n",
       "   {-7.5: 0.0,\n",
       "    -6.5: 0.0,\n",
       "    -5.5: 0.0,\n",
       "    -4.5: 0.0,\n",
       "    -3.5: 0.0001,\n",
       "    -2.5: 0.0001,\n",
       "    -1.5: 0.0002,\n",
       "    -0.5: 0.0005,\n",
       "    0.5: 0.001,\n",
       "    1.5: 0.002,\n",
       "    2.5: 0.0039,\n",
       "    3.5: 0.0078,\n",
       "    4.5: 0.0156,\n",
       "    5.5: 0.0312,\n",
       "    6.5: 0.0625,\n",
       "    7.5: 0.125,\n",
       "    8.5: 0.25,\n",
       "    9.5: 0.5},\n",
       "   9.0,\n",
       "   'ante',\n",
       "   '']),\n",
       " ('a. 2 B.C.?',\n",
       "  [[-2.5, -3.5, -4.5, -5.5, -6.5, -7.5],\n",
       "   {-7.5: 0.0156,\n",
       "    -6.5: 0.0312,\n",
       "    -5.5: 0.0625,\n",
       "    -4.5: 0.125,\n",
       "    -3.5: 0.25,\n",
       "    -2.5: 0.5},\n",
       "   -3.0,\n",
       "   'ante',\n",
       "   '?']),\n",
       " ('A.D. 9', [[8.5], {8.5: 1}, 8.5, '', ''])]"
      ]
     },
     "execution_count": 19,
     "metadata": {},
     "output_type": "execute_result"
    }
   ],
   "source": [
    "list(islice(dates_cleaned.items(), 5))"
   ]
  },
  {
   "cell_type": "code",
   "execution_count": 37,
   "metadata": {},
   "outputs": [
    {
     "data": {
      "text/plain": [
       "[]"
      ]
     },
     "execution_count": 37,
     "metadata": {},
     "output_type": "execute_result"
    }
   ],
   "source": [
    "[value for value in zip(dates_cleaned.keys(), dates_cleaned.values()) if len(value[1])!=5]"
   ]
  },
  {
   "cell_type": "code",
   "execution_count": 39,
   "metadata": {
    "colab": {},
    "colab_type": "code",
    "id": "S2Cq3dtKBsoG"
   },
   "outputs": [
    {
     "data": {
      "text/html": [
       "<div>\n",
       "<style scoped>\n",
       "    .dataframe tbody tr th:only-of-type {\n",
       "        vertical-align: middle;\n",
       "    }\n",
       "\n",
       "    .dataframe tbody tr th {\n",
       "        vertical-align: top;\n",
       "    }\n",
       "\n",
       "    .dataframe thead th {\n",
       "        text-align: right;\n",
       "    }\n",
       "</style>\n",
       "<table border=\"1\" class=\"dataframe\">\n",
       "  <thead>\n",
       "    <tr style=\"text-align: right;\">\n",
       "      <th></th>\n",
       "      <th>index</th>\n",
       "      <th>0</th>\n",
       "      <th>1</th>\n",
       "      <th>2</th>\n",
       "      <th>3</th>\n",
       "      <th>4</th>\n",
       "    </tr>\n",
       "  </thead>\n",
       "  <tbody>\n",
       "    <tr>\n",
       "      <th>0</th>\n",
       "      <td>A.D. 1</td>\n",
       "      <td>[0.5]</td>\n",
       "      <td>{0.5: 1}</td>\n",
       "      <td>0.5</td>\n",
       "      <td></td>\n",
       "      <td></td>\n",
       "    </tr>\n",
       "    <tr>\n",
       "      <th>1</th>\n",
       "      <td>a. 1 B.C.</td>\n",
       "      <td>[-1.5, -2.5, -3.5, -4.5, -5.5, -6.5, -7.5]</td>\n",
       "      <td>{-7.5: 0.0078, -6.5: 0.0156, -5.5: 0.0312, -4....</td>\n",
       "      <td>-2</td>\n",
       "      <td>ante</td>\n",
       "      <td></td>\n",
       "    </tr>\n",
       "    <tr>\n",
       "      <th>2</th>\n",
       "      <td>a. A.D. 11</td>\n",
       "      <td>[9.5, 8.5, 7.5, 6.5, 5.5, 4.5, 3.5, 2.5, 1.5, ...</td>\n",
       "      <td>{-7.5: 0.0, -6.5: 0.0, -5.5: 0.0, -4.5: 0.0, -...</td>\n",
       "      <td>9</td>\n",
       "      <td>ante</td>\n",
       "      <td></td>\n",
       "    </tr>\n",
       "    <tr>\n",
       "      <th>3</th>\n",
       "      <td>a. 2 B.C.?</td>\n",
       "      <td>[-2.5, -3.5, -4.5, -5.5, -6.5, -7.5]</td>\n",
       "      <td>{-7.5: 0.0156, -6.5: 0.0312, -5.5: 0.0625, -4....</td>\n",
       "      <td>-3</td>\n",
       "      <td>ante</td>\n",
       "      <td>?</td>\n",
       "    </tr>\n",
       "    <tr>\n",
       "      <th>4</th>\n",
       "      <td>A.D. 9</td>\n",
       "      <td>[8.5]</td>\n",
       "      <td>{8.5: 1}</td>\n",
       "      <td>8.5</td>\n",
       "      <td></td>\n",
       "      <td></td>\n",
       "    </tr>\n",
       "  </tbody>\n",
       "</table>\n",
       "</div>"
      ],
      "text/plain": [
       "        index                                                  0  \\\n",
       "0      A.D. 1                                              [0.5]   \n",
       "1   a. 1 B.C.         [-1.5, -2.5, -3.5, -4.5, -5.5, -6.5, -7.5]   \n",
       "2  a. A.D. 11  [9.5, 8.5, 7.5, 6.5, 5.5, 4.5, 3.5, 2.5, 1.5, ...   \n",
       "3  a. 2 B.C.?               [-2.5, -3.5, -4.5, -5.5, -6.5, -7.5]   \n",
       "4      A.D. 9                                              [8.5]   \n",
       "\n",
       "                                                   1    2     3  4  \n",
       "0                                           {0.5: 1}  0.5           \n",
       "1  {-7.5: 0.0078, -6.5: 0.0156, -5.5: 0.0312, -4....   -2  ante     \n",
       "2  {-7.5: 0.0, -6.5: 0.0, -5.5: 0.0, -4.5: 0.0, -...    9  ante     \n",
       "3  {-7.5: 0.0156, -6.5: 0.0312, -5.5: 0.0625, -4....   -3  ante  ?  \n",
       "4                                           {8.5: 1}  8.5           "
      ]
     },
     "execution_count": 39,
     "metadata": {},
     "output_type": "execute_result"
    }
   ],
   "source": [
    "dates_cleaned_df = pd.DataFrame(dates_cleaned).T\n",
    "dates_cleaned_df.reset_index(inplace=True)\n",
    "#dates_cleaned_df.columns = [\"raw_date\", \"cents\", \"date_probs\", \"date_avr\", \"type\", \"cert\"]\n",
    "dates_cleaned_df.head(5)"
   ]
  },
  {
   "cell_type": "code",
   "execution_count": 58,
   "metadata": {
    "colab": {},
    "colab_type": "code",
    "id": "9LnFgwDCGFCI"
   },
   "outputs": [],
   "source": [
    "set_with_dataframe(AGT_overview.add_worksheet(\"tlg_dating_probs\", rows=1, cols=1), dates_pairs_df)"
   ]
  },
  {
   "cell_type": "code",
   "execution_count": 40,
   "metadata": {
    "colab": {
     "base_uri": "https://localhost:8080/",
     "height": 204
    },
    "colab_type": "code",
    "executionInfo": {
     "elapsed": 578,
     "status": "ok",
     "timestamp": 1588775685866,
     "user": {
      "displayName": "Vojtěch Kaše",
      "photoUrl": "https://lh3.googleusercontent.com/a-/AOh14Ggz3jS9e7I3GdIEbyBKFtqr9tPdNCwyLBEJwbK8cw=s64",
      "userId": "01399835024022498543"
     },
     "user_tz": -120
    },
    "id": "HBWkqr_FIQCC",
    "outputId": "55b07f06-d361-4e9c-c90b-dbd1f133f81f"
   },
   "outputs": [
    {
     "data": {
      "text/html": [
       "<div>\n",
       "<style scoped>\n",
       "    .dataframe tbody tr th:only-of-type {\n",
       "        vertical-align: middle;\n",
       "    }\n",
       "\n",
       "    .dataframe tbody tr th {\n",
       "        vertical-align: top;\n",
       "    }\n",
       "\n",
       "    .dataframe thead th {\n",
       "        text-align: right;\n",
       "    }\n",
       "</style>\n",
       "<table border=\"1\" class=\"dataframe\">\n",
       "  <thead>\n",
       "    <tr style=\"text-align: right;\">\n",
       "      <th></th>\n",
       "      <th>author_id</th>\n",
       "      <th>raw_date</th>\n",
       "    </tr>\n",
       "  </thead>\n",
       "  <tbody>\n",
       "    <tr>\n",
       "      <th>0</th>\n",
       "      <td>tlg0031</td>\n",
       "      <td>A.D. 1</td>\n",
       "    </tr>\n",
       "    <tr>\n",
       "      <th>1</th>\n",
       "      <td>tlg0041</td>\n",
       "      <td>A.D. 1</td>\n",
       "    </tr>\n",
       "    <tr>\n",
       "      <th>2</th>\n",
       "      <td>tlg0280</td>\n",
       "      <td>A.D. 1</td>\n",
       "    </tr>\n",
       "    <tr>\n",
       "      <th>3</th>\n",
       "      <td>tlg0283</td>\n",
       "      <td>A.D. 1</td>\n",
       "    </tr>\n",
       "    <tr>\n",
       "      <th>4</th>\n",
       "      <td>tlg0347</td>\n",
       "      <td>A.D. 1</td>\n",
       "    </tr>\n",
       "  </tbody>\n",
       "</table>\n",
       "</div>"
      ],
      "text/plain": [
       "  author_id raw_date\n",
       "0   tlg0031   A.D. 1\n",
       "1   tlg0041   A.D. 1\n",
       "2   tlg0280   A.D. 1\n",
       "3   tlg0283   A.D. 1\n",
       "4   tlg0347   A.D. 1"
      ]
     },
     "execution_count": 40,
     "metadata": {},
     "output_type": "execute_result"
    }
   ],
   "source": [
    "author_ids_with_raw_dates = []\n",
    "for key, list_of_values in zip(tlg_authordate.keys(), tlg_authordate.values()):\n",
    "  for value in list_of_values:\n",
    "    author_ids_with_raw_dates.append([\"tlg\" + value, key])\n",
    "author_ids_with_raw_dates_df = pd.DataFrame(author_ids_with_raw_dates, columns=[\"author_id\", \"raw_date\"])\n",
    "author_ids_with_raw_dates_df.head(5)"
   ]
  },
  {
   "cell_type": "code",
   "execution_count": 41,
   "metadata": {
    "colab": {
     "base_uri": "https://localhost:8080/",
     "height": 224
    },
    "colab_type": "code",
    "executionInfo": {
     "elapsed": 513,
     "status": "ok",
     "timestamp": 1588775708401,
     "user": {
      "displayName": "Vojtěch Kaše",
      "photoUrl": "https://lh3.googleusercontent.com/a-/AOh14Ggz3jS9e7I3GdIEbyBKFtqr9tPdNCwyLBEJwbK8cw=s64",
      "userId": "01399835024022498543"
     },
     "user_tz": -120
    },
    "id": "8iMuqVJRJW43",
    "outputId": "c658ed3e-2777-4bb6-94bc-646fc5aabe66"
   },
   "outputs": [
    {
     "data": {
      "text/html": [
       "<div>\n",
       "<style scoped>\n",
       "    .dataframe tbody tr th:only-of-type {\n",
       "        vertical-align: middle;\n",
       "    }\n",
       "\n",
       "    .dataframe tbody tr th {\n",
       "        vertical-align: top;\n",
       "    }\n",
       "\n",
       "    .dataframe thead th {\n",
       "        text-align: right;\n",
       "    }\n",
       "</style>\n",
       "<table border=\"1\" class=\"dataframe\">\n",
       "  <thead>\n",
       "    <tr style=\"text-align: right;\">\n",
       "      <th></th>\n",
       "      <th>author_id</th>\n",
       "      <th>raw_date</th>\n",
       "      <th>-7.5</th>\n",
       "      <th>-6.5</th>\n",
       "      <th>-5.5</th>\n",
       "      <th>-4.5</th>\n",
       "      <th>-3.5</th>\n",
       "      <th>-2.5</th>\n",
       "      <th>-1.5</th>\n",
       "      <th>-0.5</th>\n",
       "      <th>...</th>\n",
       "      <th>6.5</th>\n",
       "      <th>7.5</th>\n",
       "      <th>8.5</th>\n",
       "      <th>9.5</th>\n",
       "      <th>10.5</th>\n",
       "      <th>11.5</th>\n",
       "      <th>12.5</th>\n",
       "      <th>13.5</th>\n",
       "      <th>14.5</th>\n",
       "      <th>15.5</th>\n",
       "    </tr>\n",
       "  </thead>\n",
       "  <tbody>\n",
       "    <tr>\n",
       "      <th>0</th>\n",
       "      <td>tlg0031</td>\n",
       "      <td>A.D. 1</td>\n",
       "      <td>0.0</td>\n",
       "      <td>0.0</td>\n",
       "      <td>0.0</td>\n",
       "      <td>0.0</td>\n",
       "      <td>0.0</td>\n",
       "      <td>0.0</td>\n",
       "      <td>0.0</td>\n",
       "      <td>0.0</td>\n",
       "      <td>...</td>\n",
       "      <td>0.0</td>\n",
       "      <td>0.0</td>\n",
       "      <td>0.0</td>\n",
       "      <td>0.0</td>\n",
       "      <td>0.0</td>\n",
       "      <td>0.0</td>\n",
       "      <td>0.0</td>\n",
       "      <td>0.0</td>\n",
       "      <td>0.0</td>\n",
       "      <td>0.0</td>\n",
       "    </tr>\n",
       "    <tr>\n",
       "      <th>1</th>\n",
       "      <td>tlg0041</td>\n",
       "      <td>A.D. 1</td>\n",
       "      <td>0.0</td>\n",
       "      <td>0.0</td>\n",
       "      <td>0.0</td>\n",
       "      <td>0.0</td>\n",
       "      <td>0.0</td>\n",
       "      <td>0.0</td>\n",
       "      <td>0.0</td>\n",
       "      <td>0.0</td>\n",
       "      <td>...</td>\n",
       "      <td>0.0</td>\n",
       "      <td>0.0</td>\n",
       "      <td>0.0</td>\n",
       "      <td>0.0</td>\n",
       "      <td>0.0</td>\n",
       "      <td>0.0</td>\n",
       "      <td>0.0</td>\n",
       "      <td>0.0</td>\n",
       "      <td>0.0</td>\n",
       "      <td>0.0</td>\n",
       "    </tr>\n",
       "    <tr>\n",
       "      <th>2</th>\n",
       "      <td>tlg0280</td>\n",
       "      <td>A.D. 1</td>\n",
       "      <td>0.0</td>\n",
       "      <td>0.0</td>\n",
       "      <td>0.0</td>\n",
       "      <td>0.0</td>\n",
       "      <td>0.0</td>\n",
       "      <td>0.0</td>\n",
       "      <td>0.0</td>\n",
       "      <td>0.0</td>\n",
       "      <td>...</td>\n",
       "      <td>0.0</td>\n",
       "      <td>0.0</td>\n",
       "      <td>0.0</td>\n",
       "      <td>0.0</td>\n",
       "      <td>0.0</td>\n",
       "      <td>0.0</td>\n",
       "      <td>0.0</td>\n",
       "      <td>0.0</td>\n",
       "      <td>0.0</td>\n",
       "      <td>0.0</td>\n",
       "    </tr>\n",
       "    <tr>\n",
       "      <th>3</th>\n",
       "      <td>tlg0283</td>\n",
       "      <td>A.D. 1</td>\n",
       "      <td>0.0</td>\n",
       "      <td>0.0</td>\n",
       "      <td>0.0</td>\n",
       "      <td>0.0</td>\n",
       "      <td>0.0</td>\n",
       "      <td>0.0</td>\n",
       "      <td>0.0</td>\n",
       "      <td>0.0</td>\n",
       "      <td>...</td>\n",
       "      <td>0.0</td>\n",
       "      <td>0.0</td>\n",
       "      <td>0.0</td>\n",
       "      <td>0.0</td>\n",
       "      <td>0.0</td>\n",
       "      <td>0.0</td>\n",
       "      <td>0.0</td>\n",
       "      <td>0.0</td>\n",
       "      <td>0.0</td>\n",
       "      <td>0.0</td>\n",
       "    </tr>\n",
       "    <tr>\n",
       "      <th>4</th>\n",
       "      <td>tlg0347</td>\n",
       "      <td>A.D. 1</td>\n",
       "      <td>0.0</td>\n",
       "      <td>0.0</td>\n",
       "      <td>0.0</td>\n",
       "      <td>0.0</td>\n",
       "      <td>0.0</td>\n",
       "      <td>0.0</td>\n",
       "      <td>0.0</td>\n",
       "      <td>0.0</td>\n",
       "      <td>...</td>\n",
       "      <td>0.0</td>\n",
       "      <td>0.0</td>\n",
       "      <td>0.0</td>\n",
       "      <td>0.0</td>\n",
       "      <td>0.0</td>\n",
       "      <td>0.0</td>\n",
       "      <td>0.0</td>\n",
       "      <td>0.0</td>\n",
       "      <td>0.0</td>\n",
       "      <td>0.0</td>\n",
       "    </tr>\n",
       "  </tbody>\n",
       "</table>\n",
       "<p>5 rows × 26 columns</p>\n",
       "</div>"
      ],
      "text/plain": [
       "  author_id raw_date  -7.5  -6.5  -5.5  -4.5  -3.5  -2.5  -1.5  -0.5  ...  \\\n",
       "0   tlg0031   A.D. 1   0.0   0.0   0.0   0.0   0.0   0.0   0.0   0.0  ...   \n",
       "1   tlg0041   A.D. 1   0.0   0.0   0.0   0.0   0.0   0.0   0.0   0.0  ...   \n",
       "2   tlg0280   A.D. 1   0.0   0.0   0.0   0.0   0.0   0.0   0.0   0.0  ...   \n",
       "3   tlg0283   A.D. 1   0.0   0.0   0.0   0.0   0.0   0.0   0.0   0.0  ...   \n",
       "4   tlg0347   A.D. 1   0.0   0.0   0.0   0.0   0.0   0.0   0.0   0.0  ...   \n",
       "\n",
       "   6.5  7.5  8.5  9.5  10.5  11.5  12.5  13.5  14.5  15.5  \n",
       "0  0.0  0.0  0.0  0.0   0.0   0.0   0.0   0.0   0.0   0.0  \n",
       "1  0.0  0.0  0.0  0.0   0.0   0.0   0.0   0.0   0.0   0.0  \n",
       "2  0.0  0.0  0.0  0.0   0.0   0.0   0.0   0.0   0.0   0.0  \n",
       "3  0.0  0.0  0.0  0.0   0.0   0.0   0.0   0.0   0.0   0.0  \n",
       "4  0.0  0.0  0.0  0.0   0.0   0.0   0.0   0.0   0.0   0.0  \n",
       "\n",
       "[5 rows x 26 columns]"
      ]
     },
     "execution_count": 41,
     "metadata": {},
     "output_type": "execute_result"
    }
   ],
   "source": [
    "tlg_authors_with_dating_probs = pd.merge(author_ids_with_raw_dates_df, dates_pairs_df, how=\"inner\", on=\"raw_date\")\n",
    "tlg_authors_with_dating_probs.head(5)"
   ]
  },
  {
   "cell_type": "code",
   "execution_count": 42,
   "metadata": {
    "colab": {
     "base_uri": "https://localhost:8080/",
     "height": 34
    },
    "colab_type": "code",
    "executionInfo": {
     "elapsed": 483,
     "status": "ok",
     "timestamp": 1588775710661,
     "user": {
      "displayName": "Vojtěch Kaše",
      "photoUrl": "https://lh3.googleusercontent.com/a-/AOh14Ggz3jS9e7I3GdIEbyBKFtqr9tPdNCwyLBEJwbK8cw=s64",
      "userId": "01399835024022498543"
     },
     "user_tz": -120
    },
    "id": "gK-U60WIOm-k",
    "outputId": "2abfbe5e-ee36-4e90-ad8b-f3352ede48b6"
   },
   "outputs": [
    {
     "data": {
      "text/plain": [
       "1823"
      ]
     },
     "execution_count": 42,
     "metadata": {},
     "output_type": "execute_result"
    }
   ],
   "source": [
    "len(tlg_authors_with_dating_probs)"
   ]
  },
  {
   "cell_type": "code",
   "execution_count": 0,
   "metadata": {
    "colab": {
     "base_uri": "https://localhost:8080/",
     "height": 54
    },
    "colab_type": "code",
    "executionInfo": {
     "elapsed": 2848,
     "status": "ok",
     "timestamp": 1580986926254,
     "user": {
      "displayName": "Vojtěch Kaše",
      "photoUrl": "https://lh3.googleusercontent.com/a-/AAuE7mAxTlnyE78QMWq7qNrhY8cMOVti0SJqAGwQEptYkQ=s64",
      "userId": "01399835024022498543"
     },
     "user_tz": -60
    },
    "id": "fLdUBpPPKUn-",
    "outputId": "0f49cc27-ef0d-4a3b-8e8f-d2904fb4199c"
   },
   "outputs": [
    {
     "name": "stdout",
     "output_type": "stream",
     "text": [
      "Your <class 'pandas.core.frame.DataFrame'> object has been succefully written as \"https://sciencedata.dk/files/SDAM_root/SDAM_data/OGL/tlg_authors_with_dating_probs.json\"\n"
     ]
    }
   ],
   "source": [
    "sddk.write_file(\"SDAM_data/OGL/tlg_authors_with_dating_probs.json\", tlg_authors_with_dating_probs, conf)"
   ]
  },
  {
   "cell_type": "code",
   "execution_count": 43,
   "metadata": {
    "colab": {},
    "colab_type": "code",
    "id": "UexWSKw1Dsp4"
   },
   "outputs": [],
   "source": [
    "value_pairs = {}\n",
    "for key, list_of_values in zip(tlg_authordate.keys(), tlg_authordate.values()):\n",
    "  for value in list_of_values:\n",
    "    value_pairs[\"tlg\" + value] = dates_cleaned[key]"
   ]
  },
  {
   "cell_type": "code",
   "execution_count": 41,
   "metadata": {
    "colab": {
     "base_uri": "https://localhost:8080/",
     "height": 34
    },
    "colab_type": "code",
    "executionInfo": {
     "elapsed": 968,
     "status": "ok",
     "timestamp": 1581069125818,
     "user": {
      "displayName": "Vojtěch Kaše",
      "photoUrl": "https://lh3.googleusercontent.com/a-/AAuE7mAxTlnyE78QMWq7qNrhY8cMOVti0SJqAGwQEptYkQ=s64",
      "userId": "01399835024022498543"
     },
     "user_tz": -60
    },
    "id": "f86YpH5nqZSl",
    "outputId": "849403b5-69bd-484e-f5b2-54516154075e"
   },
   "outputs": [
    {
     "data": {
      "text/plain": [
       "[[-3.5], {-3.5: 1}, -3.5, '', '']"
      ]
     },
     "execution_count": 41,
     "metadata": {},
     "output_type": "execute_result"
    }
   ],
   "source": [
    "### checking whether it works\n",
    "value_pairs[\"tlg0086\"]"
   ]
  },
  {
   "cell_type": "code",
   "execution_count": 0,
   "metadata": {
    "colab": {
     "base_uri": "https://localhost:8080/",
     "height": 68
    },
    "colab_type": "code",
    "executionInfo": {
     "elapsed": 3975,
     "status": "ok",
     "timestamp": 1580986238290,
     "user": {
      "displayName": "Vojtěch Kaše",
      "photoUrl": "https://lh3.googleusercontent.com/a-/AAuE7mAxTlnyE78QMWq7qNrhY8cMOVti0SJqAGwQEptYkQ=s64",
      "userId": "01399835024022498543"
     },
     "user_tz": -60
    },
    "id": "mP1hlM9vFhV3",
    "outputId": "6d322f43-7cfe-44dd-cfaf-975609fac439"
   },
   "outputs": [
    {
     "name": "stdout",
     "output_type": "stream",
     "text": [
      "A file with the same name (\"tlg_authordate_cleaned.json\") already exists in this location.\n",
      "Press Enter to overwrite it or choose different path and filename: \n",
      "Your <class 'dict'> object has been succefully written as \"https://sciencedata.dk/files/SDAM_root/SDAM_data/OGL/tlg_authordate_cleaned.json\"\n"
     ]
    }
   ],
   "source": [
    "sddk.write_file(\"SDAM_data/OGL/tlg_authordate_cleaned.json\", value_pairs, conf)"
   ]
  },
  {
   "cell_type": "markdown",
   "metadata": {
    "colab_type": "text",
    "id": "-vo-pHYr4Kk9"
   },
   "source": [
    "# Dating + dataset"
   ]
  },
  {
   "cell_type": "code",
   "execution_count": 44,
   "metadata": {
    "colab": {},
    "colab_type": "code",
    "id": "jPUuv-jpGo6I"
   },
   "outputs": [],
   "source": [
    "### import manually encoded dating and provenance from sciencedata\n",
    "data_merged_raw = sddk.read_file(\"SDAM_data/AGT/AGT_raw.json\", \"df\", conf)"
   ]
  },
  {
   "cell_type": "code",
   "execution_count": 45,
   "metadata": {
    "colab": {
     "base_uri": "https://localhost:8080/",
     "height": 289
    },
    "colab_type": "code",
    "executionInfo": {
     "elapsed": 65373,
     "status": "ok",
     "timestamp": 1588777397159,
     "user": {
      "displayName": "Vojtěch Kaše",
      "photoUrl": "https://lh3.googleusercontent.com/a-/AOh14Ggz3jS9e7I3GdIEbyBKFtqr9tPdNCwyLBEJwbK8cw=s64",
      "userId": "01399835024022498543"
     },
     "user_tz": -120
    },
    "id": "cckC5gsr4Wwv",
    "outputId": "0eacd624-c9fb-4fe0-d906-18358cab0203"
   },
   "outputs": [
    {
     "data": {
      "text/html": [
       "<div>\n",
       "<style scoped>\n",
       "    .dataframe tbody tr th:only-of-type {\n",
       "        vertical-align: middle;\n",
       "    }\n",
       "\n",
       "    .dataframe tbody tr th {\n",
       "        vertical-align: top;\n",
       "    }\n",
       "\n",
       "    .dataframe thead th {\n",
       "        text-align: right;\n",
       "    }\n",
       "</style>\n",
       "<table border=\"1\" class=\"dataframe\">\n",
       "  <thead>\n",
       "    <tr style=\"text-align: right;\">\n",
       "      <th></th>\n",
       "      <th>filename</th>\n",
       "      <th>author</th>\n",
       "      <th>title</th>\n",
       "      <th>string</th>\n",
       "      <th>author_id</th>\n",
       "    </tr>\n",
       "  </thead>\n",
       "  <tbody>\n",
       "    <tr>\n",
       "      <th>0</th>\n",
       "      <td>ggm0001.ggm001.1st1K-grc1.xml</td>\n",
       "      <td>Anonymous</td>\n",
       "      <td>Anametresis Pontou; Geographi Graeci Minores</td>\n",
       "      <td>ΑΝΩΝΥΜΟΥ ΑΝΑΜΕΤΡΗΣΙΣ ΤΗΣ ΟΙΚΟΥΜΕΝΗΣ ΗΑΣ ΗΕ ΚΑΤ...</td>\n",
       "      <td>ggm0001</td>\n",
       "    </tr>\n",
       "    <tr>\n",
       "      <th>1</th>\n",
       "      <td>heb0001.heb010.1st1K-eng1.xml</td>\n",
       "      <td>None</td>\n",
       "      <td>Isaias; The Book of Isaiah</td>\n",
       "      <td>ISAIAH FROM HEBREW I. 1 The vision of Isaiah t...</td>\n",
       "      <td>heb0001</td>\n",
       "    </tr>\n",
       "    <tr>\n",
       "      <th>2</th>\n",
       "      <td>ogl0001.ogl001.1st1K-grc1.xml</td>\n",
       "      <td>Pinytus</td>\n",
       "      <td>De Epistola Pinyti ad Dionysium; Reliquiae sacrae</td>\n",
       "      <td>FRAGMENTUM BEATI PINYTI, CNOSSI IN CRETA EPISC...</td>\n",
       "      <td>ogl0001</td>\n",
       "    </tr>\n",
       "    <tr>\n",
       "      <th>3</th>\n",
       "      <td>stoa0033a.tlg028.1st1K-grc1.xml</td>\n",
       "      <td>pseudo-Aristotle</td>\n",
       "      <td>De mundo; Aristotelis Opera</td>\n",
       "      <td>ΠΕΡΙ ΚΟΣΜΟΥ ΠΡΟΣ ΑΛΕΞΑΝΔΡΟΝ. ΠΟΛΛΑΚΙΣ μὲν ἔμοι...</td>\n",
       "      <td>stoa003</td>\n",
       "    </tr>\n",
       "    <tr>\n",
       "      <th>4</th>\n",
       "      <td>stoa0033a.tlg043.1st1K-grc1.xml</td>\n",
       "      <td>pseudo-Aristotle</td>\n",
       "      <td>De spiritu; Aristotelis Opera</td>\n",
       "      <td>ΠΕΡΙ ΠΝΕΥΜΑΤΟΣ. ΤΙΣ ἡ τοῦ ἐμφύτου πνεύματος δι...</td>\n",
       "      <td>stoa003</td>\n",
       "    </tr>\n",
       "  </tbody>\n",
       "</table>\n",
       "</div>"
      ],
      "text/plain": [
       "                          filename            author  \\\n",
       "0    ggm0001.ggm001.1st1K-grc1.xml         Anonymous   \n",
       "1    heb0001.heb010.1st1K-eng1.xml              None   \n",
       "2    ogl0001.ogl001.1st1K-grc1.xml           Pinytus   \n",
       "3  stoa0033a.tlg028.1st1K-grc1.xml  pseudo-Aristotle   \n",
       "4  stoa0033a.tlg043.1st1K-grc1.xml  pseudo-Aristotle   \n",
       "\n",
       "                                               title  \\\n",
       "0       Anametresis Pontou; Geographi Graeci Minores   \n",
       "1                         Isaias; The Book of Isaiah   \n",
       "2  De Epistola Pinyti ad Dionysium; Reliquiae sacrae   \n",
       "3                        De mundo; Aristotelis Opera   \n",
       "4                      De spiritu; Aristotelis Opera   \n",
       "\n",
       "                                              string author_id  \n",
       "0  ΑΝΩΝΥΜΟΥ ΑΝΑΜΕΤΡΗΣΙΣ ΤΗΣ ΟΙΚΟΥΜΕΝΗΣ ΗΑΣ ΗΕ ΚΑΤ...   ggm0001  \n",
       "1  ISAIAH FROM HEBREW I. 1 The vision of Isaiah t...   heb0001  \n",
       "2  FRAGMENTUM BEATI PINYTI, CNOSSI IN CRETA EPISC...   ogl0001  \n",
       "3  ΠΕΡΙ ΚΟΣΜΟΥ ΠΡΟΣ ΑΛΕΞΑΝΔΡΟΝ. ΠΟΛΛΑΚΙΣ μὲν ἔμοι...   stoa003  \n",
       "4  ΠΕΡΙ ΠΝΕΥΜΑΤΟΣ. ΤΙΣ ἡ τοῦ ἐμφύτου πνεύματος δι...   stoa003  "
      ]
     },
     "execution_count": 45,
     "metadata": {},
     "output_type": "execute_result"
    }
   ],
   "source": [
    "data_merged_raw[\"author_id\"] = data_merged_raw.apply(lambda row: row[\"filename\"][:7], axis=1)\n",
    "data_merged_raw.head(5)"
   ]
  },
  {
   "cell_type": "markdown",
   "metadata": {
    "colab_type": "text",
    "id": "HvzA52yDt2Dc"
   },
   "source": [
    "# Unique documents"
   ]
  },
  {
   "cell_type": "code",
   "execution_count": 46,
   "metadata": {
    "colab": {},
    "colab_type": "code",
    "id": "u5lU9Xu8qBv6"
   },
   "outputs": [],
   "source": [
    "data_merged_raw[\"doc_id\"] = data_merged_raw.apply(lambda row: row[\"filename\"][:14], axis=1)"
   ]
  },
  {
   "cell_type": "code",
   "execution_count": 47,
   "metadata": {
    "colab": {
     "base_uri": "https://localhost:8080/",
     "height": 34
    },
    "colab_type": "code",
    "executionInfo": {
     "elapsed": 730,
     "status": "ok",
     "timestamp": 1588777434529,
     "user": {
      "displayName": "Vojtěch Kaše",
      "photoUrl": "https://lh3.googleusercontent.com/a-/AOh14Ggz3jS9e7I3GdIEbyBKFtqr9tPdNCwyLBEJwbK8cw=s64",
      "userId": "01399835024022498543"
     },
     "user_tz": -120
    },
    "id": "NFdnKgcXuK_t",
    "outputId": "406d4362-c801-414b-fe12-2f19fcad946b"
   },
   "outputs": [
    {
     "data": {
      "text/plain": [
       "1458"
      ]
     },
     "execution_count": 47,
     "metadata": {},
     "output_type": "execute_result"
    }
   ],
   "source": [
    "### how many unique documents we have?\n",
    "len(data_merged_raw[\"doc_id\"].unique().tolist())"
   ]
  },
  {
   "cell_type": "code",
   "execution_count": 48,
   "metadata": {
    "colab": {},
    "colab_type": "code",
    "id": "Hw1lmPXjufXu"
   },
   "outputs": [],
   "source": [
    "data_merged_raw.sort_values(\"filename\", inplace=True)"
   ]
  },
  {
   "cell_type": "code",
   "execution_count": 49,
   "metadata": {
    "colab": {},
    "colab_type": "code",
    "id": "c8ovL5J1vRkN"
   },
   "outputs": [],
   "source": [
    "### remove duplicates\n",
    "data_merged_raw.drop_duplicates(subset=[\"doc_id\"], keep=\"last\", inplace=True)"
   ]
  },
  {
   "cell_type": "code",
   "execution_count": 50,
   "metadata": {},
   "outputs": [
    {
     "data": {
      "text/html": [
       "<div>\n",
       "<style scoped>\n",
       "    .dataframe tbody tr th:only-of-type {\n",
       "        vertical-align: middle;\n",
       "    }\n",
       "\n",
       "    .dataframe tbody tr th {\n",
       "        vertical-align: top;\n",
       "    }\n",
       "\n",
       "    .dataframe thead th {\n",
       "        text-align: right;\n",
       "    }\n",
       "</style>\n",
       "<table border=\"1\" class=\"dataframe\">\n",
       "  <thead>\n",
       "    <tr style=\"text-align: right;\">\n",
       "      <th></th>\n",
       "      <th>author_id</th>\n",
       "      <th>raw_date</th>\n",
       "    </tr>\n",
       "  </thead>\n",
       "  <tbody>\n",
       "    <tr>\n",
       "      <th>0</th>\n",
       "      <td>tlg0031</td>\n",
       "      <td>A.D. 1</td>\n",
       "    </tr>\n",
       "    <tr>\n",
       "      <th>1</th>\n",
       "      <td>tlg0041</td>\n",
       "      <td>A.D. 1</td>\n",
       "    </tr>\n",
       "    <tr>\n",
       "      <th>2</th>\n",
       "      <td>tlg0280</td>\n",
       "      <td>A.D. 1</td>\n",
       "    </tr>\n",
       "    <tr>\n",
       "      <th>3</th>\n",
       "      <td>tlg0283</td>\n",
       "      <td>A.D. 1</td>\n",
       "    </tr>\n",
       "    <tr>\n",
       "      <th>4</th>\n",
       "      <td>tlg0347</td>\n",
       "      <td>A.D. 1</td>\n",
       "    </tr>\n",
       "    <tr>\n",
       "      <th>...</th>\n",
       "      <td>...</td>\n",
       "      <td>...</td>\n",
       "    </tr>\n",
       "    <tr>\n",
       "      <th>1818</th>\n",
       "      <td>tlg4081</td>\n",
       "      <td>A.D. 5</td>\n",
       "    </tr>\n",
       "    <tr>\n",
       "      <th>1819</th>\n",
       "      <td>tlg2210</td>\n",
       "      <td>a. 1 B.C.?</td>\n",
       "    </tr>\n",
       "    <tr>\n",
       "      <th>1820</th>\n",
       "      <td>tlg2606</td>\n",
       "      <td>a. 1 B.C.?</td>\n",
       "    </tr>\n",
       "    <tr>\n",
       "      <th>1821</th>\n",
       "      <td>tlg4323</td>\n",
       "      <td>A.D. 1/3</td>\n",
       "    </tr>\n",
       "    <tr>\n",
       "      <th>1822</th>\n",
       "      <td>tlg4325</td>\n",
       "      <td>A.D. 1/3</td>\n",
       "    </tr>\n",
       "  </tbody>\n",
       "</table>\n",
       "<p>1823 rows × 2 columns</p>\n",
       "</div>"
      ],
      "text/plain": [
       "     author_id    raw_date\n",
       "0      tlg0031      A.D. 1\n",
       "1      tlg0041      A.D. 1\n",
       "2      tlg0280      A.D. 1\n",
       "3      tlg0283      A.D. 1\n",
       "4      tlg0347      A.D. 1\n",
       "...        ...         ...\n",
       "1818   tlg4081      A.D. 5\n",
       "1819   tlg2210  a. 1 B.C.?\n",
       "1820   tlg2606  a. 1 B.C.?\n",
       "1821   tlg4323    A.D. 1/3\n",
       "1822   tlg4325    A.D. 1/3\n",
       "\n",
       "[1823 rows x 2 columns]"
      ]
     },
     "execution_count": 50,
     "metadata": {},
     "output_type": "execute_result"
    }
   ],
   "source": [
    "author_ids_with_raw_dates_df"
   ]
  },
  {
   "cell_type": "code",
   "execution_count": 51,
   "metadata": {
    "colab": {},
    "colab_type": "code",
    "id": "lJNcv3zmLDQy"
   },
   "outputs": [],
   "source": [
    "# merge with author_ids_with_raw_dates_df\n",
    "AGT = pd.merge(data_merged_raw, author_ids_with_raw_dates_df, on=\"author_id\")"
   ]
  },
  {
   "cell_type": "code",
   "execution_count": 52,
   "metadata": {
    "colab": {},
    "colab_type": "code",
    "id": "-4-8rOc4O1MT"
   },
   "outputs": [],
   "source": [
    "### \"raw_date\" might now be used as a key to get anything from dates_cleaned dictionary"
   ]
  },
  {
   "cell_type": "code",
   "execution_count": 53,
   "metadata": {
    "colab": {},
    "colab_type": "code",
    "id": "qKm4ea-9I3yU"
   },
   "outputs": [],
   "source": [
    "### date average\n",
    "AGT[\"date_avr\"] = AGT.apply(lambda row: dates_cleaned[row[\"raw_date\"]][2], axis=1)"
   ]
  },
  {
   "cell_type": "code",
   "execution_count": 54,
   "metadata": {
    "colab": {},
    "colab_type": "code",
    "id": "L-u5FvSeI5f2"
   },
   "outputs": [],
   "source": [
    "### date probabilities\n",
    "AGT[\"date_probs\"] = AGT.apply(lambda row: dates_cleaned[row[\"raw_date\"]][1], axis=1)"
   ]
  },
  {
   "cell_type": "code",
   "execution_count": 55,
   "metadata": {
    "colab": {
     "base_uri": "https://localhost:8080/",
     "height": 479
    },
    "colab_type": "code",
    "executionInfo": {
     "elapsed": 708,
     "status": "ok",
     "timestamp": 1588777484870,
     "user": {
      "displayName": "Vojtěch Kaše",
      "photoUrl": "https://lh3.googleusercontent.com/a-/AOh14Ggz3jS9e7I3GdIEbyBKFtqr9tPdNCwyLBEJwbK8cw=s64",
      "userId": "01399835024022498543"
     },
     "user_tz": -120
    },
    "id": "qhvO0Gb9Hhks",
    "outputId": "1978e18c-9f5a-4ad5-eb1b-3a31f1645c20"
   },
   "outputs": [
    {
     "data": {
      "text/html": [
       "<div>\n",
       "<style scoped>\n",
       "    .dataframe tbody tr th:only-of-type {\n",
       "        vertical-align: middle;\n",
       "    }\n",
       "\n",
       "    .dataframe tbody tr th {\n",
       "        vertical-align: top;\n",
       "    }\n",
       "\n",
       "    .dataframe thead th {\n",
       "        text-align: right;\n",
       "    }\n",
       "</style>\n",
       "<table border=\"1\" class=\"dataframe\">\n",
       "  <thead>\n",
       "    <tr style=\"text-align: right;\">\n",
       "      <th></th>\n",
       "      <th>filename</th>\n",
       "      <th>author</th>\n",
       "      <th>title</th>\n",
       "      <th>string</th>\n",
       "      <th>author_id</th>\n",
       "      <th>doc_id</th>\n",
       "      <th>raw_date</th>\n",
       "      <th>date_avr</th>\n",
       "      <th>date_probs</th>\n",
       "    </tr>\n",
       "  </thead>\n",
       "  <tbody>\n",
       "    <tr>\n",
       "      <th>0</th>\n",
       "      <td>tlg0001.tlg001.perseus-grc2.xml</td>\n",
       "      <td>Apollonius Rhodius</td>\n",
       "      <td>Argonautica; Argonautica</td>\n",
       "      <td>ἀρχόμενος σέο, Φοῖβε, παλαιγενέων κλέα φωτῶν μ...</td>\n",
       "      <td>tlg0001</td>\n",
       "      <td>tlg0001.tlg001</td>\n",
       "      <td>3 B.C.</td>\n",
       "      <td>-2.5</td>\n",
       "      <td>{-2.5: 1}</td>\n",
       "    </tr>\n",
       "    <tr>\n",
       "      <th>1</th>\n",
       "      <td>tlg0003.tlg001.perseus-grc2.xml</td>\n",
       "      <td>Thucydides</td>\n",
       "      <td>The Peloponnesian War; Historiae in two volumes</td>\n",
       "      <td>Θουκυδίδης Ἀθηναῖος ξυνέγραψε τὸν πόλεμον τῶν ...</td>\n",
       "      <td>tlg0003</td>\n",
       "      <td>tlg0003.tlg001</td>\n",
       "      <td>5 B.C.</td>\n",
       "      <td>-4.5</td>\n",
       "      <td>{-4.5: 1}</td>\n",
       "    </tr>\n",
       "    <tr>\n",
       "      <th>2</th>\n",
       "      <td>tlg0004.tlg001.perseus-grc1.xml</td>\n",
       "      <td>Diogenes Laertius</td>\n",
       "      <td>Lives of Eminent Philosophers; Lives of Eminen...</td>\n",
       "      <td>ΒΙΩΝ ΚΑΙ ΓΝΩΜΩΝ ΤΩΝ ΕΝ ΦΙΛΟΣΟΦΙΑΙ ΕΥΔΟΚΙΜΗΣΑΝΤ...</td>\n",
       "      <td>tlg0004</td>\n",
       "      <td>tlg0004.tlg001</td>\n",
       "      <td>A.D. 3</td>\n",
       "      <td>2.5</td>\n",
       "      <td>{2.5: 1}</td>\n",
       "    </tr>\n",
       "    <tr>\n",
       "      <th>3</th>\n",
       "      <td>tlg0005.tlg001.perseus-grc1.xml</td>\n",
       "      <td>Theocritus</td>\n",
       "      <td>Idylls ; Idylls</td>\n",
       "      <td>Θύρσις ἢ ᾠδή Θύρσις ̔Αδύ τι τὸ ψιθύρισμα καὶ ἁ...</td>\n",
       "      <td>tlg0005</td>\n",
       "      <td>tlg0005.tlg001</td>\n",
       "      <td>4-3 B.C.</td>\n",
       "      <td>-3.0</td>\n",
       "      <td>{-3.5: 0.5, -2.5: 0.5}</td>\n",
       "    </tr>\n",
       "    <tr>\n",
       "      <th>4</th>\n",
       "      <td>tlg0005.tlg002.perseus-grc1.xml</td>\n",
       "      <td>Theocritus</td>\n",
       "      <td>Epigrams ; Idylls</td>\n",
       "      <td>α παλ ϝι.336 τὰ ῥόδα τὰ δροσόεντα καὶ ἁ κατάπυ...</td>\n",
       "      <td>tlg0005</td>\n",
       "      <td>tlg0005.tlg002</td>\n",
       "      <td>4-3 B.C.</td>\n",
       "      <td>-3.0</td>\n",
       "      <td>{-3.5: 0.5, -2.5: 0.5}</td>\n",
       "    </tr>\n",
       "  </tbody>\n",
       "</table>\n",
       "</div>"
      ],
      "text/plain": [
       "                          filename              author  \\\n",
       "0  tlg0001.tlg001.perseus-grc2.xml  Apollonius Rhodius   \n",
       "1  tlg0003.tlg001.perseus-grc2.xml          Thucydides   \n",
       "2  tlg0004.tlg001.perseus-grc1.xml   Diogenes Laertius   \n",
       "3  tlg0005.tlg001.perseus-grc1.xml          Theocritus   \n",
       "4  tlg0005.tlg002.perseus-grc1.xml          Theocritus   \n",
       "\n",
       "                                               title  \\\n",
       "0                           Argonautica; Argonautica   \n",
       "1    The Peloponnesian War; Historiae in two volumes   \n",
       "2  Lives of Eminent Philosophers; Lives of Eminen...   \n",
       "3                                    Idylls ; Idylls   \n",
       "4                                  Epigrams ; Idylls   \n",
       "\n",
       "                                              string author_id  \\\n",
       "0  ἀρχόμενος σέο, Φοῖβε, παλαιγενέων κλέα φωτῶν μ...   tlg0001   \n",
       "1  Θουκυδίδης Ἀθηναῖος ξυνέγραψε τὸν πόλεμον τῶν ...   tlg0003   \n",
       "2  ΒΙΩΝ ΚΑΙ ΓΝΩΜΩΝ ΤΩΝ ΕΝ ΦΙΛΟΣΟΦΙΑΙ ΕΥΔΟΚΙΜΗΣΑΝΤ...   tlg0004   \n",
       "3  Θύρσις ἢ ᾠδή Θύρσις ̔Αδύ τι τὸ ψιθύρισμα καὶ ἁ...   tlg0005   \n",
       "4  α παλ ϝι.336 τὰ ῥόδα τὰ δροσόεντα καὶ ἁ κατάπυ...   tlg0005   \n",
       "\n",
       "           doc_id  raw_date  date_avr              date_probs  \n",
       "0  tlg0001.tlg001    3 B.C.      -2.5               {-2.5: 1}  \n",
       "1  tlg0003.tlg001    5 B.C.      -4.5               {-4.5: 1}  \n",
       "2  tlg0004.tlg001    A.D. 3       2.5                {2.5: 1}  \n",
       "3  tlg0005.tlg001  4-3 B.C.      -3.0  {-3.5: 0.5, -2.5: 0.5}  \n",
       "4  tlg0005.tlg002  4-3 B.C.      -3.0  {-3.5: 0.5, -2.5: 0.5}  "
      ]
     },
     "execution_count": 55,
     "metadata": {},
     "output_type": "execute_result"
    }
   ],
   "source": [
    "AGT.head(5)"
   ]
  },
  {
   "cell_type": "markdown",
   "metadata": {
    "colab_type": "text",
    "id": "kNiqNgdIiuek"
   },
   "source": [
    "# Add our own old manual coding of dating\n"
   ]
  },
  {
   "cell_type": "code",
   "execution_count": 56,
   "metadata": {},
   "outputs": [
    {
     "data": {
      "text/html": [
       "<div>\n",
       "<style scoped>\n",
       "    .dataframe tbody tr th:only-of-type {\n",
       "        vertical-align: middle;\n",
       "    }\n",
       "\n",
       "    .dataframe tbody tr th {\n",
       "        vertical-align: top;\n",
       "    }\n",
       "\n",
       "    .dataframe thead th {\n",
       "        text-align: right;\n",
       "    }\n",
       "</style>\n",
       "<table border=\"1\" class=\"dataframe\">\n",
       "  <thead>\n",
       "    <tr style=\"text-align: right;\">\n",
       "      <th></th>\n",
       "      <th>Unnamed: 0</th>\n",
       "      <th>Unnamed: 1</th>\n",
       "      <th>Unnamed: 2</th>\n",
       "      <th>Unnamed: 3</th>\n",
       "      <th>Unnamed: 4</th>\n",
       "      <th>Unnamed: 5</th>\n",
       "      <th>Unnamed: 6</th>\n",
       "      <th>Unnamed: 7</th>\n",
       "      <th>Unnamed: 8</th>\n",
       "      <th>Unnamed: 9</th>\n",
       "      <th>Unnamed: 10</th>\n",
       "    </tr>\n",
       "  </thead>\n",
       "  <tbody>\n",
       "    <tr>\n",
       "      <th>0</th>\n",
       "      <td>pseudo-Aristotle</td>\n",
       "      <td>De mundo</td>\n",
       "      <td>stoa0033a.tlg028.1st1K-grc1</td>\n",
       "      <td>7303</td>\n",
       "      <td>3299</td>\n",
       "      <td>2313</td>\n",
       "      <td>[187, 17.6417112299, 76, 11.6813747846]</td>\n",
       "      <td>pseudo-Aristotle</td>\n",
       "      <td>pagan</td>\n",
       "      <td>-2.5</td>\n",
       "      <td>NaN</td>\n",
       "    </tr>\n",
       "    <tr>\n",
       "      <th>1</th>\n",
       "      <td>pseudo-Aristotle</td>\n",
       "      <td>De spiritu</td>\n",
       "      <td>stoa0033a.tlg043.1st1K-grc1</td>\n",
       "      <td>4002</td>\n",
       "      <td>1440</td>\n",
       "      <td>1083</td>\n",
       "      <td>[193, 7.4611398964, 35, 5.1233280094]</td>\n",
       "      <td>pseudo-Aristotle</td>\n",
       "      <td>pagan</td>\n",
       "      <td>-3.5</td>\n",
       "      <td>NaN</td>\n",
       "    </tr>\n",
       "    <tr>\n",
       "      <th>2</th>\n",
       "      <td>Eutropius</td>\n",
       "      <td>Breviarium historiae romanae</td>\n",
       "      <td>stoa0121.stoa001.opp-grc1</td>\n",
       "      <td>26143</td>\n",
       "      <td>13086</td>\n",
       "      <td>8941</td>\n",
       "      <td>[960, 13.63125, 71, 8.5196746869]</td>\n",
       "      <td>Eutropius</td>\n",
       "      <td>pagan</td>\n",
       "      <td>3.5</td>\n",
       "      <td>NaN</td>\n",
       "    </tr>\n",
       "    <tr>\n",
       "      <th>3</th>\n",
       "      <td>Hegemonius</td>\n",
       "      <td>Acta Archelai</td>\n",
       "      <td>stoa0146d.stoa001.opp-grc1</td>\n",
       "      <td>2725</td>\n",
       "      <td>1161</td>\n",
       "      <td>727</td>\n",
       "      <td>[105, 11.0571428571, 38, 8.2736858504]</td>\n",
       "      <td>Hegemonius</td>\n",
       "      <td>christian</td>\n",
       "      <td>3.5</td>\n",
       "      <td>NaN</td>\n",
       "    </tr>\n",
       "    <tr>\n",
       "      <th>4</th>\n",
       "      <td>Apollonius Rhodius</td>\n",
       "      <td>Argonautica</td>\n",
       "      <td>tlg0001.tlg001.perseus-grc2</td>\n",
       "      <td>45667</td>\n",
       "      <td>23930</td>\n",
       "      <td>15832</td>\n",
       "      <td>[1660, 14.4156626506, 75, 8.6875895686]</td>\n",
       "      <td>Apollonius Rhodius</td>\n",
       "      <td>pagan</td>\n",
       "      <td>-2.5</td>\n",
       "      <td>NaN</td>\n",
       "    </tr>\n",
       "  </tbody>\n",
       "</table>\n",
       "</div>"
      ],
      "text/plain": [
       "           Unnamed: 0                    Unnamed: 1  \\\n",
       "0    pseudo-Aristotle                      De mundo   \n",
       "1    pseudo-Aristotle                    De spiritu   \n",
       "2           Eutropius  Breviarium historiae romanae   \n",
       "3          Hegemonius                 Acta Archelai   \n",
       "4  Apollonius Rhodius                   Argonautica   \n",
       "\n",
       "                    Unnamed: 2  Unnamed: 3  Unnamed: 4  Unnamed: 5  \\\n",
       "0  stoa0033a.tlg028.1st1K-grc1        7303        3299        2313   \n",
       "1  stoa0033a.tlg043.1st1K-grc1        4002        1440        1083   \n",
       "2    stoa0121.stoa001.opp-grc1       26143       13086        8941   \n",
       "3   stoa0146d.stoa001.opp-grc1        2725        1161         727   \n",
       "4  tlg0001.tlg001.perseus-grc2       45667       23930       15832   \n",
       "\n",
       "                                Unnamed: 6          Unnamed: 7 Unnamed: 8  \\\n",
       "0  [187, 17.6417112299, 76, 11.6813747846]    pseudo-Aristotle      pagan   \n",
       "1    [193, 7.4611398964, 35, 5.1233280094]    pseudo-Aristotle      pagan   \n",
       "2        [960, 13.63125, 71, 8.5196746869]           Eutropius      pagan   \n",
       "3   [105, 11.0571428571, 38, 8.2736858504]          Hegemonius  christian   \n",
       "4  [1660, 14.4156626506, 75, 8.6875895686]  Apollonius Rhodius      pagan   \n",
       "\n",
       "   Unnamed: 9 Unnamed: 10  \n",
       "0        -2.5         NaN  \n",
       "1        -3.5         NaN  \n",
       "2         3.5         NaN  \n",
       "3         3.5         NaN  \n",
       "4        -2.5         NaN  "
      ]
     },
     "execution_count": 56,
     "metadata": {},
     "output_type": "execute_result"
    }
   ],
   "source": [
    "works_overview = get_as_dataframe(AGT_overview.worksheet(\"works_overview_MANUAL_OLD\"))\n",
    "works_overview.head(5)"
   ]
  },
  {
   "cell_type": "code",
   "execution_count": 57,
   "metadata": {},
   "outputs": [],
   "source": [
    "works_overview.columns = [\"author\", \"work\", \"file\", \"words\", \"lemmata\", \"lem_filtered\", \"meta\", \"author_alternative\", \"provenience\", \"date_man\", \"notes\"]"
   ]
  },
  {
   "cell_type": "code",
   "execution_count": 58,
   "metadata": {},
   "outputs": [
    {
     "data": {
      "text/html": [
       "<div>\n",
       "<style scoped>\n",
       "    .dataframe tbody tr th:only-of-type {\n",
       "        vertical-align: middle;\n",
       "    }\n",
       "\n",
       "    .dataframe tbody tr th {\n",
       "        vertical-align: top;\n",
       "    }\n",
       "\n",
       "    .dataframe thead th {\n",
       "        text-align: right;\n",
       "    }\n",
       "</style>\n",
       "<table border=\"1\" class=\"dataframe\">\n",
       "  <thead>\n",
       "    <tr style=\"text-align: right;\">\n",
       "      <th></th>\n",
       "      <th>author</th>\n",
       "      <th>work</th>\n",
       "      <th>file</th>\n",
       "      <th>words</th>\n",
       "      <th>lemmata</th>\n",
       "      <th>lem_filtered</th>\n",
       "      <th>meta</th>\n",
       "      <th>author_alternative</th>\n",
       "      <th>provenience</th>\n",
       "      <th>date_man</th>\n",
       "      <th>notes</th>\n",
       "    </tr>\n",
       "  </thead>\n",
       "  <tbody>\n",
       "    <tr>\n",
       "      <th>0</th>\n",
       "      <td>pseudo-Aristotle</td>\n",
       "      <td>De mundo</td>\n",
       "      <td>stoa0033a.tlg028.1st1K-grc1</td>\n",
       "      <td>7303</td>\n",
       "      <td>3299</td>\n",
       "      <td>2313</td>\n",
       "      <td>[187, 17.6417112299, 76, 11.6813747846]</td>\n",
       "      <td>pseudo-Aristotle</td>\n",
       "      <td>pagan</td>\n",
       "      <td>-2.5</td>\n",
       "      <td>NaN</td>\n",
       "    </tr>\n",
       "    <tr>\n",
       "      <th>1</th>\n",
       "      <td>pseudo-Aristotle</td>\n",
       "      <td>De spiritu</td>\n",
       "      <td>stoa0033a.tlg043.1st1K-grc1</td>\n",
       "      <td>4002</td>\n",
       "      <td>1440</td>\n",
       "      <td>1083</td>\n",
       "      <td>[193, 7.4611398964, 35, 5.1233280094]</td>\n",
       "      <td>pseudo-Aristotle</td>\n",
       "      <td>pagan</td>\n",
       "      <td>-3.5</td>\n",
       "      <td>NaN</td>\n",
       "    </tr>\n",
       "    <tr>\n",
       "      <th>2</th>\n",
       "      <td>Eutropius</td>\n",
       "      <td>Breviarium historiae romanae</td>\n",
       "      <td>stoa0121.stoa001.opp-grc1</td>\n",
       "      <td>26143</td>\n",
       "      <td>13086</td>\n",
       "      <td>8941</td>\n",
       "      <td>[960, 13.63125, 71, 8.5196746869]</td>\n",
       "      <td>Eutropius</td>\n",
       "      <td>pagan</td>\n",
       "      <td>3.5</td>\n",
       "      <td>NaN</td>\n",
       "    </tr>\n",
       "    <tr>\n",
       "      <th>3</th>\n",
       "      <td>Hegemonius</td>\n",
       "      <td>Acta Archelai</td>\n",
       "      <td>stoa0146d.stoa001.opp-grc1</td>\n",
       "      <td>2725</td>\n",
       "      <td>1161</td>\n",
       "      <td>727</td>\n",
       "      <td>[105, 11.0571428571, 38, 8.2736858504]</td>\n",
       "      <td>Hegemonius</td>\n",
       "      <td>christian</td>\n",
       "      <td>3.5</td>\n",
       "      <td>NaN</td>\n",
       "    </tr>\n",
       "    <tr>\n",
       "      <th>4</th>\n",
       "      <td>Apollonius Rhodius</td>\n",
       "      <td>Argonautica</td>\n",
       "      <td>tlg0001.tlg001.perseus-grc2</td>\n",
       "      <td>45667</td>\n",
       "      <td>23930</td>\n",
       "      <td>15832</td>\n",
       "      <td>[1660, 14.4156626506, 75, 8.6875895686]</td>\n",
       "      <td>Apollonius Rhodius</td>\n",
       "      <td>pagan</td>\n",
       "      <td>-2.5</td>\n",
       "      <td>NaN</td>\n",
       "    </tr>\n",
       "  </tbody>\n",
       "</table>\n",
       "</div>"
      ],
      "text/plain": [
       "               author                          work  \\\n",
       "0    pseudo-Aristotle                      De mundo   \n",
       "1    pseudo-Aristotle                    De spiritu   \n",
       "2           Eutropius  Breviarium historiae romanae   \n",
       "3          Hegemonius                 Acta Archelai   \n",
       "4  Apollonius Rhodius                   Argonautica   \n",
       "\n",
       "                          file  words  lemmata  lem_filtered  \\\n",
       "0  stoa0033a.tlg028.1st1K-grc1   7303     3299          2313   \n",
       "1  stoa0033a.tlg043.1st1K-grc1   4002     1440          1083   \n",
       "2    stoa0121.stoa001.opp-grc1  26143    13086          8941   \n",
       "3   stoa0146d.stoa001.opp-grc1   2725     1161           727   \n",
       "4  tlg0001.tlg001.perseus-grc2  45667    23930         15832   \n",
       "\n",
       "                                      meta  author_alternative provenience  \\\n",
       "0  [187, 17.6417112299, 76, 11.6813747846]    pseudo-Aristotle       pagan   \n",
       "1    [193, 7.4611398964, 35, 5.1233280094]    pseudo-Aristotle       pagan   \n",
       "2        [960, 13.63125, 71, 8.5196746869]           Eutropius       pagan   \n",
       "3   [105, 11.0571428571, 38, 8.2736858504]          Hegemonius   christian   \n",
       "4  [1660, 14.4156626506, 75, 8.6875895686]  Apollonius Rhodius       pagan   \n",
       "\n",
       "   date_man notes  \n",
       "0      -2.5   NaN  \n",
       "1      -3.5   NaN  \n",
       "2       3.5   NaN  \n",
       "3       3.5   NaN  \n",
       "4      -2.5   NaN  "
      ]
     },
     "execution_count": 58,
     "metadata": {},
     "output_type": "execute_result"
    }
   ],
   "source": [
    "works_overview.head(5)"
   ]
  },
  {
   "cell_type": "code",
   "execution_count": 59,
   "metadata": {
    "colab": {},
    "colab_type": "code",
    "id": "z1pOwxiw9vqp"
   },
   "outputs": [],
   "source": [
    "works_overview[\"author_id\"] = works_overview.apply(lambda row: row[\"file\"][:7], axis=1)"
   ]
  },
  {
   "cell_type": "code",
   "execution_count": 60,
   "metadata": {
    "colab": {
     "base_uri": "https://localhost:8080/",
     "height": 34
    },
    "colab_type": "code",
    "executionInfo": {
     "elapsed": 519,
     "status": "ok",
     "timestamp": 1588777499721,
     "user": {
      "displayName": "Vojtěch Kaše",
      "photoUrl": "https://lh3.googleusercontent.com/a-/AOh14Ggz3jS9e7I3GdIEbyBKFtqr9tPdNCwyLBEJwbK8cw=s64",
      "userId": "01399835024022498543"
     },
     "user_tz": -120
    },
    "id": "ZG1Z4ASWfxGN",
    "outputId": "bce9fc3a-390b-46cf-840d-2c1750104068"
   },
   "outputs": [
    {
     "data": {
      "text/plain": [
       "[-4.5]"
      ]
     },
     "execution_count": 60,
     "metadata": {},
     "output_type": "execute_result"
    }
   ],
   "source": [
    "# check how indexing works\n",
    "works_overview[works_overview[\"author_id\"]==\"tlg5034\"][\"date_man\"].unique().tolist()"
   ]
  },
  {
   "cell_type": "code",
   "execution_count": 61,
   "metadata": {
    "colab": {
     "base_uri": "https://localhost:8080/",
     "height": 34
    },
    "colab_type": "code",
    "executionInfo": {
     "elapsed": 476,
     "status": "ok",
     "timestamp": 1588777500660,
     "user": {
      "displayName": "Vojtěch Kaše",
      "photoUrl": "https://lh3.googleusercontent.com/a-/AOh14Ggz3jS9e7I3GdIEbyBKFtqr9tPdNCwyLBEJwbK8cw=s64",
      "userId": "01399835024022498543"
     },
     "user_tz": -120
    },
    "id": "3AhePMrZgZEb",
    "outputId": "2203736c-860d-4e29-f1aa-3326cf2b338c"
   },
   "outputs": [
    {
     "data": {
      "text/plain": [
       "['christian']"
      ]
     },
     "execution_count": 61,
     "metadata": {},
     "output_type": "execute_result"
    }
   ],
   "source": [
    "# check biblical books\n",
    "[value for value in works_overview[works_overview[\"author_id\"]==\"tlg0031\"][\"provenience\"].unique().tolist() if not pd.isna(value)]"
   ]
  },
  {
   "cell_type": "code",
   "execution_count": 62,
   "metadata": {
    "colab": {},
    "colab_type": "code",
    "id": "5bHkF4uPdjb1"
   },
   "outputs": [],
   "source": [
    "### get a dict of authors with centuries and provenience values\n",
    "author_cent_prov = {}\n",
    "for author_id in list(set(works_overview[\"author_id\"].tolist())):\n",
    "    author_cent_prov[author_id] = ([value for value in works_overview[works_overview[\"author_id\"]==author_id][\"date_man\"].unique().tolist() if not pd.isna(value)], [value for value in works_overview[works_overview[\"author_id\"]==author_id][\"provenience\"].unique().tolist() if not pd.isna(value)])"
   ]
  },
  {
   "cell_type": "code",
   "execution_count": 63,
   "metadata": {},
   "outputs": [
    {
     "data": {
      "text/plain": [
       "([0.5], ['jewish'])"
      ]
     },
     "execution_count": 63,
     "metadata": {},
     "output_type": "execute_result"
    }
   ],
   "source": [
    "author_cent_prov[\"tlg0018\"]"
   ]
  },
  {
   "cell_type": "code",
   "execution_count": 64,
   "metadata": {
    "colab": {},
    "colab_type": "code",
    "id": "dahXJ4d4yiZY"
   },
   "outputs": [],
   "source": [
    "### manual update\n",
    "author_cent_prov[\"tlg0526\"] = ([0.5], ['jewish'])\n",
    "author_cent_prov[\"tlg2040\"] = ([3.5], ['christian'])\n",
    "author_cent_prov[\"tlg1329\"] = ([1.5], ['christian'])\n",
    "author_cent_prov[\"tlg2035\"] = ([3.5], ['christian'])\n",
    "author_cent_prov['tlg0563'] = ([1.5], ['christian'])\n",
    "author_cent_prov['tlg0013'] = ([-7.0], ['pagan'])\n",
    "author_cent_prov['tlg2029'] = ([3.0], ['pagan'])\n",
    "author_cent_prov['tlg0656'] = ([0.5], ['pagan'])\n",
    "author_cent_prov['tlg0559'] = ([0.5], ['pagan'])\n",
    "author_cent_prov['tlg0099'] = ([0], ['pagan'])"
   ]
  },
  {
   "cell_type": "code",
   "execution_count": 65,
   "metadata": {
    "colab": {
     "base_uri": "https://localhost:8080/",
     "height": 54
    },
    "colab_type": "code",
    "executionInfo": {
     "elapsed": 547,
     "status": "ok",
     "timestamp": 1588777508147,
     "user": {
      "displayName": "Vojtěch Kaše",
      "photoUrl": "https://lh3.googleusercontent.com/a-/AOh14Ggz3jS9e7I3GdIEbyBKFtqr9tPdNCwyLBEJwbK8cw=s64",
      "userId": "01399835024022498543"
     },
     "user_tz": -120
    },
    "id": "UxVQ9pWDgHxk",
    "outputId": "f843a0cb-b8f9-48c5-cc40-6dc357503d41"
   },
   "outputs": [
    {
     "name": "stdout",
     "output_type": "stream",
     "text": [
      "{'tlg0544': ([1.5], ['pagan']), 'tlg9019': ([], []), 'tlg9006': ([], []), 'tlg4021': ([], []), 'tlg0548': ([1.5], ['pagan']), 'tlg1311': ([1.5], ['christian']), 'tlg0551': ([1.5], ['pagan']), 'tlg0082': ([1.5], ['pagan']), 'tlg0565': ([3.5], ['pagan']), 'tlg4027': ([], []), 'tlg0008': ([2.5], ['pagan']), 'tlg0031': ([0.5], ['christian']), 'tlg1622': ([1.5], ['christian']), 'tlg4013': ([], []), 'tlg0612': ([0.5], ['pagan']), 'tlg0554': ([0.5], ['pagan']), 'tlg1205': ([1.5], ['christian']), 'stoa003': ([-2.5, -3.5], ['pagan']), 'tlg0561': ([1.5], ['pagan']), 'tlg0012': ([-7.5], ['pagan']), 'tlg1484': ([1.5], ['christian']), 'tlg2036': ([], []), 'tlg3118': ([], []), 'tlg4016': ([], []), 'tlg1725': ([1.5], ['christian']), 'tlg4084': ([4.5], ['christian']), 'tlg0732': ([2.5], ['pagan']), 'tlg3135': ([], []), 'tlg5034': ([-4.5], ['pagan']), 'tlg2058': ([4.5], ['christian']), 'tlg0010': ([-3.5], ['pagan']), 'tlg0018': ([0.5], ['jewish']), 'tlg0006': ([-4.5], ['pagan']), 'tlg1252': ([], []), 'tlg1600': ([2.5], ['pagan']), 'tlg0032': ([-3.5], ['pagan']), 'tlg1210': ([], []), 'tlg1765': ([], []), 'tlg2023': ([3.5], ['pagan']), 'tlg1447': ([2.5], ['christian']), 'tlg2022': ([3.5], ['christian']), 'tlg0062': ([1.5], ['pagan']), 'tlg0643': ([], []), 'tlg0001': ([-2.5], ['pagan']), 'tlg1766': ([1.5], ['christian']), 'tlg4090': ([4.5], ['christian']), 'tlg1216': ([1.5], ['christian']), 'tlg1419': ([1.5], ['christian']), 'tlg5026': ([], []), 'tlg0527': ([], ['jewish']), 'tlg0543': ([-1.5], ['pagan']), 'tlg1463': ([], []), 'tlg1126': ([], []), 'tlg2768': ([], []), 'tlg3156': ([], []), 'tlg0658': ([2.5], ['pagan']), 'tlg0093': ([-3.5], ['pagan']), 'tlg0028': ([-4.5], ['pagan']), 'tlg1271': ([0.5], ['christian']), 'tlg0591': ([-3.5], ['pagan']), 'tlg0074': ([1.5], ['pagan']), 'tlg0015': ([2.5], ['pagan']), 'tlg1389': ([1.5], ['pagan']), 'tlg0011': ([-4.5], ['pagan']), 'tlg0751': ([], []), 'tlg2200': ([3.5], ['pagan']), 'tlg2018': ([3.5], ['christian']), 'tlg2057': ([4.5], ['christian']), 'tlg4017': ([], []), 'tlg0555': ([2.5], ['christian']), 'tlg2733': ([5.5], ['christian']), 'tlg0019': ([-3.5], ['pagan']), 'tlg0057': ([2.5], ['pagan']), 'tlg2000': ([2.5], ['pagan']), 'tlg0363': ([1.5], ['pagan']), 'tlg4020': ([], []), 'tlg1724': ([1.5], ['pagan']), 'tlg0616': ([1.5], ['pagan']), 'tlg2583': ([4.5], ['pagan']), 'tlg4102': ([], []), 'tlg0358': ([1.5], ['pagan']), 'tlg0540': ([-4.5], ['pagan']), 'tlg0541': ([], []), 'tlg2042': ([2.5], ['christian']), 'tlg4089': ([4.5], ['christian']), 'tlg1701': ([], []), 'tlg0610': ([-3.5], ['pagan']), 'tlg4030': ([], []), 'tlg4018': ([], []), 'tlg4193': ([], []), 'tlg4033': ([], []), 'tlg1337': ([], []), 'tlg0007': ([1.5], ['pagan']), 'tlg1220': ([], []), 'tlg4075': ([], []), 'tlg1443': ([1.5], ['christian']), 'tlg4024': ([], []), 'tlg5022': ([], []), 'tlg2371': ([], []), 'tlg4170': ([-4.5], ['pagan']), 'tlg2021': ([3.5], ['christian']), 'tlg0530': ([2.5], ['pagan']), 'tlg0016': ([-4.5], ['pagan']), 'tlg0525': ([1.5], ['pagan']), 'tlg4019': ([], []), 'tlg2041': ([], []), 'tlg0088': ([-3.5], ['pagan']), 'stoa012': ([3.5], ['pagan']), 'tlg4031': ([], []), 'tlg0640': ([1.5], ['pagan']), 'tlg4015': ([5.5], ['christian']), 'tlg2115': ([2.5], ['christian']), 'tlg0614': ([1.5], ['pagan']), 'tlg4036': ([4.5], ['pagan']), 'tlg0096': ([-5.5], ['pagan']), 'tlg0013': ([-7.0], ['pagan']), 'tlg0646': ([1.5], ['christian']), 'tlg0003': ([-4.5], ['pagan']), 'tlg0033': ([-4.5], ['pagan']), 'tlg0059': ([-3.5], ['pagan']), 'tlg0090': ([2.5], ['pagan']), 'tlg0615': ([], []), 'tlg0645': ([1.5], ['christian']), 'tlg2050': ([], []), 'tlg0593': ([-4.5], ['pagan']), 'tlg0085': ([-4.5], ['pagan']), 'tlg2001': ([], []), 'tlg0020': ([-6.5], ['pagan']), 'tlg2048': ([4.5], ['christian']), 'tlg1409': ([-3.5], ['pagan']), 'tlg9004': ([], []), 'tlg1551': ([], []), 'tlg0014': ([-3.5], ['pagan']), 'tlg2703': ([], []), 'tlg0627': ([-3.5], ['pagan']), 'tlg0661': ([1.5], ['pagan']), 'stoa014': ([3.5], ['christian']), 'tlg1799': ([-3.5], ['pagan']), 'tlg2959': ([3.5], ['christian']), 'tlg0086': ([-3.5], ['pagan']), 'tlg2255': ([-3.5], ['pagan']), 'tlg2034': ([2.5], ['pagan']), 'tlg0553': ([1.5], ['pagan']), 'tlg4034': ([], []), 'tlg1487': ([], []), 'tlg0708': ([3.5], ['pagan']), 'tlg0526': ([0.5], ['jewish']), 'tlg2040': ([3.5], ['christian']), 'tlg1329': ([1.5], ['christian']), 'tlg2035': ([3.5], ['christian']), 'tlg0563': ([1.5], ['christian']), 'tlg2029': ([3.0], ['pagan']), 'tlg0656': ([0.5], ['pagan']), 'tlg0559': ([0.5], ['pagan']), 'tlg0099': ([0], ['pagan'])}\n"
     ]
    }
   ],
   "source": [
    "print(author_cent_prov)"
   ]
  },
  {
   "cell_type": "code",
   "execution_count": 66,
   "metadata": {
    "colab": {
     "base_uri": "https://localhost:8080/",
     "height": 68
    },
    "colab_type": "code",
    "executionInfo": {
     "elapsed": 4023,
     "status": "ok",
     "timestamp": 1581591422863,
     "user": {
      "displayName": "Vojtěch Kaše",
      "photoUrl": "https://lh3.googleusercontent.com/a-/AAuE7mAxTlnyE78QMWq7qNrhY8cMOVti0SJqAGwQEptYkQ=s64",
      "userId": "01399835024022498543"
     },
     "user_tz": -60
    },
    "id": "9PtmVwG6iC2E",
    "outputId": "15568701-b3b3-4934-ff74-fa93faf28e1e"
   },
   "outputs": [],
   "source": [
    "#sddk.write_file(\"SDAM_data/AGT/author_cent_prov.json\", author_cent_prov, conf)"
   ]
  },
  {
   "cell_type": "code",
   "execution_count": 67,
   "metadata": {
    "colab": {},
    "colab_type": "code",
    "id": "noRLyNyjkxLx"
   },
   "outputs": [],
   "source": [
    "def return_cent(author_id):\n",
    "  try:\n",
    "    cent = float(author_cent_prov[author_id][0][0])\n",
    "  except: \n",
    "    cent = None\n",
    "  return cent\n",
    "\n",
    "AGT[\"date_manual\"] = AGT[\"author_id\"].apply(return_cent) # lambda row: return_cent(row[\"author_id\"]), axis=1)"
   ]
  },
  {
   "cell_type": "code",
   "execution_count": 68,
   "metadata": {
    "colab": {},
    "colab_type": "code",
    "id": "ReCuqgbSmNjS"
   },
   "outputs": [],
   "source": [
    "def return_provenience(author_id):\n",
    "  try:\n",
    "    prov = author_cent_prov[author_id][1][0]\n",
    "  except: \n",
    "    prov = \"\"\n",
    "  return prov\n",
    "\n",
    "AGT[\"provenience\"] = AGT[\"author_id\"].apply(return_provenience)"
   ]
  },
  {
   "cell_type": "code",
   "execution_count": 69,
   "metadata": {
    "colab": {},
    "colab_type": "code",
    "id": "54QYBb3cmtdX"
   },
   "outputs": [],
   "source": [
    "def get_wordcount(row_string):\n",
    "  wordcount = len(row_string.split())\n",
    "  return wordcount\n",
    "AGT[\"wordcount\"] = AGT[\"string\"].apply(get_wordcount)"
   ]
  },
  {
   "cell_type": "markdown",
   "metadata": {
    "colab_type": "text",
    "id": "SwNYXDvbTRdL"
   },
   "source": [
    "# Dating Homeric Hymns"
   ]
  },
  {
   "cell_type": "code",
   "execution_count": 70,
   "metadata": {
    "colab": {},
    "colab_type": "code",
    "id": "Q087B4YZQ0RC"
   },
   "outputs": [],
   "source": [
    "### updated dates for the longest homeric hymns, based on:\n",
    "### Faulkner, Andrew, ‘Introduction. Modern Scholarship on the Homeric Hymns: Foundational Issues’, in The Homeric Hymns: Interpretative Essays, ed. by Andrew Faulkner (Oxford: Oxford University Press, 2011), pp. 1–25\n",
    "\n",
    "AGT.at[200, \"author_id\"] = \"tlg0013dyon\"\n",
    "AGT.at[200, \"date_avr\"] = -6.5\n",
    "\n",
    "AGT.at[201, \"author_id\"] = \"tlg0013deme\"\n",
    "AGT.at[201, \"date_avr\"] = -6.0\n",
    "\n",
    "AGT.at[202, \"author_id\"] = \"tlg0013apol\"\n",
    "AGT.at[202, \"date_avr\"] = -6.0 ###\n",
    "\n",
    "AGT.at[203, \"author_id\"] = \"tlg0013herm\" # \"Ultimately, a late-sixth-century date for Hermes seems most attractive, but the Hymn could also belong to the ﬁrst half of the ﬁfth century.\"\n",
    "AGT.at[203, \"date_avr\"] = -5.0 ###\n",
    "\n",
    "AGT.at[204, \"author_id\"] = \"tlg0013aphr\"\n",
    "AGT.at[204, \"date_avr\"] = -6.0 ###\n",
    "\n",
    "AGT.at[206, \"author_id\"] = \"tlg0013dyo2\"\n",
    "AGT.at[206, \"date_avr\"] = -5.0\n",
    "\n",
    "AGT.at[218, \"author_id\"] = \"tlg0013pan\"\n",
    "AGT.at[218, \"date_avr\"] = -5.0\n",
    "\n",
    "for index_num in [200, 201, 202, 203, 204, 206, 218]:\n",
    "  AGT.at[index_num, \"author\"] = \"Homeric hymn\"\n",
    "\n",
    "### drop all remaining\n",
    "AGT = AGT[AGT[\"author_id\"] != \"tlg0013\"]"
   ]
  },
  {
   "cell_type": "code",
   "execution_count": 71,
   "metadata": {
    "colab": {
     "base_uri": "https://localhost:8080/",
     "height": 949
    },
    "colab_type": "code",
    "executionInfo": {
     "elapsed": 561,
     "status": "ok",
     "timestamp": 1588777599055,
     "user": {
      "displayName": "Vojtěch Kaše",
      "photoUrl": "https://lh3.googleusercontent.com/a-/AOh14Ggz3jS9e7I3GdIEbyBKFtqr9tPdNCwyLBEJwbK8cw=s64",
      "userId": "01399835024022498543"
     },
     "user_tz": -120
    },
    "id": "G00mDIWeeFde",
    "outputId": "7e894eaf-d495-4ce8-d5a5-5f2fed271585"
   },
   "outputs": [
    {
     "data": {
      "text/html": [
       "<div>\n",
       "<style scoped>\n",
       "    .dataframe tbody tr th:only-of-type {\n",
       "        vertical-align: middle;\n",
       "    }\n",
       "\n",
       "    .dataframe tbody tr th {\n",
       "        vertical-align: top;\n",
       "    }\n",
       "\n",
       "    .dataframe thead th {\n",
       "        text-align: right;\n",
       "    }\n",
       "</style>\n",
       "<table border=\"1\" class=\"dataframe\">\n",
       "  <thead>\n",
       "    <tr style=\"text-align: right;\">\n",
       "      <th></th>\n",
       "      <th>filename</th>\n",
       "      <th>author</th>\n",
       "      <th>title</th>\n",
       "      <th>string</th>\n",
       "      <th>author_id</th>\n",
       "      <th>doc_id</th>\n",
       "      <th>raw_date</th>\n",
       "      <th>date_avr</th>\n",
       "      <th>date_probs</th>\n",
       "      <th>date_manual</th>\n",
       "      <th>provenience</th>\n",
       "      <th>wordcount</th>\n",
       "    </tr>\n",
       "  </thead>\n",
       "  <tbody>\n",
       "    <tr>\n",
       "      <th>200</th>\n",
       "      <td>tlg0013.tlg001.perseus-grc2.xml</td>\n",
       "      <td>Homeric hymn</td>\n",
       "      <td>Hymn 1 To Dionysus; Machine readable text; The...</td>\n",
       "      <td>Εἲς Διώνυσον οἳ μὲν γὰρ Δρακάνῳ σʼ, οἳ δʼ Ἰκάρ...</td>\n",
       "      <td>tlg0013dyon</td>\n",
       "      <td>tlg0013.tlg001</td>\n",
       "      <td>8-6 B.C.</td>\n",
       "      <td>-6.5</td>\n",
       "      <td>{-7.5: 0.3333, -6.5: 0.3333, -5.5: 0.3333}</td>\n",
       "      <td>-7.0</td>\n",
       "      <td>pagan</td>\n",
       "      <td>146</td>\n",
       "    </tr>\n",
       "    <tr>\n",
       "      <th>201</th>\n",
       "      <td>tlg0013.tlg002.perseus-grc2.xml</td>\n",
       "      <td>Homeric hymn</td>\n",
       "      <td>Hymn 2 To Demeter; Machine readable text; The ...</td>\n",
       "      <td>Εἲς Δημήτραν Δήμητρʼ ἠύκομον, σεμνὴν θεόν, ἄρχ...</td>\n",
       "      <td>tlg0013deme</td>\n",
       "      <td>tlg0013.tlg002</td>\n",
       "      <td>8-6 B.C.</td>\n",
       "      <td>-6.0</td>\n",
       "      <td>{-7.5: 0.3333, -6.5: 0.3333, -5.5: 0.3333}</td>\n",
       "      <td>-7.0</td>\n",
       "      <td>pagan</td>\n",
       "      <td>3375</td>\n",
       "    </tr>\n",
       "    <tr>\n",
       "      <th>202</th>\n",
       "      <td>tlg0013.tlg003.perseus-grc2.xml</td>\n",
       "      <td>Homeric hymn</td>\n",
       "      <td>Hymn 3 To Apollo; Machine readable text; The H...</td>\n",
       "      <td>Εἲς Ἀπόλλωνα [Δήλιον] μνήσομαι οὐδὲ λάθωμαι Ἀπ...</td>\n",
       "      <td>tlg0013apol</td>\n",
       "      <td>tlg0013.tlg003</td>\n",
       "      <td>8-6 B.C.</td>\n",
       "      <td>-6.0</td>\n",
       "      <td>{-7.5: 0.3333, -6.5: 0.3333, -5.5: 0.3333}</td>\n",
       "      <td>-7.0</td>\n",
       "      <td>pagan</td>\n",
       "      <td>3902</td>\n",
       "    </tr>\n",
       "    <tr>\n",
       "      <th>203</th>\n",
       "      <td>tlg0013.tlg004.perseus-grc2.xml</td>\n",
       "      <td>Homeric hymn</td>\n",
       "      <td>Hymn 4 To Hermes; Machine readable text; The H...</td>\n",
       "      <td>Εἲς Ἑρμῆν Ἑρμῆν ὕμνει, Μοῦσα, Διὸς καὶ Μαιάδος...</td>\n",
       "      <td>tlg0013herm</td>\n",
       "      <td>tlg0013.tlg004</td>\n",
       "      <td>8-6 B.C.</td>\n",
       "      <td>-5.0</td>\n",
       "      <td>{-7.5: 0.3333, -6.5: 0.3333, -5.5: 0.3333}</td>\n",
       "      <td>-7.0</td>\n",
       "      <td>pagan</td>\n",
       "      <td>4033</td>\n",
       "    </tr>\n",
       "    <tr>\n",
       "      <th>204</th>\n",
       "      <td>tlg0013.tlg005.perseus-grc2.xml</td>\n",
       "      <td>Homeric hymn</td>\n",
       "      <td>Hymn 5 To Aphrodite; Machine readable text; Th...</td>\n",
       "      <td>Εἲς Ἀφροδίτην μοῦσά μοι ἔννεπε ἔργα πολυχρύσου...</td>\n",
       "      <td>tlg0013aphr</td>\n",
       "      <td>tlg0013.tlg005</td>\n",
       "      <td>8-6 B.C.</td>\n",
       "      <td>-6.0</td>\n",
       "      <td>{-7.5: 0.3333, -6.5: 0.3333, -5.5: 0.3333}</td>\n",
       "      <td>-7.0</td>\n",
       "      <td>pagan</td>\n",
       "      <td>2049</td>\n",
       "    </tr>\n",
       "    <tr>\n",
       "      <th>206</th>\n",
       "      <td>tlg0013.tlg007.perseus-grc2.xml</td>\n",
       "      <td>Homeric hymn</td>\n",
       "      <td>Hymn 7 To Dionysus; Machine readable text; The...</td>\n",
       "      <td>Εἲς Διώνυσον ἀμφὶ Διώνυσον, Σεμέλης ἐρικυδέος ...</td>\n",
       "      <td>tlg0013dyo2</td>\n",
       "      <td>tlg0013.tlg007</td>\n",
       "      <td>8-6 B.C.</td>\n",
       "      <td>-5.0</td>\n",
       "      <td>{-7.5: 0.3333, -6.5: 0.3333, -5.5: 0.3333}</td>\n",
       "      <td>-7.0</td>\n",
       "      <td>pagan</td>\n",
       "      <td>427</td>\n",
       "    </tr>\n",
       "    <tr>\n",
       "      <th>218</th>\n",
       "      <td>tlg0013.tlg019.perseus-grc2.xml</td>\n",
       "      <td>Homeric hymn</td>\n",
       "      <td>Hymn 19 to Pan; Machine readable text; The Hom...</td>\n",
       "      <td>Εἲς Πᾶνα ἀμφί μοι Ἑρμείαο φίλον γόνον ἔννεπε, ...</td>\n",
       "      <td>tlg0013pan</td>\n",
       "      <td>tlg0013.tlg019</td>\n",
       "      <td>8-6 B.C.</td>\n",
       "      <td>-5.0</td>\n",
       "      <td>{-7.5: 0.3333, -6.5: 0.3333, -5.5: 0.3333}</td>\n",
       "      <td>-7.0</td>\n",
       "      <td>pagan</td>\n",
       "      <td>338</td>\n",
       "    </tr>\n",
       "  </tbody>\n",
       "</table>\n",
       "</div>"
      ],
      "text/plain": [
       "                            filename        author  \\\n",
       "200  tlg0013.tlg001.perseus-grc2.xml  Homeric hymn   \n",
       "201  tlg0013.tlg002.perseus-grc2.xml  Homeric hymn   \n",
       "202  tlg0013.tlg003.perseus-grc2.xml  Homeric hymn   \n",
       "203  tlg0013.tlg004.perseus-grc2.xml  Homeric hymn   \n",
       "204  tlg0013.tlg005.perseus-grc2.xml  Homeric hymn   \n",
       "206  tlg0013.tlg007.perseus-grc2.xml  Homeric hymn   \n",
       "218  tlg0013.tlg019.perseus-grc2.xml  Homeric hymn   \n",
       "\n",
       "                                                 title  \\\n",
       "200  Hymn 1 To Dionysus; Machine readable text; The...   \n",
       "201  Hymn 2 To Demeter; Machine readable text; The ...   \n",
       "202  Hymn 3 To Apollo; Machine readable text; The H...   \n",
       "203  Hymn 4 To Hermes; Machine readable text; The H...   \n",
       "204  Hymn 5 To Aphrodite; Machine readable text; Th...   \n",
       "206  Hymn 7 To Dionysus; Machine readable text; The...   \n",
       "218  Hymn 19 to Pan; Machine readable text; The Hom...   \n",
       "\n",
       "                                                string    author_id  \\\n",
       "200  Εἲς Διώνυσον οἳ μὲν γὰρ Δρακάνῳ σʼ, οἳ δʼ Ἰκάρ...  tlg0013dyon   \n",
       "201  Εἲς Δημήτραν Δήμητρʼ ἠύκομον, σεμνὴν θεόν, ἄρχ...  tlg0013deme   \n",
       "202  Εἲς Ἀπόλλωνα [Δήλιον] μνήσομαι οὐδὲ λάθωμαι Ἀπ...  tlg0013apol   \n",
       "203  Εἲς Ἑρμῆν Ἑρμῆν ὕμνει, Μοῦσα, Διὸς καὶ Μαιάδος...  tlg0013herm   \n",
       "204  Εἲς Ἀφροδίτην μοῦσά μοι ἔννεπε ἔργα πολυχρύσου...  tlg0013aphr   \n",
       "206  Εἲς Διώνυσον ἀμφὶ Διώνυσον, Σεμέλης ἐρικυδέος ...  tlg0013dyo2   \n",
       "218  Εἲς Πᾶνα ἀμφί μοι Ἑρμείαο φίλον γόνον ἔννεπε, ...   tlg0013pan   \n",
       "\n",
       "             doc_id  raw_date  date_avr  \\\n",
       "200  tlg0013.tlg001  8-6 B.C.      -6.5   \n",
       "201  tlg0013.tlg002  8-6 B.C.      -6.0   \n",
       "202  tlg0013.tlg003  8-6 B.C.      -6.0   \n",
       "203  tlg0013.tlg004  8-6 B.C.      -5.0   \n",
       "204  tlg0013.tlg005  8-6 B.C.      -6.0   \n",
       "206  tlg0013.tlg007  8-6 B.C.      -5.0   \n",
       "218  tlg0013.tlg019  8-6 B.C.      -5.0   \n",
       "\n",
       "                                     date_probs  date_manual provenience  \\\n",
       "200  {-7.5: 0.3333, -6.5: 0.3333, -5.5: 0.3333}         -7.0       pagan   \n",
       "201  {-7.5: 0.3333, -6.5: 0.3333, -5.5: 0.3333}         -7.0       pagan   \n",
       "202  {-7.5: 0.3333, -6.5: 0.3333, -5.5: 0.3333}         -7.0       pagan   \n",
       "203  {-7.5: 0.3333, -6.5: 0.3333, -5.5: 0.3333}         -7.0       pagan   \n",
       "204  {-7.5: 0.3333, -6.5: 0.3333, -5.5: 0.3333}         -7.0       pagan   \n",
       "206  {-7.5: 0.3333, -6.5: 0.3333, -5.5: 0.3333}         -7.0       pagan   \n",
       "218  {-7.5: 0.3333, -6.5: 0.3333, -5.5: 0.3333}         -7.0       pagan   \n",
       "\n",
       "     wordcount  \n",
       "200        146  \n",
       "201       3375  \n",
       "202       3902  \n",
       "203       4033  \n",
       "204       2049  \n",
       "206        427  \n",
       "218        338  "
      ]
     },
     "execution_count": 71,
     "metadata": {},
     "output_type": "execute_result"
    }
   ],
   "source": [
    "AGT[AGT[\"author_id\"].str.startswith(\"tlg0013\")]"
   ]
  },
  {
   "cell_type": "markdown",
   "metadata": {
    "colab_type": "text",
    "id": "U3I5dAPhVCOz"
   },
   "source": [
    "# New Testament - split into individual authors to be approached separately"
   ]
  },
  {
   "cell_type": "code",
   "execution_count": 72,
   "metadata": {
    "colab": {},
    "colab_type": "code",
    "id": "o5bTYnpEVPd5"
   },
   "outputs": [],
   "source": [
    "paul = [384, 385, 386, 387, 389, 391, 396]\n",
    "john = [382, 401, 402, 403]\n",
    "luke = [381, 383]\n",
    "\n",
    "for work in paul:\n",
    "  AGT.at[work, \"author_id\"] = \"tlg0031paul\"\n",
    "  AGT.at[work, \"author\"] = \"Paul of Tarsus\"\n",
    "\n",
    "for work in john:\n",
    "  AGT.at[work, \"author_id\"] = \"tlg0031john\"\n",
    "  AGT.at[work, \"author\"] = \"Johnannine literature\"\n",
    "\n",
    "for work in luke:\n",
    "  AGT.at[work, \"author_id\"] = \"tlg0031luke\"\n",
    "  AGT.at[work, \"author\"] = \"Luke (the evangelist)\""
   ]
  },
  {
   "cell_type": "code",
   "execution_count": 73,
   "metadata": {
    "colab": {
     "base_uri": "https://localhost:8080/",
     "height": 1000
    },
    "colab_type": "code",
    "executionInfo": {
     "elapsed": 440,
     "status": "ok",
     "timestamp": 1588777608053,
     "user": {
      "displayName": "Vojtěch Kaše",
      "photoUrl": "https://lh3.googleusercontent.com/a-/AOh14Ggz3jS9e7I3GdIEbyBKFtqr9tPdNCwyLBEJwbK8cw=s64",
      "userId": "01399835024022498543"
     },
     "user_tz": -120
    },
    "id": "RLxoanKo7CyB",
    "outputId": "d6803e31-1bb7-4a63-8c82-b7d68a137d58"
   },
   "outputs": [
    {
     "data": {
      "text/html": [
       "<div>\n",
       "<style scoped>\n",
       "    .dataframe tbody tr th:only-of-type {\n",
       "        vertical-align: middle;\n",
       "    }\n",
       "\n",
       "    .dataframe tbody tr th {\n",
       "        vertical-align: top;\n",
       "    }\n",
       "\n",
       "    .dataframe thead th {\n",
       "        text-align: right;\n",
       "    }\n",
       "</style>\n",
       "<table border=\"1\" class=\"dataframe\">\n",
       "  <thead>\n",
       "    <tr style=\"text-align: right;\">\n",
       "      <th></th>\n",
       "      <th>filename</th>\n",
       "      <th>author</th>\n",
       "      <th>title</th>\n",
       "      <th>string</th>\n",
       "      <th>author_id</th>\n",
       "      <th>doc_id</th>\n",
       "      <th>raw_date</th>\n",
       "      <th>date_avr</th>\n",
       "      <th>date_probs</th>\n",
       "      <th>date_manual</th>\n",
       "      <th>provenience</th>\n",
       "      <th>wordcount</th>\n",
       "    </tr>\n",
       "  </thead>\n",
       "  <tbody>\n",
       "    <tr>\n",
       "      <th>379</th>\n",
       "      <td>tlg0031.tlg001.perseus-grc2.xml</td>\n",
       "      <td>None</td>\n",
       "      <td>New Testament - Matthew; Machine readable text...</td>\n",
       "      <td>ΚΑΤΑ ΜΑΘΘΑΙΟΝ ΒΙΒΛΟΣ γενέσεως Ἰησοῦ Χριστοῦ υἱ...</td>\n",
       "      <td>tlg0031</td>\n",
       "      <td>tlg0031.tlg001</td>\n",
       "      <td>A.D. 1</td>\n",
       "      <td>0.5</td>\n",
       "      <td>{0.5: 1}</td>\n",
       "      <td>0.5</td>\n",
       "      <td>christian</td>\n",
       "      <td>18289</td>\n",
       "    </tr>\n",
       "    <tr>\n",
       "      <th>380</th>\n",
       "      <td>tlg0031.tlg002.perseus-grc2.xml</td>\n",
       "      <td>None</td>\n",
       "      <td>New Testament - Mark; Machine readable text; T...</td>\n",
       "      <td>ΚΑΤΑ ΜΑΡΚΟΝ ΑΡΧΗ τοῦ εὐαγγελίου Ἰησοῦ Χριστοῦ ...</td>\n",
       "      <td>tlg0031</td>\n",
       "      <td>tlg0031.tlg002</td>\n",
       "      <td>A.D. 1</td>\n",
       "      <td>0.5</td>\n",
       "      <td>{0.5: 1}</td>\n",
       "      <td>0.5</td>\n",
       "      <td>christian</td>\n",
       "      <td>11277</td>\n",
       "    </tr>\n",
       "    <tr>\n",
       "      <th>381</th>\n",
       "      <td>tlg0031.tlg003.perseus-grc2.xml</td>\n",
       "      <td>Luke (the evangelist)</td>\n",
       "      <td>New Testament - Luke; Machine readable text; T...</td>\n",
       "      <td>ΚΑΤΑ ΛΟΥΚΑΝ ΕΠΕΙΔΗΠΕΡ ΠΟΛΛΟΙ ἐπεχείρησαν ἀνατά...</td>\n",
       "      <td>tlg0031luke</td>\n",
       "      <td>tlg0031.tlg003</td>\n",
       "      <td>A.D. 1</td>\n",
       "      <td>0.5</td>\n",
       "      <td>{0.5: 1}</td>\n",
       "      <td>0.5</td>\n",
       "      <td>christian</td>\n",
       "      <td>19460</td>\n",
       "    </tr>\n",
       "    <tr>\n",
       "      <th>382</th>\n",
       "      <td>tlg0031.tlg004.perseus-grc2.xml</td>\n",
       "      <td>Johnannine literature</td>\n",
       "      <td>New Testament - John; Machine readable text; T...</td>\n",
       "      <td>ΚΑΤΑ ΙΩΑΝΗΝ ΕΝ ΑΡΧΗ ἦν ὁ λόγος, καὶ ὁ λόγος ἦν...</td>\n",
       "      <td>tlg0031john</td>\n",
       "      <td>tlg0031.tlg004</td>\n",
       "      <td>A.D. 1</td>\n",
       "      <td>0.5</td>\n",
       "      <td>{0.5: 1}</td>\n",
       "      <td>0.5</td>\n",
       "      <td>christian</td>\n",
       "      <td>15592</td>\n",
       "    </tr>\n",
       "    <tr>\n",
       "      <th>383</th>\n",
       "      <td>tlg0031.tlg005.perseus-grc2.xml</td>\n",
       "      <td>Luke (the evangelist)</td>\n",
       "      <td>New Testament - Acts; Machine readable text; T...</td>\n",
       "      <td>πράξεις ἀποστόλων τὸν μὲν πρῶτον λόγον ἐποιησά...</td>\n",
       "      <td>tlg0031luke</td>\n",
       "      <td>tlg0031.tlg005</td>\n",
       "      <td>A.D. 1</td>\n",
       "      <td>0.5</td>\n",
       "      <td>{0.5: 1}</td>\n",
       "      <td>0.5</td>\n",
       "      <td>christian</td>\n",
       "      <td>18408</td>\n",
       "    </tr>\n",
       "    <tr>\n",
       "      <th>384</th>\n",
       "      <td>tlg0031.tlg006.perseus-grc2.xml</td>\n",
       "      <td>Paul of Tarsus</td>\n",
       "      <td>New Testament - Romans; Machine readable text;...</td>\n",
       "      <td>ΠΡΟΣ ΡΩΜΑΙΟΥΣ ΠΑΥΛΟΣ δοῦλος Ἰησοῦ Χριστοῦ, κλη...</td>\n",
       "      <td>tlg0031paul</td>\n",
       "      <td>tlg0031.tlg006</td>\n",
       "      <td>A.D. 1</td>\n",
       "      <td>0.5</td>\n",
       "      <td>{0.5: 1}</td>\n",
       "      <td>0.5</td>\n",
       "      <td>christian</td>\n",
       "      <td>7109</td>\n",
       "    </tr>\n",
       "    <tr>\n",
       "      <th>385</th>\n",
       "      <td>tlg0031.tlg007.perseus-grc2.xml</td>\n",
       "      <td>Paul of Tarsus</td>\n",
       "      <td>New Testament - 1 Corinthians; Machine readabl...</td>\n",
       "      <td>ΠΡΟΣ ΚΟΡΙΝΘΙΟΥΣ Α ΠΑΥΛΟΣ κλητὸς ἀπόστολος Ἰησο...</td>\n",
       "      <td>tlg0031paul</td>\n",
       "      <td>tlg0031.tlg007</td>\n",
       "      <td>A.D. 1</td>\n",
       "      <td>0.5</td>\n",
       "      <td>{0.5: 1}</td>\n",
       "      <td>0.5</td>\n",
       "      <td>christian</td>\n",
       "      <td>6817</td>\n",
       "    </tr>\n",
       "    <tr>\n",
       "      <th>386</th>\n",
       "      <td>tlg0031.tlg008.perseus-grc2.xml</td>\n",
       "      <td>Paul of Tarsus</td>\n",
       "      <td>New Testament - 2 Corinthians; Machine readabl...</td>\n",
       "      <td>ΠΡΟΣ ΚΟΡΙΝΘΙΟΥΣ Β ΠΑΥΛΟΣ ἀπόστολος Χριστοῦ Ἰησ...</td>\n",
       "      <td>tlg0031paul</td>\n",
       "      <td>tlg0031.tlg008</td>\n",
       "      <td>A.D. 1</td>\n",
       "      <td>0.5</td>\n",
       "      <td>{0.5: 1}</td>\n",
       "      <td>0.5</td>\n",
       "      <td>christian</td>\n",
       "      <td>4473</td>\n",
       "    </tr>\n",
       "    <tr>\n",
       "      <th>387</th>\n",
       "      <td>tlg0031.tlg009.perseus-grc2.xml</td>\n",
       "      <td>Paul of Tarsus</td>\n",
       "      <td>New Testament - Galatians; Machine readable te...</td>\n",
       "      <td>ΠΡΟΣ ΓΑΛΑΤΑΣ ΠΑΥΛΟΣ ἀπόστολος, οὐκ ἀπʼ ἀνθρώπω...</td>\n",
       "      <td>tlg0031paul</td>\n",
       "      <td>tlg0031.tlg009</td>\n",
       "      <td>A.D. 1</td>\n",
       "      <td>0.5</td>\n",
       "      <td>{0.5: 1}</td>\n",
       "      <td>0.5</td>\n",
       "      <td>christian</td>\n",
       "      <td>2237</td>\n",
       "    </tr>\n",
       "    <tr>\n",
       "      <th>388</th>\n",
       "      <td>tlg0031.tlg010.perseus-grc2.xml</td>\n",
       "      <td>None</td>\n",
       "      <td>New Testament - Ephesians; Machine readable te...</td>\n",
       "      <td>ΠΡΟΣ ΕΦΕΣΙΟΥΣ ΠΑΥΛΟΣ ἀπόστολος Χριστοῦ Ἰησοῦ δ...</td>\n",
       "      <td>tlg0031</td>\n",
       "      <td>tlg0031.tlg010</td>\n",
       "      <td>A.D. 1</td>\n",
       "      <td>0.5</td>\n",
       "      <td>{0.5: 1}</td>\n",
       "      <td>0.5</td>\n",
       "      <td>christian</td>\n",
       "      <td>2423</td>\n",
       "    </tr>\n",
       "    <tr>\n",
       "      <th>389</th>\n",
       "      <td>tlg0031.tlg011.perseus-grc2.xml</td>\n",
       "      <td>Paul of Tarsus</td>\n",
       "      <td>New Testament - Philippians; Machine readable ...</td>\n",
       "      <td>ΠΡΟΣ ΦΙΛΙΠΠΗΣΙΟΥΣ ΠΑΥΛΟΣ ΚΑΙ ΤΙΜΟΘΕΟΣ δοῦλοι Χ...</td>\n",
       "      <td>tlg0031paul</td>\n",
       "      <td>tlg0031.tlg011</td>\n",
       "      <td>A.D. 1</td>\n",
       "      <td>0.5</td>\n",
       "      <td>{0.5: 1}</td>\n",
       "      <td>0.5</td>\n",
       "      <td>christian</td>\n",
       "      <td>1633</td>\n",
       "    </tr>\n",
       "    <tr>\n",
       "      <th>390</th>\n",
       "      <td>tlg0031.tlg012.perseus-grc2.xml</td>\n",
       "      <td>None</td>\n",
       "      <td>New Testament - Colossians; Machine readable t...</td>\n",
       "      <td>ΠΡΟΣ ΚΟΛΑΣΣΑΕΙΣ ΠΑΥΛΟΣ ἀπόστολος Χριστοῦ Ἰησοῦ...</td>\n",
       "      <td>tlg0031</td>\n",
       "      <td>tlg0031.tlg012</td>\n",
       "      <td>A.D. 1</td>\n",
       "      <td>0.5</td>\n",
       "      <td>{0.5: 1}</td>\n",
       "      <td>0.5</td>\n",
       "      <td>christian</td>\n",
       "      <td>1582</td>\n",
       "    </tr>\n",
       "    <tr>\n",
       "      <th>391</th>\n",
       "      <td>tlg0031.tlg013.perseus-grc2.xml</td>\n",
       "      <td>Paul of Tarsus</td>\n",
       "      <td>New Testament - 1 Thessalonians; Machine reada...</td>\n",
       "      <td>ΠΡΟΣ ΘΕΣΣΑΛΟΝΙΚΕΙΣ Α ΠΑΥΛΟΣ ΚΑΙ ΣΙΛΟΥΑΝΟΣ ΚΑΙ ...</td>\n",
       "      <td>tlg0031paul</td>\n",
       "      <td>tlg0031.tlg013</td>\n",
       "      <td>A.D. 1</td>\n",
       "      <td>0.5</td>\n",
       "      <td>{0.5: 1}</td>\n",
       "      <td>0.5</td>\n",
       "      <td>christian</td>\n",
       "      <td>1478</td>\n",
       "    </tr>\n",
       "    <tr>\n",
       "      <th>392</th>\n",
       "      <td>tlg0031.tlg014.perseus-grc2.xml</td>\n",
       "      <td>None</td>\n",
       "      <td>New Testament - 2 Thessalonians; Machine reada...</td>\n",
       "      <td>ΠΡΟΣ ΘΕΣΣΑΛΟΝΙΚΕΙΣ Β ΠΑΥΛΟΣ ΚΑΙ ΣΙΛΟΥΑΝΟΣ ΚΑΙ ...</td>\n",
       "      <td>tlg0031</td>\n",
       "      <td>tlg0031.tlg014</td>\n",
       "      <td>A.D. 1</td>\n",
       "      <td>0.5</td>\n",
       "      <td>{0.5: 1}</td>\n",
       "      <td>0.5</td>\n",
       "      <td>christian</td>\n",
       "      <td>825</td>\n",
       "    </tr>\n",
       "    <tr>\n",
       "      <th>393</th>\n",
       "      <td>tlg0031.tlg015.perseus-grc2.xml</td>\n",
       "      <td>None</td>\n",
       "      <td>New Testament - 1 Timothy; Machine readable te...</td>\n",
       "      <td>ΠΡΟΣ ΤΙΜΟΘΕΟΝ Α ΠΑΥΛΟΣ ἀπόστολος Χριστοῦ Ἰησοῦ...</td>\n",
       "      <td>tlg0031</td>\n",
       "      <td>tlg0031.tlg015</td>\n",
       "      <td>A.D. 1</td>\n",
       "      <td>0.5</td>\n",
       "      <td>{0.5: 1}</td>\n",
       "      <td>0.5</td>\n",
       "      <td>christian</td>\n",
       "      <td>1600</td>\n",
       "    </tr>\n",
       "    <tr>\n",
       "      <th>394</th>\n",
       "      <td>tlg0031.tlg016.perseus-grc2.xml</td>\n",
       "      <td>None</td>\n",
       "      <td>New Testament - 2 Timothy; Machine readable te...</td>\n",
       "      <td>ΠΡΟΣ ΤΙΜΟΘΕΟΝ Β ΠΑΥΛΟΣ ἀπόστολος Χριστοῦ Ἰησοῦ...</td>\n",
       "      <td>tlg0031</td>\n",
       "      <td>tlg0031.tlg016</td>\n",
       "      <td>A.D. 1</td>\n",
       "      <td>0.5</td>\n",
       "      <td>{0.5: 1}</td>\n",
       "      <td>0.5</td>\n",
       "      <td>christian</td>\n",
       "      <td>1248</td>\n",
       "    </tr>\n",
       "    <tr>\n",
       "      <th>395</th>\n",
       "      <td>tlg0031.tlg017.perseus-grc2.xml</td>\n",
       "      <td>None</td>\n",
       "      <td>New Testament - Titus; Machine readable text; ...</td>\n",
       "      <td>ΠΡΟΣ ΤΙΤΟΝ ΠΑΥΛΟΣ δοῦλος θεοῦ, ἀπόστολος δὲ Ἰη...</td>\n",
       "      <td>tlg0031</td>\n",
       "      <td>tlg0031.tlg017</td>\n",
       "      <td>A.D. 1</td>\n",
       "      <td>0.5</td>\n",
       "      <td>{0.5: 1}</td>\n",
       "      <td>0.5</td>\n",
       "      <td>christian</td>\n",
       "      <td>661</td>\n",
       "    </tr>\n",
       "    <tr>\n",
       "      <th>396</th>\n",
       "      <td>tlg0031.tlg018.perseus-grc2.xml</td>\n",
       "      <td>Paul of Tarsus</td>\n",
       "      <td>New Testament - Philemon; Machine readable tex...</td>\n",
       "      <td>ΠΡΟΣ ΦΙΛΗΜΟΝΑ ΠΑΥΛΟΣ δέσμιος Χριστοῦ Ἰησοῦ καὶ...</td>\n",
       "      <td>tlg0031paul</td>\n",
       "      <td>tlg0031.tlg018</td>\n",
       "      <td>A.D. 1</td>\n",
       "      <td>0.5</td>\n",
       "      <td>{0.5: 1}</td>\n",
       "      <td>0.5</td>\n",
       "      <td>christian</td>\n",
       "      <td>336</td>\n",
       "    </tr>\n",
       "    <tr>\n",
       "      <th>397</th>\n",
       "      <td>tlg0031.tlg019.perseus-grc2.xml</td>\n",
       "      <td>None</td>\n",
       "      <td>New Testament - Hebrews; Machine readable text...</td>\n",
       "      <td>ΠΡΟΣ ΕΒΡΑΙΟΥΣ ΠΟΛΥΜΕΡΩΣ ΚΑΙ ΠΟΛΥΤΡΟΠΩΣ πάλαι ὁ...</td>\n",
       "      <td>tlg0031</td>\n",
       "      <td>tlg0031.tlg019</td>\n",
       "      <td>A.D. 1</td>\n",
       "      <td>0.5</td>\n",
       "      <td>{0.5: 1}</td>\n",
       "      <td>0.5</td>\n",
       "      <td>christian</td>\n",
       "      <td>4974</td>\n",
       "    </tr>\n",
       "    <tr>\n",
       "      <th>398</th>\n",
       "      <td>tlg0031.tlg020.perseus-grc2.xml</td>\n",
       "      <td>None</td>\n",
       "      <td>New Testament - James; Machine readable text; ...</td>\n",
       "      <td>ΙΑΚΩΒΟΥ ΙΑΚΩΒΟΣ θεοῦ καὶ κυρίου Ἰησοῦ Χριστοῦ ...</td>\n",
       "      <td>tlg0031</td>\n",
       "      <td>tlg0031.tlg020</td>\n",
       "      <td>A.D. 1</td>\n",
       "      <td>0.5</td>\n",
       "      <td>{0.5: 1}</td>\n",
       "      <td>0.5</td>\n",
       "      <td>christian</td>\n",
       "      <td>1735</td>\n",
       "    </tr>\n",
       "    <tr>\n",
       "      <th>399</th>\n",
       "      <td>tlg0031.tlg021.perseus-grc2.xml</td>\n",
       "      <td>None</td>\n",
       "      <td>New Testament - 1 Peter; Machine readable text...</td>\n",
       "      <td>ΠΕΤΡΟΥ Α ΠΕΤΡΟΣ ἀπόστολος Ἰησοῦ Χριστοῦ ἐκλεκτ...</td>\n",
       "      <td>tlg0031</td>\n",
       "      <td>tlg0031.tlg021</td>\n",
       "      <td>A.D. 1</td>\n",
       "      <td>0.5</td>\n",
       "      <td>{0.5: 1}</td>\n",
       "      <td>0.5</td>\n",
       "      <td>christian</td>\n",
       "      <td>1671</td>\n",
       "    </tr>\n",
       "    <tr>\n",
       "      <th>400</th>\n",
       "      <td>tlg0031.tlg022.perseus-grc2.xml</td>\n",
       "      <td>None</td>\n",
       "      <td>New Testament - 2 Peter; Machine readable text...</td>\n",
       "      <td>ΠΕΤΡΟΥ Β ΣΙΜΩΝ ΠΕΤΡΟΣ δοῦλος καὶ ἀπόστολος Ἰησ...</td>\n",
       "      <td>tlg0031</td>\n",
       "      <td>tlg0031.tlg022</td>\n",
       "      <td>A.D. 1</td>\n",
       "      <td>0.5</td>\n",
       "      <td>{0.5: 1}</td>\n",
       "      <td>0.5</td>\n",
       "      <td>christian</td>\n",
       "      <td>1097</td>\n",
       "    </tr>\n",
       "    <tr>\n",
       "      <th>401</th>\n",
       "      <td>tlg0031.tlg023.perseus-grc2.xml</td>\n",
       "      <td>Johnannine literature</td>\n",
       "      <td>New Testament - 1 John; Machine readable text;...</td>\n",
       "      <td>ΙΩΑΝΟΥ Α Ο ΗΝ ΑΠʼ ΑΡΧΗΣ, ὃ ἀκηκόαμεν, ὃ ἑωράκα...</td>\n",
       "      <td>tlg0031john</td>\n",
       "      <td>tlg0031.tlg023</td>\n",
       "      <td>A.D. 1</td>\n",
       "      <td>0.5</td>\n",
       "      <td>{0.5: 1}</td>\n",
       "      <td>0.5</td>\n",
       "      <td>christian</td>\n",
       "      <td>2137</td>\n",
       "    </tr>\n",
       "    <tr>\n",
       "      <th>402</th>\n",
       "      <td>tlg0031.tlg024.perseus-grc2.xml</td>\n",
       "      <td>Johnannine literature</td>\n",
       "      <td>New Testament - 2 John; Machine readable text;...</td>\n",
       "      <td>ΙΩΑΝΟΥ Β Ο ΠΡΕΣΒΥΤΕΡΟΣ ἐκλεκτῇ κυρίᾳ καὶ τοῖς ...</td>\n",
       "      <td>tlg0031john</td>\n",
       "      <td>tlg0031.tlg024</td>\n",
       "      <td>A.D. 1</td>\n",
       "      <td>0.5</td>\n",
       "      <td>{0.5: 1}</td>\n",
       "      <td>0.5</td>\n",
       "      <td>christian</td>\n",
       "      <td>247</td>\n",
       "    </tr>\n",
       "    <tr>\n",
       "      <th>403</th>\n",
       "      <td>tlg0031.tlg025.perseus-grc2.xml</td>\n",
       "      <td>Johnannine literature</td>\n",
       "      <td>New Testament - 3 John; Machine readable text;...</td>\n",
       "      <td>ΙΩΑΝΟΥ Γ Ο ΠΡΕΣΒΥΤΕΡΟΣ Γαίῳ τῷ ἀγαπητῷ, ὃν ἐγὼ...</td>\n",
       "      <td>tlg0031john</td>\n",
       "      <td>tlg0031.tlg025</td>\n",
       "      <td>A.D. 1</td>\n",
       "      <td>0.5</td>\n",
       "      <td>{0.5: 1}</td>\n",
       "      <td>0.5</td>\n",
       "      <td>christian</td>\n",
       "      <td>221</td>\n",
       "    </tr>\n",
       "    <tr>\n",
       "      <th>404</th>\n",
       "      <td>tlg0031.tlg026.perseus-grc2.xml</td>\n",
       "      <td>None</td>\n",
       "      <td>New Testament - Jude; Machine readable text; T...</td>\n",
       "      <td>ΙΟΥΔΑ ΙΟΥΔΑΣ Ἰησοῦ Χριστοῦ δοῦλος, ἀδελφὸς δὲ ...</td>\n",
       "      <td>tlg0031</td>\n",
       "      <td>tlg0031.tlg026</td>\n",
       "      <td>A.D. 1</td>\n",
       "      <td>0.5</td>\n",
       "      <td>{0.5: 1}</td>\n",
       "      <td>0.5</td>\n",
       "      <td>christian</td>\n",
       "      <td>457</td>\n",
       "    </tr>\n",
       "    <tr>\n",
       "      <th>405</th>\n",
       "      <td>tlg0031.tlg027.perseus-grc2.xml</td>\n",
       "      <td>None</td>\n",
       "      <td>New Testament - Revelation; Machine readable t...</td>\n",
       "      <td>ΑΠΟΚΑΛΥΨΙΣ ΙΩΑΝΟΥ ΑΠΟΚΑΛΥΨΙΣ ΙΗΣΟΥ ΧΡΙΣΤΟΥ, ἥν...</td>\n",
       "      <td>tlg0031</td>\n",
       "      <td>tlg0031.tlg027</td>\n",
       "      <td>A.D. 1</td>\n",
       "      <td>0.5</td>\n",
       "      <td>{0.5: 1}</td>\n",
       "      <td>0.5</td>\n",
       "      <td>christian</td>\n",
       "      <td>9859</td>\n",
       "    </tr>\n",
       "  </tbody>\n",
       "</table>\n",
       "</div>"
      ],
      "text/plain": [
       "                            filename                 author  \\\n",
       "379  tlg0031.tlg001.perseus-grc2.xml                   None   \n",
       "380  tlg0031.tlg002.perseus-grc2.xml                   None   \n",
       "381  tlg0031.tlg003.perseus-grc2.xml  Luke (the evangelist)   \n",
       "382  tlg0031.tlg004.perseus-grc2.xml  Johnannine literature   \n",
       "383  tlg0031.tlg005.perseus-grc2.xml  Luke (the evangelist)   \n",
       "384  tlg0031.tlg006.perseus-grc2.xml         Paul of Tarsus   \n",
       "385  tlg0031.tlg007.perseus-grc2.xml         Paul of Tarsus   \n",
       "386  tlg0031.tlg008.perseus-grc2.xml         Paul of Tarsus   \n",
       "387  tlg0031.tlg009.perseus-grc2.xml         Paul of Tarsus   \n",
       "388  tlg0031.tlg010.perseus-grc2.xml                   None   \n",
       "389  tlg0031.tlg011.perseus-grc2.xml         Paul of Tarsus   \n",
       "390  tlg0031.tlg012.perseus-grc2.xml                   None   \n",
       "391  tlg0031.tlg013.perseus-grc2.xml         Paul of Tarsus   \n",
       "392  tlg0031.tlg014.perseus-grc2.xml                   None   \n",
       "393  tlg0031.tlg015.perseus-grc2.xml                   None   \n",
       "394  tlg0031.tlg016.perseus-grc2.xml                   None   \n",
       "395  tlg0031.tlg017.perseus-grc2.xml                   None   \n",
       "396  tlg0031.tlg018.perseus-grc2.xml         Paul of Tarsus   \n",
       "397  tlg0031.tlg019.perseus-grc2.xml                   None   \n",
       "398  tlg0031.tlg020.perseus-grc2.xml                   None   \n",
       "399  tlg0031.tlg021.perseus-grc2.xml                   None   \n",
       "400  tlg0031.tlg022.perseus-grc2.xml                   None   \n",
       "401  tlg0031.tlg023.perseus-grc2.xml  Johnannine literature   \n",
       "402  tlg0031.tlg024.perseus-grc2.xml  Johnannine literature   \n",
       "403  tlg0031.tlg025.perseus-grc2.xml  Johnannine literature   \n",
       "404  tlg0031.tlg026.perseus-grc2.xml                   None   \n",
       "405  tlg0031.tlg027.perseus-grc2.xml                   None   \n",
       "\n",
       "                                                 title  \\\n",
       "379  New Testament - Matthew; Machine readable text...   \n",
       "380  New Testament - Mark; Machine readable text; T...   \n",
       "381  New Testament - Luke; Machine readable text; T...   \n",
       "382  New Testament - John; Machine readable text; T...   \n",
       "383  New Testament - Acts; Machine readable text; T...   \n",
       "384  New Testament - Romans; Machine readable text;...   \n",
       "385  New Testament - 1 Corinthians; Machine readabl...   \n",
       "386  New Testament - 2 Corinthians; Machine readabl...   \n",
       "387  New Testament - Galatians; Machine readable te...   \n",
       "388  New Testament - Ephesians; Machine readable te...   \n",
       "389  New Testament - Philippians; Machine readable ...   \n",
       "390  New Testament - Colossians; Machine readable t...   \n",
       "391  New Testament - 1 Thessalonians; Machine reada...   \n",
       "392  New Testament - 2 Thessalonians; Machine reada...   \n",
       "393  New Testament - 1 Timothy; Machine readable te...   \n",
       "394  New Testament - 2 Timothy; Machine readable te...   \n",
       "395  New Testament - Titus; Machine readable text; ...   \n",
       "396  New Testament - Philemon; Machine readable tex...   \n",
       "397  New Testament - Hebrews; Machine readable text...   \n",
       "398  New Testament - James; Machine readable text; ...   \n",
       "399  New Testament - 1 Peter; Machine readable text...   \n",
       "400  New Testament - 2 Peter; Machine readable text...   \n",
       "401  New Testament - 1 John; Machine readable text;...   \n",
       "402  New Testament - 2 John; Machine readable text;...   \n",
       "403  New Testament - 3 John; Machine readable text;...   \n",
       "404  New Testament - Jude; Machine readable text; T...   \n",
       "405  New Testament - Revelation; Machine readable t...   \n",
       "\n",
       "                                                string    author_id  \\\n",
       "379  ΚΑΤΑ ΜΑΘΘΑΙΟΝ ΒΙΒΛΟΣ γενέσεως Ἰησοῦ Χριστοῦ υἱ...      tlg0031   \n",
       "380  ΚΑΤΑ ΜΑΡΚΟΝ ΑΡΧΗ τοῦ εὐαγγελίου Ἰησοῦ Χριστοῦ ...      tlg0031   \n",
       "381  ΚΑΤΑ ΛΟΥΚΑΝ ΕΠΕΙΔΗΠΕΡ ΠΟΛΛΟΙ ἐπεχείρησαν ἀνατά...  tlg0031luke   \n",
       "382  ΚΑΤΑ ΙΩΑΝΗΝ ΕΝ ΑΡΧΗ ἦν ὁ λόγος, καὶ ὁ λόγος ἦν...  tlg0031john   \n",
       "383  πράξεις ἀποστόλων τὸν μὲν πρῶτον λόγον ἐποιησά...  tlg0031luke   \n",
       "384  ΠΡΟΣ ΡΩΜΑΙΟΥΣ ΠΑΥΛΟΣ δοῦλος Ἰησοῦ Χριστοῦ, κλη...  tlg0031paul   \n",
       "385  ΠΡΟΣ ΚΟΡΙΝΘΙΟΥΣ Α ΠΑΥΛΟΣ κλητὸς ἀπόστολος Ἰησο...  tlg0031paul   \n",
       "386  ΠΡΟΣ ΚΟΡΙΝΘΙΟΥΣ Β ΠΑΥΛΟΣ ἀπόστολος Χριστοῦ Ἰησ...  tlg0031paul   \n",
       "387  ΠΡΟΣ ΓΑΛΑΤΑΣ ΠΑΥΛΟΣ ἀπόστολος, οὐκ ἀπʼ ἀνθρώπω...  tlg0031paul   \n",
       "388  ΠΡΟΣ ΕΦΕΣΙΟΥΣ ΠΑΥΛΟΣ ἀπόστολος Χριστοῦ Ἰησοῦ δ...      tlg0031   \n",
       "389  ΠΡΟΣ ΦΙΛΙΠΠΗΣΙΟΥΣ ΠΑΥΛΟΣ ΚΑΙ ΤΙΜΟΘΕΟΣ δοῦλοι Χ...  tlg0031paul   \n",
       "390  ΠΡΟΣ ΚΟΛΑΣΣΑΕΙΣ ΠΑΥΛΟΣ ἀπόστολος Χριστοῦ Ἰησοῦ...      tlg0031   \n",
       "391  ΠΡΟΣ ΘΕΣΣΑΛΟΝΙΚΕΙΣ Α ΠΑΥΛΟΣ ΚΑΙ ΣΙΛΟΥΑΝΟΣ ΚΑΙ ...  tlg0031paul   \n",
       "392  ΠΡΟΣ ΘΕΣΣΑΛΟΝΙΚΕΙΣ Β ΠΑΥΛΟΣ ΚΑΙ ΣΙΛΟΥΑΝΟΣ ΚΑΙ ...      tlg0031   \n",
       "393  ΠΡΟΣ ΤΙΜΟΘΕΟΝ Α ΠΑΥΛΟΣ ἀπόστολος Χριστοῦ Ἰησοῦ...      tlg0031   \n",
       "394  ΠΡΟΣ ΤΙΜΟΘΕΟΝ Β ΠΑΥΛΟΣ ἀπόστολος Χριστοῦ Ἰησοῦ...      tlg0031   \n",
       "395  ΠΡΟΣ ΤΙΤΟΝ ΠΑΥΛΟΣ δοῦλος θεοῦ, ἀπόστολος δὲ Ἰη...      tlg0031   \n",
       "396  ΠΡΟΣ ΦΙΛΗΜΟΝΑ ΠΑΥΛΟΣ δέσμιος Χριστοῦ Ἰησοῦ καὶ...  tlg0031paul   \n",
       "397  ΠΡΟΣ ΕΒΡΑΙΟΥΣ ΠΟΛΥΜΕΡΩΣ ΚΑΙ ΠΟΛΥΤΡΟΠΩΣ πάλαι ὁ...      tlg0031   \n",
       "398  ΙΑΚΩΒΟΥ ΙΑΚΩΒΟΣ θεοῦ καὶ κυρίου Ἰησοῦ Χριστοῦ ...      tlg0031   \n",
       "399  ΠΕΤΡΟΥ Α ΠΕΤΡΟΣ ἀπόστολος Ἰησοῦ Χριστοῦ ἐκλεκτ...      tlg0031   \n",
       "400  ΠΕΤΡΟΥ Β ΣΙΜΩΝ ΠΕΤΡΟΣ δοῦλος καὶ ἀπόστολος Ἰησ...      tlg0031   \n",
       "401  ΙΩΑΝΟΥ Α Ο ΗΝ ΑΠʼ ΑΡΧΗΣ, ὃ ἀκηκόαμεν, ὃ ἑωράκα...  tlg0031john   \n",
       "402  ΙΩΑΝΟΥ Β Ο ΠΡΕΣΒΥΤΕΡΟΣ ἐκλεκτῇ κυρίᾳ καὶ τοῖς ...  tlg0031john   \n",
       "403  ΙΩΑΝΟΥ Γ Ο ΠΡΕΣΒΥΤΕΡΟΣ Γαίῳ τῷ ἀγαπητῷ, ὃν ἐγὼ...  tlg0031john   \n",
       "404  ΙΟΥΔΑ ΙΟΥΔΑΣ Ἰησοῦ Χριστοῦ δοῦλος, ἀδελφὸς δὲ ...      tlg0031   \n",
       "405  ΑΠΟΚΑΛΥΨΙΣ ΙΩΑΝΟΥ ΑΠΟΚΑΛΥΨΙΣ ΙΗΣΟΥ ΧΡΙΣΤΟΥ, ἥν...      tlg0031   \n",
       "\n",
       "             doc_id raw_date  date_avr date_probs  date_manual provenience  \\\n",
       "379  tlg0031.tlg001   A.D. 1       0.5   {0.5: 1}          0.5   christian   \n",
       "380  tlg0031.tlg002   A.D. 1       0.5   {0.5: 1}          0.5   christian   \n",
       "381  tlg0031.tlg003   A.D. 1       0.5   {0.5: 1}          0.5   christian   \n",
       "382  tlg0031.tlg004   A.D. 1       0.5   {0.5: 1}          0.5   christian   \n",
       "383  tlg0031.tlg005   A.D. 1       0.5   {0.5: 1}          0.5   christian   \n",
       "384  tlg0031.tlg006   A.D. 1       0.5   {0.5: 1}          0.5   christian   \n",
       "385  tlg0031.tlg007   A.D. 1       0.5   {0.5: 1}          0.5   christian   \n",
       "386  tlg0031.tlg008   A.D. 1       0.5   {0.5: 1}          0.5   christian   \n",
       "387  tlg0031.tlg009   A.D. 1       0.5   {0.5: 1}          0.5   christian   \n",
       "388  tlg0031.tlg010   A.D. 1       0.5   {0.5: 1}          0.5   christian   \n",
       "389  tlg0031.tlg011   A.D. 1       0.5   {0.5: 1}          0.5   christian   \n",
       "390  tlg0031.tlg012   A.D. 1       0.5   {0.5: 1}          0.5   christian   \n",
       "391  tlg0031.tlg013   A.D. 1       0.5   {0.5: 1}          0.5   christian   \n",
       "392  tlg0031.tlg014   A.D. 1       0.5   {0.5: 1}          0.5   christian   \n",
       "393  tlg0031.tlg015   A.D. 1       0.5   {0.5: 1}          0.5   christian   \n",
       "394  tlg0031.tlg016   A.D. 1       0.5   {0.5: 1}          0.5   christian   \n",
       "395  tlg0031.tlg017   A.D. 1       0.5   {0.5: 1}          0.5   christian   \n",
       "396  tlg0031.tlg018   A.D. 1       0.5   {0.5: 1}          0.5   christian   \n",
       "397  tlg0031.tlg019   A.D. 1       0.5   {0.5: 1}          0.5   christian   \n",
       "398  tlg0031.tlg020   A.D. 1       0.5   {0.5: 1}          0.5   christian   \n",
       "399  tlg0031.tlg021   A.D. 1       0.5   {0.5: 1}          0.5   christian   \n",
       "400  tlg0031.tlg022   A.D. 1       0.5   {0.5: 1}          0.5   christian   \n",
       "401  tlg0031.tlg023   A.D. 1       0.5   {0.5: 1}          0.5   christian   \n",
       "402  tlg0031.tlg024   A.D. 1       0.5   {0.5: 1}          0.5   christian   \n",
       "403  tlg0031.tlg025   A.D. 1       0.5   {0.5: 1}          0.5   christian   \n",
       "404  tlg0031.tlg026   A.D. 1       0.5   {0.5: 1}          0.5   christian   \n",
       "405  tlg0031.tlg027   A.D. 1       0.5   {0.5: 1}          0.5   christian   \n",
       "\n",
       "     wordcount  \n",
       "379      18289  \n",
       "380      11277  \n",
       "381      19460  \n",
       "382      15592  \n",
       "383      18408  \n",
       "384       7109  \n",
       "385       6817  \n",
       "386       4473  \n",
       "387       2237  \n",
       "388       2423  \n",
       "389       1633  \n",
       "390       1582  \n",
       "391       1478  \n",
       "392        825  \n",
       "393       1600  \n",
       "394       1248  \n",
       "395        661  \n",
       "396        336  \n",
       "397       4974  \n",
       "398       1735  \n",
       "399       1671  \n",
       "400       1097  \n",
       "401       2137  \n",
       "402        247  \n",
       "403        221  \n",
       "404        457  \n",
       "405       9859  "
      ]
     },
     "execution_count": 73,
     "metadata": {},
     "output_type": "execute_result"
    }
   ],
   "source": [
    "AGT[AGT[\"author_id\"].str.startswith(\"tlg0031\")]"
   ]
  },
  {
   "cell_type": "code",
   "execution_count": 74,
   "metadata": {
    "colab": {},
    "colab_type": "code",
    "id": "Dl6xGQjn5xzN"
   },
   "outputs": [],
   "source": [
    "import string\n",
    "for letter, index in zip(list(string.ascii_lowercase)[:14], AGT[AGT[\"author_id\"]==\"tlg0031\"].index.tolist()):\n",
    "    AGT.at[index, \"author_id\"] = \"tlg0031\" + letter"
   ]
  },
  {
   "cell_type": "code",
   "execution_count": 91,
   "metadata": {},
   "outputs": [
    {
     "name": "stdout",
     "output_type": "stream",
     "text": [
      "Your <class 'pandas.core.frame.DataFrame'> object has been succefully written as \"https://sciencedata.dk/files/SDAM_root/SDAM_data/AGT/AGT_20201020.json\"\n"
     ]
    }
   ],
   "source": [
    "# export the data for further usage...\n",
    "sddk.write_file(\"SDAM_data/AGT/AGT_dated_20201020.json\", AGT, conf)"
   ]
  }
 ],
 "metadata": {
  "colab": {
   "authorship_tag": "ABX9TyM+taOvEihjuZ2k0d8Zjz/M",
   "collapsed_sections": [],
   "name": "2_METADATA&LEMMATIZATION&OVERVIEW.ipynb",
   "provenance": [],
   "toc_visible": true
  },
  "kernelspec": {
   "display_name": "Python 3",
   "language": "python",
   "name": "python3"
  },
  "language_info": {
   "codemirror_mode": {
    "name": "ipython",
    "version": 3
   },
   "file_extension": ".py",
   "mimetype": "text/x-python",
   "name": "python",
   "nbconvert_exporter": "python",
   "pygments_lexer": "ipython3",
   "version": "3.6.9"
  }
 },
 "nbformat": 4,
 "nbformat_minor": 1
}
