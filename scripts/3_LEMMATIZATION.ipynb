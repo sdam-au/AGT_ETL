{
 "cells": [
  {
   "cell_type": "markdown",
   "metadata": {
    "colab_type": "text",
    "id": "EbixMMZchOgn"
   },
   "source": [
    "# Requirements"
   ]
  },
  {
   "cell_type": "code",
   "execution_count": 1,
   "metadata": {
    "colab": {
     "base_uri": "https://localhost:8080/",
     "height": 272
    },
    "colab_type": "code",
    "executionInfo": {
     "elapsed": 9878,
     "status": "ok",
     "timestamp": 1588779837403,
     "user": {
      "displayName": "Vojtěch Kaše",
      "photoUrl": "https://lh3.googleusercontent.com/a-/AOh14Ggz3jS9e7I3GdIEbyBKFtqr9tPdNCwyLBEJwbK8cw=s64",
      "userId": "01399835024022498543"
     },
     "user_tz": -120
    },
    "id": "QWRXmeoNhLsD",
    "outputId": "ae5620d8-2479-4587-c6ed-cdf64706b2a3"
   },
   "outputs": [],
   "source": [
    "import os\n",
    "import json\n",
    "import pandas as pd\n",
    "import numpy as np\n",
    "import json\n",
    "import logging ### to monitor the code\n",
    "from bs4 import BeautifulSoup\n",
    "import xml.etree.cElementTree as ET\n",
    "import pickle\n",
    "import math\n",
    "import random\n",
    "import sys\n",
    "import csv\n",
    "import unicodedata\n",
    "import requests\n",
    "from urllib.request import urlopen \n",
    "import io\n",
    "import getpass\n",
    "import re\n",
    "from collections import defaultdict\n",
    "from itertools import islice # to iterate through dicts\n",
    "\n",
    "import nltk\n",
    "from nltk.collocations import *\n",
    "\n",
    "\n",
    "### plotting\n",
    "### to use latex (important for greek fonts)\n",
    "#! apt-get install texlive-latex-recommended \n",
    "#! apt install texlive-latex-extra\n",
    "#! apt install dvipng\n",
    "import matplotlib as mpl\n",
    "import matplotlib.pyplot as plt\n",
    "import seaborn as sns\n",
    "\n",
    "from scipy import stats\n",
    "\n",
    "import gspread\n",
    "from gspread_dataframe import get_as_dataframe, set_with_dataframe\n",
    "from google.oauth2 import service_account # based on google-auth library\n",
    "\n",
    "import sddk\n",
    "\n",
    "#from anda import gr\n",
    "# OR uncomment the following:\n",
    "script_url = \"https://raw.githubusercontent.com/sdam-au/anda_py/master/anda/gr.py\"\n",
    "exec(requests.get(script_url).content)"
   ]
  },
  {
   "cell_type": "code",
   "execution_count": 2,
   "metadata": {
    "colab": {
     "base_uri": "https://localhost:8080/",
     "height": 85
    },
    "colab_type": "code",
    "executionInfo": {
     "elapsed": 11242,
     "status": "ok",
     "timestamp": 1588774498489,
     "user": {
      "displayName": "Vojtěch Kaše",
      "photoUrl": "https://lh3.googleusercontent.com/a-/AOh14Ggz3jS9e7I3GdIEbyBKFtqr9tPdNCwyLBEJwbK8cw=s64",
      "userId": "01399835024022498543"
     },
     "user_tz": -120
    },
    "id": "cmC88KhGh7n2",
    "outputId": "4356c03e-47e1-4a6b-dc69-cf21efc97e0f"
   },
   "outputs": [
    {
     "name": "stdout",
     "output_type": "stream",
     "text": [
      "sciencedata.dk username (format '123456@au.dk'): 648597@au.dk\n",
      "sciencedata.dk password: ········\n",
      "connection with shared folder established with you as its owner\n",
      "endpoint variable has been configured to: https://sciencedata.dk/files/SDAM_root/\n"
     ]
    }
   ],
   "source": [
    "conf = sddk.configure(\"SDAM_root\", \"648597@au.dk\")"
   ]
  },
  {
   "cell_type": "code",
   "execution_count": 3,
   "metadata": {
    "colab": {},
    "colab_type": "code",
    "id": "_wKUMZ-yjvEn"
   },
   "outputs": [],
   "source": [
    "# to access gsheet, you need Google Service Account key json file\n",
    "# I have mine located in my personal space on sciencedata.dk, so I read it from there:\n",
    "\n",
    "# (1) read the file and parse its content\n",
    "file_data = conf[0].get(\"https://sciencedata.dk/files/ServiceAccountsKey.json\").json()\n",
    "# (2) transform the content into crendentials object\n",
    "credentials = service_account.Credentials.from_service_account_info(file_data)\n",
    "# (3) specify your usage of the credentials\n",
    "scoped_credentials = credentials.with_scopes(['https://spreadsheets.google.com/feeds', 'https://www.googleapis.com/auth/drive'])\n",
    "# (4) use the constrained credentials for authentication of gspread package\n",
    "gc = gspread.Client(auth=scoped_credentials)\n",
    "\n",
    "AGT_overview = gc.open_by_url(\"https://docs.google.com/spreadsheets/d/1iVta_FuEDgUM_Lf_yByrdbbXNoVH_dnVZs6QRyYv1NM/edit?usp=sharing\")\n",
    "\n",
    "# AGT_metadata = gc.open_by_url(\"https://docs.google.com/spreadsheets/d/1hEUnL3E07F-EnE3wYnk1V91aXfPDrcnhFHKjD-04CM0/edit?usp=sharing\")"
   ]
  },
  {
   "cell_type": "code",
   "execution_count": 5,
   "metadata": {},
   "outputs": [],
   "source": [
    "# import the data\n",
    "AGT = sddk.read_file(\"SDAM_data/AGT/AGT_dated_20201027.json\", \"df\", conf)"
   ]
  },
  {
   "cell_type": "markdown",
   "metadata": {
    "colab_type": "text",
    "id": "w4W20C24h4i6"
   },
   "source": [
    "# Lemmatization"
   ]
  },
  {
   "cell_type": "code",
   "execution_count": 6,
   "metadata": {
    "colab": {},
    "colab_type": "code",
    "id": "fuSy8EjJhqfx"
   },
   "outputs": [],
   "source": [
    "AGT[\"lemmata\"] = AGT.apply(lambda row: lemmatize_string(row[\"string\"], all_lemmata=False, filter_by_postag=[\"n\", \"a\", \"v\"], involve_unknown=True), axis=1)"
   ]
  },
  {
   "cell_type": "code",
   "execution_count": 7,
   "metadata": {
    "colab": {
     "base_uri": "https://localhost:8080/",
     "height": 34
    },
    "colab_type": "code",
    "executionInfo": {
     "elapsed": 562,
     "status": "ok",
     "timestamp": 1588778017873,
     "user": {
      "displayName": "Vojtěch Kaše",
      "photoUrl": "https://lh3.googleusercontent.com/a-/AOh14Ggz3jS9e7I3GdIEbyBKFtqr9tPdNCwyLBEJwbK8cw=s64",
      "userId": "01399835024022498543"
     },
     "user_tz": -120
    },
    "id": "Ma5jS1U4lU9M",
    "outputId": "e6982d6f-e208-440f-eb8e-2bf233fe17d0"
   },
   "outputs": [
    {
     "data": {
      "text/plain": [
       "13926141"
      ]
     },
     "execution_count": 7,
     "metadata": {},
     "output_type": "execute_result"
    }
   ],
   "source": [
    "AGT[\"lemmata_wordcount\"] = AGT.apply(lambda row: len(row[\"lemmata\"]), axis=1)\n",
    "AGT[\"lemmata_wordcount\"].sum()"
   ]
  },
  {
   "cell_type": "code",
   "execution_count": 8,
   "metadata": {
    "colab": {},
    "colab_type": "code",
    "id": "m_gRYawLZYaF"
   },
   "outputs": [
    {
     "name": "stdout",
     "output_type": "stream",
     "text": [
      "CPU times: user 2min 30s, sys: 315 ms, total: 2min 30s\n",
      "Wall time: 2min 31s\n"
     ]
    }
   ],
   "source": [
    "%%time\n",
    "AGT[\"lemmatized_sentences\"] = AGT.apply(lambda row: get_lemmatized_sentences(row[\"string\"], all_lemmata=False, filter_by_postag=[\"n\", \"a\", \"v\"], involve_unknown=True), axis=1)"
   ]
  },
  {
   "cell_type": "code",
   "execution_count": 13,
   "metadata": {},
   "outputs": [],
   "source": [
    "AGT[\"n_sentences\"] = AGT['lemmatized_sentences'].apply(lambda x: len(x))"
   ]
  },
  {
   "cell_type": "code",
   "execution_count": 12,
   "metadata": {},
   "outputs": [
    {
     "data": {
      "text/plain": [
       "'\\n\\n                    ΠΑΥΛΟΣ ἀπόστολος, οὐκ ἀπʼ ἀνθρώπων οὐδὲ διʼ ἀνθρώπου\\n\\nἀλλὰ διὰ Ἰησοῦ Χριστοῦ καὶ θεοῦ πατρὸς τοῦ\\n\\nἐγείραντος αὐτὸν ἐκ νεκρῶν,\\n                     \\n                    καὶ οἱ σὺν ἐμοὶ πάντες\\n\\nἀδελφοί, ταῖς ἐκκλησίαις τῆς Γαλατίας·\\n                     \\n                    χάρις ὑμῖν καὶ\\n\\n\\n\\n εἰρήνη ἀπὸ θεοῦ πατρὸς ἡμῶν καὶ κυρίου Ἰησοῦ Χριστοῦ,\\n                     \\n                    τοῦ δόντος ἑαυτὸν ὑπὲρ τῶν ἁμαρτιῶν ἡμῶν ὅπως ἐξέληται\\n\\nἡμᾶς ἐκ τοῦ αἰῶνος τοῦ ἐνεστῶτος πονηροῦ κατὰ τὸ\\n\\nθέλημα τοῦ θεοῦ καὶ πατρὸς ἡμῶν,\\n                     \\n                    ᾧ ἡ δόξα εἰς τοὺς\\n\\nαἰῶνας τῶν αἰώνων· ἀμήν.\\n                     \\n\\n                    Θαυμάζω ὅτι οὕτως ταχέως μετατίθεσθε ἀπὸ τοῦ καλέσαντος\\n\\nὑμᾶς ἐν χάριτι Χριστοῦ εἰς ἕτερον εὐαγγέλιον,\\n                     \\n                    ὃ\\n\\nοὐκ ἔστιν ἄλλο· εἰ μή τινές εἰσιν οἱ ταράσσοντες ὑμᾶς καὶ\\n\\nθέλοντες μεταστρέψαι τὸ εὐαγγέλιον τοῦ χριστοῦ.\\n                     \\n                    ἀλλὰ\\n\\nκαὶ ἐὰν ἡμεῖς ἢ ἄγγ'"
      ]
     },
     "execution_count": 12,
     "metadata": {},
     "output_type": "execute_result"
    }
   ],
   "source": [
    "# look at some string\n",
    "# e.g. paul's letter to the Galatians\n",
    "AGT[AGT[\"author_id\"]==\"tlg0031paul\"].iloc[3][\"string\"][:1000]"
   ]
  },
  {
   "cell_type": "code",
   "execution_count": 10,
   "metadata": {},
   "outputs": [
    {
     "name": "stdout",
     "output_type": "stream",
     "text": [
      "['παυλος', 'ἀπόστολος', 'ἀπʼ', 'ἄνθρωπος', 'διʼ', 'ἄνθρωπος', 'Ἰησοῦς', 'χριστός', 'θεός', 'πατήρ', 'νεκρός', 'πᾶς', 'ἀδελφός', 'ἐκκλησία', 'γαλατίας', 'χάρις', 'ὑμῖν', 'εἰρήνη', 'θεός', 'πατήρ', 'ἡμός', 'κύριος', 'Ἰησοῦς', 'χριστός', 'ἁμάρτημα', 'ἡμός', 'ἐξαιρέω', 'ἡμός', 'αἰών', 'πονηρός', 'θέλημα', 'θεός', 'πατήρ', 'ἡμός', 'δόξα', 'αἰών', 'αἰών', 'ἄμη', 'θαυμάζω', 'μετατίθημι', 'χάρις', 'χριστός', 'ἕτερος', 'εὐαγγέλιον', 'τίνω', 'εἶμι', 'μεταστρέφω', 'εὐαγγέλιον', 'χριστός', 'ἄγγελος', 'οὐρανός', 'εὐαγγελίζομαι', 'ὑμῖν', 'παρʼ', 'εὐηγγελισάμεθα', 'ὑμῖν', 'ἀνάθεμα', 'προερέω', 'λέγω', 'εἶμι', 'εὐαγγελίζομαι', 'παρʼ', 'παραλαμβάνω', 'ἀνάθεμα', 'ἄνθρωπος', 'πειθός', 'θεός', 'ζάω', 'ἄνθρωπος', 'ἀρέσκω', 'ἄνθρωπος', 'ἀρέσκω', 'χριστός', 'δοῦλος', 'γνωρίζω', 'ὑμῖν', 'ἀδελφός', 'εὐαγγέλιον', 'εὐαγγελίζομαι', 'ὑπʼ', 'ἄνθρωπος', 'ἄνθρωπος', 'παραλαμβάνω', 'διδάσκω', 'διʼ', 'ἀποκάλυψις', 'Ἰησοῦς', 'χριστός', 'ἀκούω', 'ἐμην', 'ἀναστροφή', 'ποτός', 'ἰουδαϊσμῷ', 'ὑπερβολην', 'διώκω', 'ἐκκλησία', 'θεός', 'πορθέω', 'προκόπτω', 'ἰουδαϊσμῷ']\n"
     ]
    }
   ],
   "source": [
    "# and its lemmatized version\n",
    "print(AGT[AGT[\"author_id\"]==\"tlg0031paul\"].iloc[3][\"lemmata\"][:100])"
   ]
  },
  {
   "cell_type": "code",
   "execution_count": 14,
   "metadata": {},
   "outputs": [
    {
     "name": "stdout",
     "output_type": "stream",
     "text": [
      "A file with the same name (\"AGT_20201027.json\") already exists in this location.\n",
      "Press Enter to overwrite it or choose different path and filename: \n",
      "Your <class 'pandas.core.frame.DataFrame'> object has been succefully written as \"https://sciencedata.dk/files/SDAM_root/SDAM_data/AGT/AGT_20201027.json\"\n"
     ]
    }
   ],
   "source": [
    "sddk.write_file(\"SDAM_data/AGT/AGT_20201027.json\", AGT, conf)"
   ]
  },
  {
   "cell_type": "code",
   "execution_count": null,
   "metadata": {},
   "outputs": [],
   "source": []
  }
 ],
 "metadata": {
  "colab": {
   "authorship_tag": "ABX9TyM+taOvEihjuZ2k0d8Zjz/M",
   "collapsed_sections": [],
   "name": "2_METADATA&LEMMATIZATION&OVERVIEW.ipynb",
   "provenance": [],
   "toc_visible": true
  },
  "kernelspec": {
   "display_name": "Python 3",
   "language": "python",
   "name": "python3"
  },
  "language_info": {
   "codemirror_mode": {
    "name": "ipython",
    "version": 3
   },
   "file_extension": ".py",
   "mimetype": "text/x-python",
   "name": "python",
   "nbconvert_exporter": "python",
   "pygments_lexer": "ipython3",
   "version": "3.6.9"
  }
 },
 "nbformat": 4,
 "nbformat_minor": 1
}
